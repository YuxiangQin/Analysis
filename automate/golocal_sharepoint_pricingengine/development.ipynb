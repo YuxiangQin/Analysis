{
 "cells": [
  {
   "cell_type": "code",
   "execution_count": 2,
   "metadata": {},
   "outputs": [],
   "source": [
    "# update your password\n",
    "# from mlutils import storage\n",
    "# storage.update_secret(\"password_for_sharepoint_bq_transfer\", \"YOUR_PASS_WORD\")"
   ]
  },
  {
   "cell_type": "code",
   "execution_count": 1,
   "metadata": {},
   "outputs": [],
   "source": [
    "from sharepoint_pricingengine import get_data, clean_data, create_log, send_email, to_bq, main, create_excel_file"
   ]
  },
  {
   "cell_type": "code",
   "execution_count": 2,
   "metadata": {},
   "outputs": [],
   "source": [
    "df = get_data()"
   ]
  },
  {
   "cell_type": "code",
   "execution_count": 3,
   "metadata": {},
   "outputs": [],
   "source": [
    "# manually add a duplicated row\n",
    "df.loc[len(df.index)] = ['1021', 'Advance Auto Parts', '104081', 'Small Parcel', '2022-07-26', 'Current', 'Manual']"
   ]
  },
  {
   "cell_type": "code",
   "execution_count": 4,
   "metadata": {},
   "outputs": [],
   "source": [
    "# manually add a missing row\n",
    "df.loc[len(df.index)] = ['1021', 'Advance Auto Parts', '104081', 'Small Parcel', None, 'Current', 'Manual']"
   ]
  },
  {
   "cell_type": "code",
   "execution_count": 5,
   "metadata": {},
   "outputs": [],
   "source": [
    "missing, duplicated = clean_data(df)"
   ]
  },
  {
   "cell_type": "code",
   "execution_count": 6,
   "metadata": {},
   "outputs": [
    {
     "data": {
      "text/html": [
       "<div>\n",
       "<style scoped>\n",
       "    .dataframe tbody tr th:only-of-type {\n",
       "        vertical-align: middle;\n",
       "    }\n",
       "\n",
       "    .dataframe tbody tr th {\n",
       "        vertical-align: top;\n",
       "    }\n",
       "\n",
       "    .dataframe thead th {\n",
       "        text-align: right;\n",
       "    }\n",
       "</style>\n",
       "<table border=\"1\" class=\"dataframe\">\n",
       "  <thead>\n",
       "    <tr style=\"text-align: right;\">\n",
       "      <th></th>\n",
       "      <th>Client_ID</th>\n",
       "      <th>Client_Name</th>\n",
       "      <th>Pickup_Point_ID</th>\n",
       "      <th>Type_Of_Delivery</th>\n",
       "      <th>Start_Date</th>\n",
       "      <th>End_Date</th>\n",
       "      <th>Source</th>\n",
       "    </tr>\n",
       "  </thead>\n",
       "  <tbody>\n",
       "    <tr>\n",
       "      <th>16537</th>\n",
       "      <td>1021</td>\n",
       "      <td>Advance Auto Parts</td>\n",
       "      <td>104081</td>\n",
       "      <td>Small Parcel</td>\n",
       "      <td>None</td>\n",
       "      <td>2262-04-11</td>\n",
       "      <td>Manual</td>\n",
       "    </tr>\n",
       "  </tbody>\n",
       "</table>\n",
       "</div>"
      ],
      "text/plain": [
       "      Client_ID         Client_Name Pickup_Point_ID Type_Of_Delivery  \\\n",
       "16537      1021  Advance Auto Parts          104081     Small Parcel   \n",
       "\n",
       "      Start_Date    End_Date  Source  \n",
       "16537       None  2262-04-11  Manual  "
      ]
     },
     "execution_count": 6,
     "metadata": {},
     "output_type": "execute_result"
    }
   ],
   "source": [
    "missing"
   ]
  },
  {
   "cell_type": "code",
   "execution_count": 7,
   "metadata": {},
   "outputs": [
    {
     "data": {
      "text/html": [
       "<div>\n",
       "<style scoped>\n",
       "    .dataframe tbody tr th:only-of-type {\n",
       "        vertical-align: middle;\n",
       "    }\n",
       "\n",
       "    .dataframe tbody tr th {\n",
       "        vertical-align: top;\n",
       "    }\n",
       "\n",
       "    .dataframe thead th {\n",
       "        text-align: right;\n",
       "    }\n",
       "</style>\n",
       "<table border=\"1\" class=\"dataframe\">\n",
       "  <thead>\n",
       "    <tr style=\"text-align: right;\">\n",
       "      <th></th>\n",
       "      <th>Client_ID</th>\n",
       "      <th>Client_Name</th>\n",
       "      <th>Pickup_Point_ID</th>\n",
       "      <th>Type_Of_Delivery</th>\n",
       "      <th>Start_Date</th>\n",
       "      <th>End_Date</th>\n",
       "      <th>Source</th>\n",
       "    </tr>\n",
       "  </thead>\n",
       "  <tbody>\n",
       "    <tr>\n",
       "      <th>16535</th>\n",
       "      <td>1021</td>\n",
       "      <td>Advance Auto Parts</td>\n",
       "      <td>104081</td>\n",
       "      <td>Small Parcel</td>\n",
       "      <td>2022-07-26</td>\n",
       "      <td>2262-04-11</td>\n",
       "      <td>Manual</td>\n",
       "    </tr>\n",
       "    <tr>\n",
       "      <th>16536</th>\n",
       "      <td>1021</td>\n",
       "      <td>Advance Auto Parts</td>\n",
       "      <td>104081</td>\n",
       "      <td>Small Parcel</td>\n",
       "      <td>2022-07-26</td>\n",
       "      <td>2262-04-11</td>\n",
       "      <td>Manual</td>\n",
       "    </tr>\n",
       "  </tbody>\n",
       "</table>\n",
       "</div>"
      ],
      "text/plain": [
       "       Client_ID         Client_Name  Pickup_Point_ID Type_Of_Delivery  \\\n",
       "16535       1021  Advance Auto Parts           104081     Small Parcel   \n",
       "16536       1021  Advance Auto Parts           104081     Small Parcel   \n",
       "\n",
       "       Start_Date    End_Date  Source  \n",
       "16535  2022-07-26  2262-04-11  Manual  \n",
       "16536  2022-07-26  2262-04-11  Manual  "
      ]
     },
     "execution_count": 7,
     "metadata": {},
     "output_type": "execute_result"
    }
   ],
   "source": [
    "duplicated"
   ]
  },
  {
   "cell_type": "code",
   "execution_count": 8,
   "metadata": {},
   "outputs": [
    {
     "data": {
      "text/plain": [
       "<email.mime.application.MIMEApplication at 0x7f91df475ef0>"
      ]
     },
     "execution_count": 8,
     "metadata": {},
     "output_type": "execute_result"
    }
   ],
   "source": [
    "# test create_excel_file function\n",
    "create_excel_file({'Missing': missing, 'Duplicated': duplicated})"
   ]
  },
  {
   "cell_type": "code",
   "execution_count": 11,
   "metadata": {},
   "outputs": [],
   "source": [
    "bq_res = to_bq(df)\n",
    "is_success, log_body = bq_res\n",
    "# send log based on upload to BigQuery result\n",
    "if is_success:\n",
    "    attachment = create_excel_file({'Missing': missing, 'Duplicated': duplicated})\n",
    "    if attachment is not None:\n",
    "        log_body += log_body_with_attachment\n",
    "        msg = create_log(log_body, is_failed=False, attachment=attachment)\n",
    "        send_email(msg)\n",
    "    else:\n",
    "        msg = create_log(log_body, is_failed=True)\n",
    "        send_email(msg)"
   ]
  },
  {
   "cell_type": "code",
   "execution_count": 9,
   "metadata": {},
   "outputs": [],
   "source": [
    "# test fail email notification\n",
    "log_body = \"TEST on FAIL\"\n",
    "msg = create_log(log_body, is_failed=True)\n",
    "send_email(msg)"
   ]
  }
 ],
 "metadata": {
  "kernelspec": {
   "display_name": "bigquery_sharepoint",
   "language": "python",
   "name": "57369"
  },
  "language_info": {
   "codemirror_mode": {
    "name": "ipython",
    "version": 3
   },
   "file_extension": ".py",
   "mimetype": "text/x-python",
   "name": "python",
   "nbconvert_exporter": "python",
   "pygments_lexer": "ipython3",
   "version": "3.7.0"
  }
 },
 "nbformat": 4,
 "nbformat_minor": 4
}
