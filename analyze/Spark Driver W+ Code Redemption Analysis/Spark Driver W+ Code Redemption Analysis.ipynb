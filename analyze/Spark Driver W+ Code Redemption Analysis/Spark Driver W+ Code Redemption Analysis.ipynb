{
 "cells": [
  {
   "cell_type": "code",
   "execution_count": 1,
   "id": "d087fbb4",
   "metadata": {},
   "outputs": [],
   "source": [
    "import os.path\n",
    "import json\n",
    "import pandas as pd\n",
    "import io\n",
    "import pytz\n",
    "from datetime import datetime\n",
    "\n",
    "# sharepoint connection\n",
    "from office365.runtime.auth.authentication_context import AuthenticationContext\n",
    "from office365.sharepoint.client_context import ClientContext\n",
    "from office365.sharepoint.files.file import File\n",
    "\n",
    "#Element password storage\n",
    "try:\n",
    "    from mlutils import storage\n",
    "    PASSWORD = storage.get_secret(\"password_for_sharepoint_bq_transfer\")\n",
    "except ImportError:\n",
    "    # read from local .env file\n",
    "    from dotenv import load_dotenv\n",
    "    import os\n",
    "    load_dotenv()\n",
    "    PASSWORD = os.getenv('PASSWORD')\n",
    "\n",
    "# Bigquery\n",
    "from google.cloud import bigquery\n",
    "\n",
    "try:\n",
    "    from mlutils import dataset, connector # Element environment connectors\n",
    "    APP_PATH = '/home/jupyter/automation/inhome/'\n",
    "except ImportError:\n",
    "    APP_PATH = \"\""
   ]
  },
  {
   "cell_type": "code",
   "execution_count": 2,
   "id": "f00c729b",
   "metadata": {},
   "outputs": [],
   "source": [
    "def get_config(APP_PATH, config_file):\n",
    "    '''Return config file'''\n",
    "    config_path = os.path.join(APP_PATH, config_file)\n",
    "    with open(config_path, 'r') as file:\n",
    "        config = json.load(file)\n",
    "    return config"
   ]
  },
  {
   "cell_type": "code",
   "execution_count": 3,
   "id": "56de8365",
   "metadata": {},
   "outputs": [],
   "source": [
    "CONFIG = get_config(APP_PATH, \"config.json\")\n",
    "\n",
    "url = CONFIG['url']\n",
    "username = CONFIG['username']\n",
    "folder_path = CONFIG['folder_path']\n",
    "file_name = CONFIG['file_name']\n",
    "file_path = os.path.join(folder_path, file_name).replace(\"\\\\\", \"/\")\n",
    "#sheet_name = CONFIG['sheet_name']"
   ]
  },
  {
   "cell_type": "code",
   "execution_count": 4,
   "id": "537dc375",
   "metadata": {},
   "outputs": [],
   "source": [
    "# context setup\n",
    "ctx_auth = AuthenticationContext(url)\n",
    "ctx_auth.acquire_token_for_user(username, PASSWORD)\n",
    "ctx = ClientContext(url, ctx_auth)"
   ]
  },
  {
   "cell_type": "markdown",
   "id": "d8b62a79",
   "metadata": {},
   "source": [
    "### Spark W+ Redemption Files"
   ]
  },
  {
   "cell_type": "code",
   "execution_count": 5,
   "id": "4c816782",
   "metadata": {},
   "outputs": [],
   "source": [
    "def get_data_redemption(folder_path):\n",
    "    # get folder\n",
    "    folder = ctx.web.get_folder_by_server_relative_url(folder_path)\n",
    "    ctx.load(folder)\n",
    "    ctx.execute_query()\n",
    "\n",
    "    # get files\n",
    "    files = folder.files\n",
    "    ctx.load(files)\n",
    "    ctx.execute_query()\n",
    "\n",
    "    # initialize an empty dataframe\n",
    "    all_data = pd.DataFrame()\n",
    "\n",
    "    # read all files in the folder\n",
    "    for file in files:\n",
    "        print(file.properties[\"Name\"])\n",
    "        if file.properties[\"Name\"].endswith('.csv'):\n",
    "            # get file\n",
    "            file = File.open_binary(ctx, folder_path + file.properties[\"Name\"])\n",
    "\n",
    "            # read file content into a pandas dataframe\n",
    "            data = io.StringIO(file.content.decode())\n",
    "            df = pd.read_csv(data)\n",
    "\n",
    "            # append data to all_data dataframe\n",
    "            all_data = pd.concat([all_data, df])\n",
    "\n",
    "        elif file.properties[\"Name\"].endswith('.xlsx'):\n",
    "            # get file\n",
    "            file = ctx.web.get_file_by_server_relative_url(folder_path + file.properties[\"Name\"]).get().execute_query()\n",
    "            content = file.read()\n",
    "            df = pd.read_excel(content)\n",
    "\n",
    "            # append data to all_data dataframe\n",
    "            all_data = pd.concat([all_data, df])\n",
    "\n",
    "    print(\"Done\")\n",
    "    return all_data"
   ]
  },
  {
   "cell_type": "code",
   "execution_count": 6,
   "id": "007807ef",
   "metadata": {},
   "outputs": [
    {
     "name": "stdout",
     "output_type": "stream",
     "text": [
      "Aug 2024.csv\n",
      "May 2024.csv\n",
      "Spark - Oct 2024.xlsx\n",
      "April 2024.csv\n",
      "January 2024.xlsx\n",
      "Dec 2023.xlsx\n",
      "March 2024.csv\n",
      "July 2024.csv\n",
      "Sept 2024.csv\n",
      "Nov 2024.csv\n",
      "Feb 2024.xlsx\n",
      "June 2024.csv\n",
      "Done\n"
     ]
    }
   ],
   "source": [
    "all_data_redemption = get_data_redemption(folder_path)"
   ]
  },
  {
   "cell_type": "code",
   "execution_count": 7,
   "id": "4be1b463",
   "metadata": {},
   "outputs": [
    {
     "name": "stdout",
     "output_type": "stream",
     "text": [
      "<class 'pandas.core.frame.DataFrame'>\n",
      "Index: 184165 entries, 0 to 14751\n",
      "Data columns (total 19 columns):\n",
      " #   Column               Non-Null Count   Dtype  \n",
      "---  ------               --------------   -----  \n",
      " 0   pg_cust_id           131650 non-null  object \n",
      " 1   PRTNR_PGM_NM         184165 non-null  object \n",
      " 2   PROMO_CD             184165 non-null  object \n",
      " 3   redem_month          184165 non-null  int64  \n",
      " 4   order_plcd_mnth      110589 non-null  float64\n",
      " 5   total_orders_amount  110589 non-null  float64\n",
      " 6   EMAIL_ID             153364 non-null  object \n",
      " 7   PG_CUST_ID           21736 non-null   object \n",
      " 8   Unnamed: 7           0 non-null       float64\n",
      " 9   Unnamed: 8           0 non-null       float64\n",
      " 10  Unnamed: 9           0 non-null       float64\n",
      " 11  Unnamed: 10          2 non-null       float64\n",
      " 12  Unnamed: 11          0 non-null       float64\n",
      " 13  Unnamed: 12          1 non-null       float64\n",
      " 14  Unnamed: 5           0 non-null       float64\n",
      " 15  Unnamed: 6           0 non-null       float64\n",
      " 16  13930                1 non-null       object \n",
      " 17  8013                 1 non-null       object \n",
      " 18  0.5752333094041637   0 non-null       float64\n",
      "dtypes: float64(11), int64(1), object(7)\n",
      "memory usage: 28.1+ MB\n"
     ]
    }
   ],
   "source": [
    "all_data_redemption.info()"
   ]
  },
  {
   "cell_type": "markdown",
   "id": "1240e522",
   "metadata": {},
   "source": [
    "#### Clean and upload"
   ]
  },
  {
   "cell_type": "code",
   "execution_count": 8,
   "id": "2d4b618e",
   "metadata": {},
   "outputs": [
    {
     "data": {
      "text/plain": [
       "Index([         'pg_cust_id',        'PRTNR_PGM_NM',            'PROMO_CD',\n",
       "               'redem_month',     'order_plcd_mnth', 'total_orders_amount',\n",
       "                  'EMAIL_ID',          'PG_CUST_ID',          'Unnamed: 7',\n",
       "                'Unnamed: 8',          'Unnamed: 9',         'Unnamed: 10',\n",
       "               'Unnamed: 11',         'Unnamed: 12',          'Unnamed: 5',\n",
       "                'Unnamed: 6',                 13930,                  8013,\n",
       "          0.5752333094041637],\n",
       "      dtype='object')"
      ]
     },
     "execution_count": 8,
     "metadata": {},
     "output_type": "execute_result"
    }
   ],
   "source": [
    "all_data_redemption.columns"
   ]
  },
  {
   "cell_type": "code",
   "execution_count": 9,
   "id": "776862aa",
   "metadata": {},
   "outputs": [],
   "source": [
    "all_data_redemption_clean = all_data_redemption[['PRTNR_PGM_NM', 'PROMO_CD', 'redem_month',\n",
    "                                                 'order_plcd_mnth', 'total_orders_amount', 'EMAIL_ID']].copy()"
   ]
  },
  {
   "cell_type": "code",
   "execution_count": 13,
   "id": "a9806d40",
   "metadata": {},
   "outputs": [],
   "source": [
    "# trim email id\n",
    "all_data_redemption_clean['EMAIL_ID'] = all_data_redemption_clean['EMAIL_ID'].str.strip()\n",
    "\n",
    "# generate year\n",
    "def assign_year(month):\n",
    "    if month == 12:\n",
    "        return 2023\n",
    "    else:\n",
    "        return 2024\n",
    "\n",
    "all_data_redemption_clean['redem_year'] = all_data_redemption_clean['redem_month'].apply(assign_year)\n",
    "\n",
    "# generate month string\n",
    "month_map = {\n",
    "    1: \"Jan\",\n",
    "    2: \"Feb\",\n",
    "    3: \"Mar\",\n",
    "    4: \"Apr\",\n",
    "    5: \"May\",\n",
    "    6: \"Jun\",\n",
    "    7: \"Jul\",\n",
    "    8: \"Aug\",\n",
    "    9: \"Sep\",\n",
    "    10: \"Oct\",\n",
    "    11: \"Nov\",\n",
    "    12: \"Dec\"\n",
    "}\n",
    "\n",
    "all_data_redemption_clean['redem_month_str'] = all_data_redemption_clean['redem_month'].map(month_map)\n",
    "all_data_redemption_clean['order_plcd_month_str'] = all_data_redemption_clean['order_plcd_mnth'].map(month_map)"
   ]
  },
  {
   "cell_type": "code",
   "execution_count": 14,
   "id": "8b4447d4",
   "metadata": {},
   "outputs": [
    {
     "data": {
      "text/html": [
       "<div>\n",
       "<style scoped>\n",
       "    .dataframe tbody tr th:only-of-type {\n",
       "        vertical-align: middle;\n",
       "    }\n",
       "\n",
       "    .dataframe tbody tr th {\n",
       "        vertical-align: top;\n",
       "    }\n",
       "\n",
       "    .dataframe thead th {\n",
       "        text-align: right;\n",
       "    }\n",
       "</style>\n",
       "<table border=\"1\" class=\"dataframe\">\n",
       "  <thead>\n",
       "    <tr style=\"text-align: right;\">\n",
       "      <th></th>\n",
       "      <th>PRTNR_PGM_NM</th>\n",
       "      <th>PROMO_CD</th>\n",
       "      <th>redem_month</th>\n",
       "      <th>order_plcd_mnth</th>\n",
       "      <th>total_orders_amount</th>\n",
       "      <th>EMAIL_ID</th>\n",
       "      <th>redem_year</th>\n",
       "      <th>redem_month_str</th>\n",
       "      <th>order_plcd_month_str</th>\n",
       "    </tr>\n",
       "  </thead>\n",
       "  <tbody>\n",
       "    <tr>\n",
       "      <th>0</th>\n",
       "      <td>sparkpromo21</td>\n",
       "      <td>SPAE25Q4RHZ</td>\n",
       "      <td>8</td>\n",
       "      <td>8.0</td>\n",
       "      <td>1200.18</td>\n",
       "      <td>yadiraanibal@yahoo.com</td>\n",
       "      <td>2024</td>\n",
       "      <td>Aug</td>\n",
       "      <td>Aug</td>\n",
       "    </tr>\n",
       "    <tr>\n",
       "      <th>1</th>\n",
       "      <td>sparkpromo21</td>\n",
       "      <td>SPA6NBKYJ26</td>\n",
       "      <td>8</td>\n",
       "      <td>8.0</td>\n",
       "      <td>486.12</td>\n",
       "      <td>toddcurriejr@yahoo.com</td>\n",
       "      <td>2024</td>\n",
       "      <td>Aug</td>\n",
       "      <td>Aug</td>\n",
       "    </tr>\n",
       "    <tr>\n",
       "      <th>2</th>\n",
       "      <td>sparkpromo21</td>\n",
       "      <td>SPA6GPN9NM7</td>\n",
       "      <td>8</td>\n",
       "      <td>8.0</td>\n",
       "      <td>277.91</td>\n",
       "      <td>jagyomama@gmail.com</td>\n",
       "      <td>2024</td>\n",
       "      <td>Aug</td>\n",
       "      <td>Aug</td>\n",
       "    </tr>\n",
       "    <tr>\n",
       "      <th>3</th>\n",
       "      <td>sparkpromo21</td>\n",
       "      <td>SPACSD4X3Y6</td>\n",
       "      <td>8</td>\n",
       "      <td>8.0</td>\n",
       "      <td>48.00</td>\n",
       "      <td>joshgregory573@gmail.com</td>\n",
       "      <td>2024</td>\n",
       "      <td>Aug</td>\n",
       "      <td>Aug</td>\n",
       "    </tr>\n",
       "    <tr>\n",
       "      <th>4</th>\n",
       "      <td>sparkpromo21</td>\n",
       "      <td>SPAVK3QYS3G</td>\n",
       "      <td>8</td>\n",
       "      <td>NaN</td>\n",
       "      <td>NaN</td>\n",
       "      <td>wahabahmedkolawole@gmail.com</td>\n",
       "      <td>2024</td>\n",
       "      <td>Aug</td>\n",
       "      <td>NaN</td>\n",
       "    </tr>\n",
       "  </tbody>\n",
       "</table>\n",
       "</div>"
      ],
      "text/plain": [
       "   PRTNR_PGM_NM     PROMO_CD  redem_month  order_plcd_mnth  \\\n",
       "0  sparkpromo21  SPAE25Q4RHZ            8              8.0   \n",
       "1  sparkpromo21  SPA6NBKYJ26            8              8.0   \n",
       "2  sparkpromo21  SPA6GPN9NM7            8              8.0   \n",
       "3  sparkpromo21  SPACSD4X3Y6            8              8.0   \n",
       "4  sparkpromo21  SPAVK3QYS3G            8              NaN   \n",
       "\n",
       "   total_orders_amount                      EMAIL_ID  redem_year  \\\n",
       "0              1200.18        yadiraanibal@yahoo.com        2024   \n",
       "1               486.12        toddcurriejr@yahoo.com        2024   \n",
       "2               277.91           jagyomama@gmail.com        2024   \n",
       "3                48.00      joshgregory573@gmail.com        2024   \n",
       "4                  NaN  wahabahmedkolawole@gmail.com        2024   \n",
       "\n",
       "  redem_month_str order_plcd_month_str  \n",
       "0             Aug                  Aug  \n",
       "1             Aug                  Aug  \n",
       "2             Aug                  Aug  \n",
       "3             Aug                  Aug  \n",
       "4             Aug                  NaN  "
      ]
     },
     "execution_count": 14,
     "metadata": {},
     "output_type": "execute_result"
    }
   ],
   "source": [
    "all_data_redemption_clean.head()"
   ]
  },
  {
   "cell_type": "code",
   "execution_count": 15,
   "id": "d51aff33",
   "metadata": {},
   "outputs": [],
   "source": [
    "CONFIG_R = get_config(APP_PATH, \"config.json\")"
   ]
  },
  {
   "cell_type": "code",
   "execution_count": 16,
   "id": "9f519e1e",
   "metadata": {},
   "outputs": [
    {
     "name": "stderr",
     "output_type": "stream",
     "text": [
      "C:\\Users\\y0q00wv\\Anaconda3\\lib\\site-packages\\google\\auth\\_default.py:70: UserWarning: Your application has authenticated using end user credentials from Google Cloud SDK without a quota project. You might receive a \"quota exceeded\" or \"API not enabled\" error. We recommend you rerun `gcloud auth application-default login` and make sure a quota project is added. Or you can use service accounts instead. For more information about service accounts, see https://cloud.google.com/docs/authentication/\n",
      "  warnings.warn(_CLOUD_SDK_CREDENTIALS_WARNING)\n"
     ]
    },
    {
     "data": {
      "text/plain": [
       "<google.cloud.bigquery.job.load.LoadJob at 0x13f60b68760>"
      ]
     },
     "execution_count": 16,
     "metadata": {},
     "output_type": "execute_result"
    }
   ],
   "source": [
    "# load to a BQ table\n",
    "table_id = CONFIG_R['bq_table_nm']\n",
    "job_config = bigquery.LoadJobConfig(write_disposition=\"WRITE_TRUNCATE\") # overwrite existing data\n",
    "\n",
    "client = bigquery.Client()\n",
    "\n",
    "load_job = client.load_table_from_dataframe(all_data_redemption_clean, table_id, job_config=job_config)\n",
    "# Wait for load job to complete.\n",
    "load_job.result()"
   ]
  },
  {
   "cell_type": "code",
   "execution_count": 18,
   "id": "8ae1a774",
   "metadata": {},
   "outputs": [
    {
     "data": {
      "text/html": [
       "<div>\n",
       "<style scoped>\n",
       "    .dataframe tbody tr th:only-of-type {\n",
       "        vertical-align: middle;\n",
       "    }\n",
       "\n",
       "    .dataframe tbody tr th {\n",
       "        vertical-align: top;\n",
       "    }\n",
       "\n",
       "    .dataframe thead th {\n",
       "        text-align: right;\n",
       "    }\n",
       "</style>\n",
       "<table border=\"1\" class=\"dataframe\">\n",
       "  <thead>\n",
       "    <tr style=\"text-align: right;\">\n",
       "      <th></th>\n",
       "      <th>PRTNR_PGM_NM</th>\n",
       "      <th>PROMO_CD</th>\n",
       "      <th>redem_month</th>\n",
       "      <th>order_plcd_mnth</th>\n",
       "      <th>total_orders_amount</th>\n",
       "      <th>EMAIL_ID</th>\n",
       "      <th>redem_year</th>\n",
       "      <th>redem_month_str</th>\n",
       "      <th>order_plcd_month_str</th>\n",
       "    </tr>\n",
       "  </thead>\n",
       "  <tbody>\n",
       "    <tr>\n",
       "      <th>0</th>\n",
       "      <td>sparkpromo21</td>\n",
       "      <td>SPABYQJG3QS</td>\n",
       "      <td>2</td>\n",
       "      <td>2.0</td>\n",
       "      <td>9031.96</td>\n",
       "      <td>NaN</td>\n",
       "      <td>2024</td>\n",
       "      <td>Feb</td>\n",
       "      <td>Feb</td>\n",
       "    </tr>\n",
       "    <tr>\n",
       "      <th>1</th>\n",
       "      <td>sparkpromo21</td>\n",
       "      <td>SPANBYAHCZ7</td>\n",
       "      <td>2</td>\n",
       "      <td>2.0</td>\n",
       "      <td>4736.04</td>\n",
       "      <td>NaN</td>\n",
       "      <td>2024</td>\n",
       "      <td>Feb</td>\n",
       "      <td>Feb</td>\n",
       "    </tr>\n",
       "    <tr>\n",
       "      <th>2</th>\n",
       "      <td>sparkpromo21</td>\n",
       "      <td>SPABR58ZQJ5</td>\n",
       "      <td>2</td>\n",
       "      <td>2.0</td>\n",
       "      <td>4570.55</td>\n",
       "      <td>NaN</td>\n",
       "      <td>2024</td>\n",
       "      <td>Feb</td>\n",
       "      <td>Feb</td>\n",
       "    </tr>\n",
       "    <tr>\n",
       "      <th>3</th>\n",
       "      <td>sparkpromo21</td>\n",
       "      <td>SPAV926Y87U</td>\n",
       "      <td>2</td>\n",
       "      <td>2.0</td>\n",
       "      <td>4101.25</td>\n",
       "      <td>NaN</td>\n",
       "      <td>2024</td>\n",
       "      <td>Feb</td>\n",
       "      <td>Feb</td>\n",
       "    </tr>\n",
       "    <tr>\n",
       "      <th>4</th>\n",
       "      <td>sparkpromo21</td>\n",
       "      <td>SPAQP6P4B4J</td>\n",
       "      <td>2</td>\n",
       "      <td>2.0</td>\n",
       "      <td>3394.35</td>\n",
       "      <td>NaN</td>\n",
       "      <td>2024</td>\n",
       "      <td>Feb</td>\n",
       "      <td>Feb</td>\n",
       "    </tr>\n",
       "  </tbody>\n",
       "</table>\n",
       "</div>"
      ],
      "text/plain": [
       "   PRTNR_PGM_NM     PROMO_CD  redem_month  order_plcd_mnth  \\\n",
       "0  sparkpromo21  SPABYQJG3QS            2              2.0   \n",
       "1  sparkpromo21  SPANBYAHCZ7            2              2.0   \n",
       "2  sparkpromo21  SPABR58ZQJ5            2              2.0   \n",
       "3  sparkpromo21  SPAV926Y87U            2              2.0   \n",
       "4  sparkpromo21  SPAQP6P4B4J            2              2.0   \n",
       "\n",
       "   total_orders_amount EMAIL_ID  redem_year redem_month_str  \\\n",
       "0              9031.96      NaN        2024             Feb   \n",
       "1              4736.04      NaN        2024             Feb   \n",
       "2              4570.55      NaN        2024             Feb   \n",
       "3              4101.25      NaN        2024             Feb   \n",
       "4              3394.35      NaN        2024             Feb   \n",
       "\n",
       "  order_plcd_month_str  \n",
       "0                  Feb  \n",
       "1                  Feb  \n",
       "2                  Feb  \n",
       "3                  Feb  \n",
       "4                  Feb  "
      ]
     },
     "execution_count": 18,
     "metadata": {},
     "output_type": "execute_result"
    }
   ],
   "source": [
    "all_data_redemption_clean[all_data_redemption_clean.redem_month_str == 'Feb'].head()"
   ]
  },
  {
   "cell_type": "markdown",
   "id": "d56f7d38",
   "metadata": {},
   "source": [
    "### Driver Tier Data"
   ]
  },
  {
   "cell_type": "code",
   "execution_count": 121,
   "id": "9b9d7596",
   "metadata": {},
   "outputs": [],
   "source": [
    "CONFIG = get_config(APP_PATH, \"config_driver.json\")"
   ]
  },
  {
   "cell_type": "code",
   "execution_count": 45,
   "id": "afd5f0f5",
   "metadata": {},
   "outputs": [],
   "source": [
    "url = CONFIG['url']\n",
    "username = CONFIG['username']\n",
    "folder_path = CONFIG['folder_path']\n",
    "file_name = CONFIG['file_name']\n",
    "file_path = os.path.join(folder_path, file_name).replace(\"\\\\\", \"/\")\n",
    "sheet_nm = CONFIG['sheet_name']\n",
    "\n",
    "# context setup\n",
    "ctx_auth = AuthenticationContext(url)\n",
    "ctx_auth.acquire_token_for_user(username, PASSWORD)\n",
    "ctx = ClientContext(url, ctx_auth)"
   ]
  },
  {
   "cell_type": "code",
   "execution_count": 34,
   "id": "a46d5287",
   "metadata": {},
   "outputs": [
    {
     "name": "stdout",
     "output_type": "stream",
     "text": [
      "2024MarPerf_RewardApril2024__Driverloyalty_Program_Masterfile.xlsx\n",
      "2024SeptPerf_RewardOct2024__Driverloyalty_Program_Masterfile.xlsx\n",
      "2024OctPerf_RewardNov2024__Driverloyalty_Program_Masterfile.xlsx\n",
      "2024JanPerf_RewardFeb2024__Driverloyalty_Program_Masterfile.xlsx\n",
      "tier1 sheet not found, skip this file\n",
      "2024FebPerf_RewardMar2024__Driverloyalty_Program_Masterfile.xlsx\n",
      "2024AugPerf_RewardSept2024__Driverloyalty_Program_Masterfile2.xlsx\n",
      "2024AprilPerf_RewardMay2024__Driverloyalty_Program_Masterfile.xlsx\n",
      "2024JulyPerf_RewardAug2024__Driverloyalty_Program_Masterfilet.xlsx\n",
      "2024MayPerf_RewardJune2024_Driverloyalty_Program_Masterfile.xlsx\n",
      "Done\n"
     ]
    }
   ],
   "source": [
    "# get folder\n",
    "folder = ctx.web.get_folder_by_server_relative_url(folder_path)\n",
    "ctx.load(folder)\n",
    "ctx.execute_query()\n",
    "\n",
    "# get files\n",
    "files = folder.files\n",
    "ctx.load(files)\n",
    "ctx.execute_query()\n",
    "\n",
    "# initialize an empty dataframe\n",
    "all_data = pd.DataFrame()\n",
    "\n",
    "# read all files in the folder\n",
    "for file in files:\n",
    "    print(file.properties[\"Name\"])\n",
    "    # get file\n",
    "    file = ctx.web.get_file_by_server_relative_url(folder_path + file.properties[\"Name\"]).get().execute_query()\n",
    "    content = file.read()\n",
    "    # Read excel file without specifying sheet_name\n",
    "    xls = pd.ExcelFile(content)\n",
    "\n",
    "    # Convert all sheet names to lowercase and remove spaces\n",
    "    all_sheets = [s.lower().replace(' ', '') for s in xls.sheet_names]\n",
    "\n",
    "    # Now you can match 'tier1' to any of the formatted sheet names\n",
    "    if sheet_nm in all_sheets:\n",
    "        df = pd.read_excel(xls, sheet_name=xls.sheet_names[all_sheets.index('tier1')])\n",
    "        df['file_name'] = file.properties[\"Name\"]\n",
    "        # append data to all_data dataframe\n",
    "        all_data = pd.concat([all_data, df])\n",
    "    else:\n",
    "        print(\"tier1 sheet not found, skip this file\")\n",
    "\n",
    "print(\"Done\")"
   ]
  },
  {
   "cell_type": "code",
   "execution_count": 36,
   "id": "e9cffcea",
   "metadata": {},
   "outputs": [
    {
     "name": "stdout",
     "output_type": "stream",
     "text": [
      "<class 'pandas.core.frame.DataFrame'>\n",
      "Index: 604596 entries, 0 to 76103\n",
      "Data columns (total 23 columns):\n",
      " #   Column                      Non-Null Count   Dtype  \n",
      "---  ------                      --------------   -----  \n",
      " 0   Drvr User Id                604596 non-null  object \n",
      " 1   Drvr First Nm               604595 non-null  object \n",
      " 2   Drvr Last Nm                604594 non-null  object \n",
      " 3   Market Nm                   604596 non-null  object \n",
      " 4   Drvr Actv Status            604596 non-null  object \n",
      " 5   Drvr Loyalty Tier           604596 non-null  object \n",
      " 6   Drvr Loyalty Tier Segment   17610 non-null   object \n",
      " 7   Past Month Completed Trips  604596 non-null  int64  \n",
      " 8   Customer Ratings            604596 non-null  float64\n",
      " 9   Customer Rating Metric      539262 non-null  object \n",
      " 10  file_name                   604596 non-null  object \n",
      " 11  DRVR_UUID                   388531 non-null  object \n",
      " 12  Codes                       65334 non-null   object \n",
      " 13  ATT Codes                   65334 non-null   float64\n",
      " 14  Unnamed: 11                 64553 non-null   object \n",
      " 15  AcceptanceRate Ratings      76104 non-null   float64\n",
      " 16  AcceptanceRate Metrics      76104 non-null   object \n",
      " 17  OTA Ratings                 76104 non-null   float64\n",
      " 18  OTA Metrics                 76104 non-null   object \n",
      " 19  DropRate Ratings            59976 non-null   float64\n",
      " 20  DropRate Metric             59976 non-null   object \n",
      " 21  Last trip                   76104 non-null   object \n",
      " 22  Month                       76104 non-null   object \n",
      "dtypes: float64(5), int64(1), object(17)\n",
      "memory usage: 110.7+ MB\n"
     ]
    }
   ],
   "source": [
    "all_data.info"
   ]
  },
  {
   "cell_type": "code",
   "execution_count": 43,
   "id": "ee50c7a8",
   "metadata": {},
   "outputs": [
    {
     "data": {
      "text/plain": [
       "file_name\n",
       "2024OctPerf_RewardNov2024__Driverloyalty_Program_Masterfile.xlsx      95416\n",
       "2024SeptPerf_RewardOct2024__Driverloyalty_Program_Masterfile.xlsx     85539\n",
       "2024MarPerf_RewardApril2024__Driverloyalty_Program_Masterfile.xlsx    81436\n",
       "2024MayPerf_RewardJune2024_Driverloyalty_Program_Masterfile.xlsx      76104\n",
       "2024AprilPerf_RewardMay2024__Driverloyalty_Program_Masterfile.xlsx    69295\n",
       "2024JulyPerf_RewardAug2024__Driverloyalty_Program_Masterfilet.xlsx    66919\n",
       "2024FebPerf_RewardMar2024__Driverloyalty_Program_Masterfile.xlsx      65334\n",
       "2024AugPerf_RewardSept2024__Driverloyalty_Program_Masterfile2.xlsx    64553\n",
       "Name: count, dtype: int64"
      ]
     },
     "execution_count": 43,
     "metadata": {},
     "output_type": "execute_result"
    }
   ],
   "source": [
    "all_data.file_name.value_counts()"
   ]
  },
  {
   "cell_type": "code",
   "execution_count": 46,
   "id": "148c4274",
   "metadata": {},
   "outputs": [],
   "source": [
    "# Add Jan to all_data\n",
    "\n",
    "file_name = \"2024JanPerf_RewardFeb2024__Driverloyalty_Program_Masterfile.xlsx\"\n",
    "file = ctx.web.get_file_by_server_relative_url(folder_path + file_name).get().execute_query()\n",
    "content = file.read()\n",
    "df = pd.read_excel(content)\n",
    "df['file_name'] = file_name"
   ]
  },
  {
   "cell_type": "code",
   "execution_count": 48,
   "id": "d7998e70",
   "metadata": {},
   "outputs": [],
   "source": [
    "all_data = pd.concat([all_data, df])"
   ]
  },
  {
   "cell_type": "code",
   "execution_count": 52,
   "id": "9eaf9422",
   "metadata": {},
   "outputs": [
    {
     "data": {
      "text/plain": [
       "Drvr Loyalty Tier\n",
       "Tier 1    655313\n",
       "Tier 0     17610\n",
       "Name: count, dtype: int64"
      ]
     },
     "execution_count": 52,
     "metadata": {},
     "output_type": "execute_result"
    }
   ],
   "source": [
    "all_data[\"Drvr Loyalty Tier\"].value_counts()"
   ]
  },
  {
   "cell_type": "markdown",
   "id": "1d11d9ed",
   "metadata": {},
   "source": [
    "#### Remove uneccesary columns"
   ]
  },
  {
   "cell_type": "code",
   "execution_count": 65,
   "id": "914ec537",
   "metadata": {},
   "outputs": [
    {
     "name": "stdout",
     "output_type": "stream",
     "text": [
      "<class 'pandas.core.frame.DataFrame'>\n",
      "Index: 672923 entries, 0 to 68326\n",
      "Data columns (total 25 columns):\n",
      " #   Column                      Non-Null Count   Dtype  \n",
      "---  ------                      --------------   -----  \n",
      " 0   Drvr User Id                672923 non-null  object \n",
      " 1   Drvr First Nm               672922 non-null  object \n",
      " 2   Drvr Last Nm                672921 non-null  object \n",
      " 3   Market Nm                   672923 non-null  object \n",
      " 4   Drvr Actv Status            672923 non-null  object \n",
      " 5   Drvr Loyalty Tier           672923 non-null  object \n",
      " 6   Drvr Loyalty Tier Segment   17610 non-null   object \n",
      " 7   Past Month Completed Trips  672923 non-null  int64  \n",
      " 8   Customer Ratings            672923 non-null  float64\n",
      " 9   Customer Rating Metric      607589 non-null  object \n",
      " 10  file_name                   672923 non-null  object \n",
      " 11  DRVR_UUID                   388531 non-null  object \n",
      " 12  Codes                       65334 non-null   object \n",
      " 13  ATT Codes                   65334 non-null   float64\n",
      " 14  Unnamed: 11                 64553 non-null   object \n",
      " 15  AcceptanceRate Ratings      144431 non-null  float64\n",
      " 16  AcceptanceRate Metrics      144431 non-null  object \n",
      " 17  OTA Ratings                 144431 non-null  float64\n",
      " 18  OTA Metrics                 144431 non-null  object \n",
      " 19  DropRate Ratings            128303 non-null  float64\n",
      " 20  DropRate Metric             128303 non-null  object \n",
      " 21  Last trip                   144431 non-null  object \n",
      " 22  Month                       144431 non-null  object \n",
      " 23  Year                        68327 non-null   float64\n",
      " 24  Unnamed: 19                 68327 non-null   object \n",
      "dtypes: float64(6), int64(1), object(18)\n",
      "memory usage: 133.5+ MB\n"
     ]
    }
   ],
   "source": [
    "all_data.info()"
   ]
  },
  {
   "cell_type": "code",
   "execution_count": 63,
   "id": "08af898d",
   "metadata": {},
   "outputs": [
    {
     "data": {
      "text/plain": [
       "Year\n",
       "2024.0    68327\n",
       "Name: count, dtype: int64"
      ]
     },
     "execution_count": 63,
     "metadata": {},
     "output_type": "execute_result"
    }
   ],
   "source": [
    "all_data.Year.value_counts()"
   ]
  },
  {
   "cell_type": "code",
   "execution_count": 62,
   "id": "588b6f60",
   "metadata": {},
   "outputs": [
    {
     "data": {
      "text/plain": [
       "Month\n",
       "May        76104\n",
       "January    68327\n",
       "Name: count, dtype: int64"
      ]
     },
     "execution_count": 62,
     "metadata": {},
     "output_type": "execute_result"
    }
   ],
   "source": [
    "all_data.Month.value_counts()"
   ]
  },
  {
   "cell_type": "code",
   "execution_count": 61,
   "id": "433978c1",
   "metadata": {},
   "outputs": [
    {
     "data": {
      "text/plain": [
       "file_name\n",
       "2024MayPerf_RewardJune2024_Driverloyalty_Program_Masterfile.xlsx    76104\n",
       "2024JanPerf_RewardFeb2024__Driverloyalty_Program_Masterfile.xlsx    68327\n",
       "Name: count, dtype: int64"
      ]
     },
     "execution_count": 61,
     "metadata": {},
     "output_type": "execute_result"
    }
   ],
   "source": [
    "all_data[all_data.Month.notnull()]['file_name'].value_counts()"
   ]
  },
  {
   "cell_type": "code",
   "execution_count": 68,
   "id": "4b61f2df",
   "metadata": {},
   "outputs": [
    {
     "data": {
      "text/plain": [
       "Unnamed: 11\n",
       "SPADP86J6MZ    1\n",
       "SPAW8NZP7JT    1\n",
       "SPA3YDUWCMQ    1\n",
       "SPAGH9E6FRS    1\n",
       "SPA5RJ3VYPF    1\n",
       "              ..\n",
       "SPAQXUYZE38    1\n",
       "SPAS3W5TXFF    1\n",
       "SPAUMFH3MY6    1\n",
       "SPAS5Y3YG8A    1\n",
       "SPA74QESAY8    1\n",
       "Name: count, Length: 64553, dtype: int64"
      ]
     },
     "execution_count": 68,
     "metadata": {},
     "output_type": "execute_result"
    }
   ],
   "source": [
    "all_data['Unnamed: 11'].value_counts()"
   ]
  },
  {
   "cell_type": "code",
   "execution_count": 69,
   "id": "8630447c",
   "metadata": {},
   "outputs": [
    {
     "data": {
      "text/plain": [
       "Unnamed: 19\n",
       "     68327\n",
       "Name: count, dtype: int64"
      ]
     },
     "execution_count": 69,
     "metadata": {},
     "output_type": "execute_result"
    }
   ],
   "source": [
    "all_data['Unnamed: 19'].value_counts()"
   ]
  },
  {
   "cell_type": "code",
   "execution_count": 70,
   "id": "6eceeeb9",
   "metadata": {},
   "outputs": [
    {
     "data": {
      "text/plain": [
       "Codes\n",
       "SPAV7TKP87E    1\n",
       "SPAEPPMDCCX    1\n",
       "SPABX3XC6EH    1\n",
       "SPATZ4R2Y6A    1\n",
       "SPA7C9S5G2J    1\n",
       "              ..\n",
       "SPA3N6J3TQ4    1\n",
       "SPA9GHYUQZ7    1\n",
       "SPA7JKR3D4E    1\n",
       "SPA48HUG2TR    1\n",
       "SPAZGPF2NA7    1\n",
       "Name: count, Length: 65334, dtype: int64"
      ]
     },
     "execution_count": 70,
     "metadata": {},
     "output_type": "execute_result"
    }
   ],
   "source": [
    "all_data['Codes'].value_counts()"
   ]
  },
  {
   "cell_type": "code",
   "execution_count": 73,
   "id": "739aac84",
   "metadata": {},
   "outputs": [
    {
     "data": {
      "text/plain": [
       "DRVR_UUID\n",
       "A790F8D8-5EEC-4211-8178-5A0A37DA4A42    5\n",
       "6bb2c5c4-0c46-416c-b62a-9d7da841e651    5\n",
       "e0f0e133-f098-44d6-b940-1b6c71135957    5\n",
       "EB0E1910-6A58-4DB4-9D73-61E135155FDB    5\n",
       "671da506-8aa8-4cd9-8d7f-0b33499e79de    5\n",
       "                                       ..\n",
       "d1328db0-f233-41c4-92b2-a5bf2b04eece    1\n",
       "20f9c115-b694-4082-b13b-2332023fcf39    1\n",
       "77051883-EE7D-4A7C-9CB6-CDE6E57D36E2    1\n",
       "665076e5-f2c9-4433-9f33-ccc78283579b    1\n",
       "a6c50dd1-40bb-4494-896b-842298443bd3    1\n",
       "Name: count, Length: 196247, dtype: int64"
      ]
     },
     "execution_count": 73,
     "metadata": {},
     "output_type": "execute_result"
    }
   ],
   "source": [
    "all_data['DRVR_UUID'].value_counts()"
   ]
  },
  {
   "cell_type": "code",
   "execution_count": 75,
   "id": "fe87a7e4",
   "metadata": {},
   "outputs": [
    {
     "data": {
      "text/plain": [
       "0       0.999coins@gmail.com\n",
       "1        0springer3@live.com\n",
       "2    1alexisrochoa@gmail.com\n",
       "3        1b1s4lyfe@gmail.com\n",
       "4       1belladog2@gmail.com\n",
       "Name: Drvr User Id, dtype: object"
      ]
     },
     "execution_count": 75,
     "metadata": {},
     "output_type": "execute_result"
    }
   ],
   "source": [
    "all_data['Drvr User Id'].head()"
   ]
  },
  {
   "cell_type": "code",
   "execution_count": 83,
   "id": "e1bf6359",
   "metadata": {},
   "outputs": [
    {
     "data": {
      "text/plain": [
       "Drvr Loyalty Tier Segment\n",
       "Segment 1    17610\n",
       "Name: count, dtype: int64"
      ]
     },
     "execution_count": 83,
     "metadata": {},
     "output_type": "execute_result"
    }
   ],
   "source": [
    "all_data['Drvr Loyalty Tier Segment'].value_counts()"
   ]
  },
  {
   "cell_type": "code",
   "execution_count": 80,
   "id": "06b808e5",
   "metadata": {},
   "outputs": [
    {
     "data": {
      "text/plain": [
       "file_name\n",
       "2024MarPerf_RewardApril2024__Driverloyalty_Program_Masterfile.xlsx    9840\n",
       "2024AprilPerf_RewardMay2024__Driverloyalty_Program_Masterfile.xlsx    7770\n",
       "Name: count, dtype: int64"
      ]
     },
     "execution_count": 80,
     "metadata": {},
     "output_type": "execute_result"
    }
   ],
   "source": [
    "all_data[all_data['Drvr Loyalty Tier Segment'].notnull()]['file_name'].value_counts()"
   ]
  },
  {
   "cell_type": "code",
   "execution_count": 82,
   "id": "cf2261ac",
   "metadata": {},
   "outputs": [
    {
     "data": {
      "text/plain": [
       "Drvr Loyalty Tier\n",
       "Tier 0    17610\n",
       "Name: count, dtype: int64"
      ]
     },
     "execution_count": 82,
     "metadata": {},
     "output_type": "execute_result"
    }
   ],
   "source": [
    "all_data[all_data['Drvr Loyalty Tier Segment'].notnull()]['Drvr Loyalty Tier'].value_counts()"
   ]
  },
  {
   "cell_type": "code",
   "execution_count": 84,
   "id": "7bebdaa2",
   "metadata": {},
   "outputs": [],
   "source": [
    "remove_columns = ['Drvr Loyalty Tier Segment',\n",
    "                 'Unnamed: 19',\n",
    "                 'Unnamed: 11',\n",
    "                 'Codes',\n",
    "                 'ATT Codes',\n",
    "                 'DRVR_UUID',\n",
    "                 'Month',\n",
    "                 'Year']"
   ]
  },
  {
   "cell_type": "code",
   "execution_count": 85,
   "id": "1f935957",
   "metadata": {},
   "outputs": [],
   "source": [
    "all_data_clean = all_data.drop(columns=remove_columns)"
   ]
  },
  {
   "cell_type": "code",
   "execution_count": 86,
   "id": "9edabada",
   "metadata": {},
   "outputs": [
    {
     "name": "stdout",
     "output_type": "stream",
     "text": [
      "<class 'pandas.core.frame.DataFrame'>\n",
      "Index: 672923 entries, 0 to 68326\n",
      "Data columns (total 17 columns):\n",
      " #   Column                      Non-Null Count   Dtype  \n",
      "---  ------                      --------------   -----  \n",
      " 0   Drvr User Id                672923 non-null  object \n",
      " 1   Drvr First Nm               672922 non-null  object \n",
      " 2   Drvr Last Nm                672921 non-null  object \n",
      " 3   Market Nm                   672923 non-null  object \n",
      " 4   Drvr Actv Status            672923 non-null  object \n",
      " 5   Drvr Loyalty Tier           672923 non-null  object \n",
      " 6   Past Month Completed Trips  672923 non-null  int64  \n",
      " 7   Customer Ratings            672923 non-null  float64\n",
      " 8   Customer Rating Metric      607589 non-null  object \n",
      " 9   file_name                   672923 non-null  object \n",
      " 10  AcceptanceRate Ratings      144431 non-null  float64\n",
      " 11  AcceptanceRate Metrics      144431 non-null  object \n",
      " 12  OTA Ratings                 144431 non-null  float64\n",
      " 13  OTA Metrics                 144431 non-null  object \n",
      " 14  DropRate Ratings            128303 non-null  float64\n",
      " 15  DropRate Metric             128303 non-null  object \n",
      " 16  Last trip                   144431 non-null  object \n",
      "dtypes: float64(4), int64(1), object(12)\n",
      "memory usage: 92.4+ MB\n"
     ]
    }
   ],
   "source": [
    "all_data_clean.info()"
   ]
  },
  {
   "cell_type": "markdown",
   "id": "b657a50b",
   "metadata": {},
   "source": [
    "#### Create Month and Year use `file_name`"
   ]
  },
  {
   "cell_type": "code",
   "execution_count": 94,
   "id": "a2319f99",
   "metadata": {},
   "outputs": [
    {
     "data": {
      "text/plain": [
       "file_name\n",
       "2024OctPerf_RewardNov2024__Driverloyalty_Program_Masterfile.xlsx      95416\n",
       "2024SeptPerf_RewardOct2024__Driverloyalty_Program_Masterfile.xlsx     85539\n",
       "2024MarPerf_RewardApril2024__Driverloyalty_Program_Masterfile.xlsx    81436\n",
       "2024MayPerf_RewardJune2024_Driverloyalty_Program_Masterfile.xlsx      76104\n",
       "2024AprilPerf_RewardMay2024__Driverloyalty_Program_Masterfile.xlsx    69295\n",
       "2024JanPerf_RewardFeb2024__Driverloyalty_Program_Masterfile.xlsx      68327\n",
       "2024JulyPerf_RewardAug2024__Driverloyalty_Program_Masterfilet.xlsx    66919\n",
       "2024FebPerf_RewardMar2024__Driverloyalty_Program_Masterfile.xlsx      65334\n",
       "2024AugPerf_RewardSept2024__Driverloyalty_Program_Masterfile2.xlsx    64553\n",
       "Name: count, dtype: int64"
      ]
     },
     "execution_count": 94,
     "metadata": {},
     "output_type": "execute_result"
    }
   ],
   "source": [
    "all_data_clean.file_name.value_counts()"
   ]
  },
  {
   "cell_type": "code",
   "execution_count": 99,
   "id": "4cd95c15",
   "metadata": {},
   "outputs": [],
   "source": [
    "all_data_clean['Year_Perf'] = all_data_clean.file_name.str[:4]\n",
    "all_data_clean['Month_Perf'] = all_data_clean.file_name.str[4:7]\n",
    "all_data_clean['Month_Reward'] = all_data_clean['file_name'].str.extract('Reward(\\w{3})') # 3 characters after 'Reward'\n",
    "all_data_clean['Year_Reward'] = all_data_clean['file_name'].str.extract('(\\d{4})__') # 4 digits before '__'"
   ]
  },
  {
   "cell_type": "code",
   "execution_count": 102,
   "id": "9cdcd87a",
   "metadata": {},
   "outputs": [
    {
     "data": {
      "text/html": [
       "<div>\n",
       "<style scoped>\n",
       "    .dataframe tbody tr th:only-of-type {\n",
       "        vertical-align: middle;\n",
       "    }\n",
       "\n",
       "    .dataframe tbody tr th {\n",
       "        vertical-align: top;\n",
       "    }\n",
       "\n",
       "    .dataframe thead th {\n",
       "        text-align: right;\n",
       "    }\n",
       "</style>\n",
       "<table border=\"1\" class=\"dataframe\">\n",
       "  <thead>\n",
       "    <tr style=\"text-align: right;\">\n",
       "      <th></th>\n",
       "      <th>file_name</th>\n",
       "      <th>Year_Perf</th>\n",
       "      <th>Month_Perf</th>\n",
       "      <th>Year_Reward</th>\n",
       "      <th>Month_Reward</th>\n",
       "    </tr>\n",
       "  </thead>\n",
       "  <tbody>\n",
       "    <tr>\n",
       "      <th>25433</th>\n",
       "      <td>2024FebPerf_RewardMar2024__Driverloyalty_Progr...</td>\n",
       "      <td>2024</td>\n",
       "      <td>Feb</td>\n",
       "      <td>2024</td>\n",
       "      <td>Mar</td>\n",
       "    </tr>\n",
       "    <tr>\n",
       "      <th>4359</th>\n",
       "      <td>2024MarPerf_RewardApril2024__Driverloyalty_Pro...</td>\n",
       "      <td>2024</td>\n",
       "      <td>Mar</td>\n",
       "      <td>2024</td>\n",
       "      <td>Apr</td>\n",
       "    </tr>\n",
       "    <tr>\n",
       "      <th>62045</th>\n",
       "      <td>2024JulyPerf_RewardAug2024__Driverloyalty_Prog...</td>\n",
       "      <td>2024</td>\n",
       "      <td>Jul</td>\n",
       "      <td>2024</td>\n",
       "      <td>Aug</td>\n",
       "    </tr>\n",
       "    <tr>\n",
       "      <th>21155</th>\n",
       "      <td>2024JanPerf_RewardFeb2024__Driverloyalty_Progr...</td>\n",
       "      <td>2024</td>\n",
       "      <td>Jan</td>\n",
       "      <td>2024</td>\n",
       "      <td>Feb</td>\n",
       "    </tr>\n",
       "    <tr>\n",
       "      <th>48498</th>\n",
       "      <td>2024MarPerf_RewardApril2024__Driverloyalty_Pro...</td>\n",
       "      <td>2024</td>\n",
       "      <td>Mar</td>\n",
       "      <td>2024</td>\n",
       "      <td>Apr</td>\n",
       "    </tr>\n",
       "    <tr>\n",
       "      <th>80130</th>\n",
       "      <td>2024OctPerf_RewardNov2024__Driverloyalty_Progr...</td>\n",
       "      <td>2024</td>\n",
       "      <td>Oct</td>\n",
       "      <td>2024</td>\n",
       "      <td>Nov</td>\n",
       "    </tr>\n",
       "    <tr>\n",
       "      <th>22455</th>\n",
       "      <td>2024FebPerf_RewardMar2024__Driverloyalty_Progr...</td>\n",
       "      <td>2024</td>\n",
       "      <td>Feb</td>\n",
       "      <td>2024</td>\n",
       "      <td>Mar</td>\n",
       "    </tr>\n",
       "    <tr>\n",
       "      <th>18938</th>\n",
       "      <td>2024SeptPerf_RewardOct2024__Driverloyalty_Prog...</td>\n",
       "      <td>2024</td>\n",
       "      <td>Sep</td>\n",
       "      <td>2024</td>\n",
       "      <td>Oct</td>\n",
       "    </tr>\n",
       "    <tr>\n",
       "      <th>70</th>\n",
       "      <td>2024MarPerf_RewardApril2024__Driverloyalty_Pro...</td>\n",
       "      <td>2024</td>\n",
       "      <td>Mar</td>\n",
       "      <td>2024</td>\n",
       "      <td>Apr</td>\n",
       "    </tr>\n",
       "    <tr>\n",
       "      <th>45140</th>\n",
       "      <td>2024MarPerf_RewardApril2024__Driverloyalty_Pro...</td>\n",
       "      <td>2024</td>\n",
       "      <td>Mar</td>\n",
       "      <td>2024</td>\n",
       "      <td>Apr</td>\n",
       "    </tr>\n",
       "  </tbody>\n",
       "</table>\n",
       "</div>"
      ],
      "text/plain": [
       "                                               file_name Year_Perf Month_Perf  \\\n",
       "25433  2024FebPerf_RewardMar2024__Driverloyalty_Progr...      2024        Feb   \n",
       "4359   2024MarPerf_RewardApril2024__Driverloyalty_Pro...      2024        Mar   \n",
       "62045  2024JulyPerf_RewardAug2024__Driverloyalty_Prog...      2024        Jul   \n",
       "21155  2024JanPerf_RewardFeb2024__Driverloyalty_Progr...      2024        Jan   \n",
       "48498  2024MarPerf_RewardApril2024__Driverloyalty_Pro...      2024        Mar   \n",
       "80130  2024OctPerf_RewardNov2024__Driverloyalty_Progr...      2024        Oct   \n",
       "22455  2024FebPerf_RewardMar2024__Driverloyalty_Progr...      2024        Feb   \n",
       "18938  2024SeptPerf_RewardOct2024__Driverloyalty_Prog...      2024        Sep   \n",
       "70     2024MarPerf_RewardApril2024__Driverloyalty_Pro...      2024        Mar   \n",
       "45140  2024MarPerf_RewardApril2024__Driverloyalty_Pro...      2024        Mar   \n",
       "\n",
       "      Year_Reward Month_Reward  \n",
       "25433        2024          Mar  \n",
       "4359         2024          Apr  \n",
       "62045        2024          Aug  \n",
       "21155        2024          Feb  \n",
       "48498        2024          Apr  \n",
       "80130        2024          Nov  \n",
       "22455        2024          Mar  \n",
       "18938        2024          Oct  \n",
       "70           2024          Apr  \n",
       "45140        2024          Apr  "
      ]
     },
     "execution_count": 102,
     "metadata": {},
     "output_type": "execute_result"
    }
   ],
   "source": [
    "all_data_clean[['file_name', \n",
    "               'Year_Perf',\n",
    "               'Month_Perf',\n",
    "               'Year_Reward',\n",
    "               'Month_Reward']].sample(10)"
   ]
  },
  {
   "cell_type": "code",
   "execution_count": 113,
   "id": "afa07815",
   "metadata": {},
   "outputs": [
    {
     "data": {
      "text/html": [
       "<div>\n",
       "<style scoped>\n",
       "    .dataframe tbody tr th:only-of-type {\n",
       "        vertical-align: middle;\n",
       "    }\n",
       "\n",
       "    .dataframe tbody tr th {\n",
       "        vertical-align: top;\n",
       "    }\n",
       "\n",
       "    .dataframe thead th {\n",
       "        text-align: right;\n",
       "    }\n",
       "</style>\n",
       "<table border=\"1\" class=\"dataframe\">\n",
       "  <thead>\n",
       "    <tr style=\"text-align: right;\">\n",
       "      <th></th>\n",
       "      <th>file_name</th>\n",
       "      <th>Year_Perf</th>\n",
       "      <th>Month_Perf</th>\n",
       "      <th>Year_Reward</th>\n",
       "      <th>Month_Reward</th>\n",
       "    </tr>\n",
       "  </thead>\n",
       "  <tbody>\n",
       "    <tr>\n",
       "      <th>0</th>\n",
       "      <td>2024MarPerf_RewardApril2024__Driverloyalty_Pro...</td>\n",
       "      <td>2024</td>\n",
       "      <td>Mar</td>\n",
       "      <td>2024</td>\n",
       "      <td>Apr</td>\n",
       "    </tr>\n",
       "    <tr>\n",
       "      <th>0</th>\n",
       "      <td>2024SeptPerf_RewardOct2024__Driverloyalty_Prog...</td>\n",
       "      <td>2024</td>\n",
       "      <td>Sep</td>\n",
       "      <td>2024</td>\n",
       "      <td>Oct</td>\n",
       "    </tr>\n",
       "    <tr>\n",
       "      <th>0</th>\n",
       "      <td>2024OctPerf_RewardNov2024__Driverloyalty_Progr...</td>\n",
       "      <td>2024</td>\n",
       "      <td>Oct</td>\n",
       "      <td>2024</td>\n",
       "      <td>Nov</td>\n",
       "    </tr>\n",
       "    <tr>\n",
       "      <th>0</th>\n",
       "      <td>2024FebPerf_RewardMar2024__Driverloyalty_Progr...</td>\n",
       "      <td>2024</td>\n",
       "      <td>Feb</td>\n",
       "      <td>2024</td>\n",
       "      <td>Mar</td>\n",
       "    </tr>\n",
       "    <tr>\n",
       "      <th>0</th>\n",
       "      <td>2024AugPerf_RewardSept2024__Driverloyalty_Prog...</td>\n",
       "      <td>2024</td>\n",
       "      <td>Aug</td>\n",
       "      <td>2024</td>\n",
       "      <td>Sep</td>\n",
       "    </tr>\n",
       "    <tr>\n",
       "      <th>0</th>\n",
       "      <td>2024AprilPerf_RewardMay2024__Driverloyalty_Pro...</td>\n",
       "      <td>2024</td>\n",
       "      <td>Apr</td>\n",
       "      <td>2024</td>\n",
       "      <td>May</td>\n",
       "    </tr>\n",
       "    <tr>\n",
       "      <th>0</th>\n",
       "      <td>2024JulyPerf_RewardAug2024__Driverloyalty_Prog...</td>\n",
       "      <td>2024</td>\n",
       "      <td>Jul</td>\n",
       "      <td>2024</td>\n",
       "      <td>Aug</td>\n",
       "    </tr>\n",
       "    <tr>\n",
       "      <th>0</th>\n",
       "      <td>2024MayPerf_RewardJune2024_Driverloyalty_Progr...</td>\n",
       "      <td>2024</td>\n",
       "      <td>May</td>\n",
       "      <td>NaN</td>\n",
       "      <td>Jun</td>\n",
       "    </tr>\n",
       "    <tr>\n",
       "      <th>0</th>\n",
       "      <td>2024JanPerf_RewardFeb2024__Driverloyalty_Progr...</td>\n",
       "      <td>2024</td>\n",
       "      <td>Jan</td>\n",
       "      <td>2024</td>\n",
       "      <td>Feb</td>\n",
       "    </tr>\n",
       "  </tbody>\n",
       "</table>\n",
       "</div>"
      ],
      "text/plain": [
       "                                           file_name Year_Perf Month_Perf  \\\n",
       "0  2024MarPerf_RewardApril2024__Driverloyalty_Pro...      2024        Mar   \n",
       "0  2024SeptPerf_RewardOct2024__Driverloyalty_Prog...      2024        Sep   \n",
       "0  2024OctPerf_RewardNov2024__Driverloyalty_Progr...      2024        Oct   \n",
       "0  2024FebPerf_RewardMar2024__Driverloyalty_Progr...      2024        Feb   \n",
       "0  2024AugPerf_RewardSept2024__Driverloyalty_Prog...      2024        Aug   \n",
       "0  2024AprilPerf_RewardMay2024__Driverloyalty_Pro...      2024        Apr   \n",
       "0  2024JulyPerf_RewardAug2024__Driverloyalty_Prog...      2024        Jul   \n",
       "0  2024MayPerf_RewardJune2024_Driverloyalty_Progr...      2024        May   \n",
       "0  2024JanPerf_RewardFeb2024__Driverloyalty_Progr...      2024        Jan   \n",
       "\n",
       "  Year_Reward Month_Reward  \n",
       "0        2024          Apr  \n",
       "0        2024          Oct  \n",
       "0        2024          Nov  \n",
       "0        2024          Mar  \n",
       "0        2024          Sep  \n",
       "0        2024          May  \n",
       "0        2024          Aug  \n",
       "0         NaN          Jun  \n",
       "0        2024          Feb  "
      ]
     },
     "execution_count": 113,
     "metadata": {},
     "output_type": "execute_result"
    }
   ],
   "source": [
    "all_data_clean[['file_name', \n",
    "               'Year_Perf',\n",
    "               'Month_Perf',\n",
    "               'Year_Reward',\n",
    "               'Month_Reward']].drop_duplicates()"
   ]
  },
  {
   "cell_type": "markdown",
   "id": "a3a32b01",
   "metadata": {},
   "source": [
    "#### Final touches"
   ]
  },
  {
   "cell_type": "code",
   "execution_count": 115,
   "id": "655748e3",
   "metadata": {},
   "outputs": [],
   "source": [
    "# trim driver user id\n",
    "all_data_clean['Drvr User Id'] = all_data_clean['Drvr User Id'].str.strip()"
   ]
  },
  {
   "cell_type": "code",
   "execution_count": 117,
   "id": "794cfcbe",
   "metadata": {},
   "outputs": [],
   "source": [
    "# replace space with '_' for all columns\n",
    "all_data_clean.columns = all_data_clean.columns.str.replace(' ', '_')"
   ]
  },
  {
   "cell_type": "code",
   "execution_count": 118,
   "id": "a185ca63",
   "metadata": {},
   "outputs": [
    {
     "data": {
      "text/html": [
       "<div>\n",
       "<style scoped>\n",
       "    .dataframe tbody tr th:only-of-type {\n",
       "        vertical-align: middle;\n",
       "    }\n",
       "\n",
       "    .dataframe tbody tr th {\n",
       "        vertical-align: top;\n",
       "    }\n",
       "\n",
       "    .dataframe thead th {\n",
       "        text-align: right;\n",
       "    }\n",
       "</style>\n",
       "<table border=\"1\" class=\"dataframe\">\n",
       "  <thead>\n",
       "    <tr style=\"text-align: right;\">\n",
       "      <th></th>\n",
       "      <th>Drvr_User_Id</th>\n",
       "      <th>Drvr_First_Nm</th>\n",
       "      <th>Drvr_Last_Nm</th>\n",
       "      <th>Market_Nm</th>\n",
       "      <th>Drvr_Actv_Status</th>\n",
       "      <th>Drvr_Loyalty_Tier</th>\n",
       "      <th>Past_Month_Completed_Trips</th>\n",
       "      <th>Customer_Ratings</th>\n",
       "      <th>Customer_Rating_Metric</th>\n",
       "      <th>file_name</th>\n",
       "      <th>...</th>\n",
       "      <th>AcceptanceRate_Metrics</th>\n",
       "      <th>OTA_Ratings</th>\n",
       "      <th>OTA_Metrics</th>\n",
       "      <th>DropRate_Ratings</th>\n",
       "      <th>DropRate_Metric</th>\n",
       "      <th>Last_trip</th>\n",
       "      <th>Year_Perf</th>\n",
       "      <th>Month_Perf</th>\n",
       "      <th>Month_Reward</th>\n",
       "      <th>Year_Reward</th>\n",
       "    </tr>\n",
       "  </thead>\n",
       "  <tbody>\n",
       "    <tr>\n",
       "      <th>0</th>\n",
       "      <td>0.999coins@gmail.com</td>\n",
       "      <td>LaKisha</td>\n",
       "      <td>Tisdale</td>\n",
       "      <td>Walmart Huntsville</td>\n",
       "      <td>ACTIVE</td>\n",
       "      <td>Tier 1</td>\n",
       "      <td>80</td>\n",
       "      <td>4.79</td>\n",
       "      <td>GREEN</td>\n",
       "      <td>2024MarPerf_RewardApril2024__Driverloyalty_Pro...</td>\n",
       "      <td>...</td>\n",
       "      <td>NaN</td>\n",
       "      <td>NaN</td>\n",
       "      <td>NaN</td>\n",
       "      <td>NaN</td>\n",
       "      <td>NaN</td>\n",
       "      <td>NaN</td>\n",
       "      <td>2024</td>\n",
       "      <td>Mar</td>\n",
       "      <td>Apr</td>\n",
       "      <td>2024</td>\n",
       "    </tr>\n",
       "    <tr>\n",
       "      <th>1</th>\n",
       "      <td>0springer3@live.com</td>\n",
       "      <td>Daniel</td>\n",
       "      <td>Wiggins</td>\n",
       "      <td>Walmart Aberdeen NC</td>\n",
       "      <td>ACTIVE</td>\n",
       "      <td>Tier 1</td>\n",
       "      <td>79</td>\n",
       "      <td>4.70</td>\n",
       "      <td>GREEN</td>\n",
       "      <td>2024MarPerf_RewardApril2024__Driverloyalty_Pro...</td>\n",
       "      <td>...</td>\n",
       "      <td>NaN</td>\n",
       "      <td>NaN</td>\n",
       "      <td>NaN</td>\n",
       "      <td>NaN</td>\n",
       "      <td>NaN</td>\n",
       "      <td>NaN</td>\n",
       "      <td>2024</td>\n",
       "      <td>Mar</td>\n",
       "      <td>Apr</td>\n",
       "      <td>2024</td>\n",
       "    </tr>\n",
       "    <tr>\n",
       "      <th>2</th>\n",
       "      <td>1alexisrochoa@gmail.com</td>\n",
       "      <td>Alexis</td>\n",
       "      <td>Ochoa</td>\n",
       "      <td>Walmart Kenosha</td>\n",
       "      <td>ACTIVE</td>\n",
       "      <td>Tier 1</td>\n",
       "      <td>20</td>\n",
       "      <td>5.00</td>\n",
       "      <td>GREEN</td>\n",
       "      <td>2024MarPerf_RewardApril2024__Driverloyalty_Pro...</td>\n",
       "      <td>...</td>\n",
       "      <td>NaN</td>\n",
       "      <td>NaN</td>\n",
       "      <td>NaN</td>\n",
       "      <td>NaN</td>\n",
       "      <td>NaN</td>\n",
       "      <td>NaN</td>\n",
       "      <td>2024</td>\n",
       "      <td>Mar</td>\n",
       "      <td>Apr</td>\n",
       "      <td>2024</td>\n",
       "    </tr>\n",
       "    <tr>\n",
       "      <th>3</th>\n",
       "      <td>1b1s4lyfe@gmail.com</td>\n",
       "      <td>Latoya</td>\n",
       "      <td>Ritter</td>\n",
       "      <td>Walmart Columbia SC</td>\n",
       "      <td>ACTIVE</td>\n",
       "      <td>Tier 1</td>\n",
       "      <td>30</td>\n",
       "      <td>4.70</td>\n",
       "      <td>GREEN</td>\n",
       "      <td>2024MarPerf_RewardApril2024__Driverloyalty_Pro...</td>\n",
       "      <td>...</td>\n",
       "      <td>NaN</td>\n",
       "      <td>NaN</td>\n",
       "      <td>NaN</td>\n",
       "      <td>NaN</td>\n",
       "      <td>NaN</td>\n",
       "      <td>NaN</td>\n",
       "      <td>2024</td>\n",
       "      <td>Mar</td>\n",
       "      <td>Apr</td>\n",
       "      <td>2024</td>\n",
       "    </tr>\n",
       "    <tr>\n",
       "      <th>4</th>\n",
       "      <td>1belladog2@gmail.com</td>\n",
       "      <td>Tome</td>\n",
       "      <td>Pereira</td>\n",
       "      <td>Walmart Springfield MA</td>\n",
       "      <td>ACTIVE</td>\n",
       "      <td>Tier 1</td>\n",
       "      <td>53</td>\n",
       "      <td>5.00</td>\n",
       "      <td>GREEN</td>\n",
       "      <td>2024MarPerf_RewardApril2024__Driverloyalty_Pro...</td>\n",
       "      <td>...</td>\n",
       "      <td>NaN</td>\n",
       "      <td>NaN</td>\n",
       "      <td>NaN</td>\n",
       "      <td>NaN</td>\n",
       "      <td>NaN</td>\n",
       "      <td>NaN</td>\n",
       "      <td>2024</td>\n",
       "      <td>Mar</td>\n",
       "      <td>Apr</td>\n",
       "      <td>2024</td>\n",
       "    </tr>\n",
       "  </tbody>\n",
       "</table>\n",
       "<p>5 rows × 21 columns</p>\n",
       "</div>"
      ],
      "text/plain": [
       "              Drvr_User_Id Drvr_First_Nm Drvr_Last_Nm               Market_Nm  \\\n",
       "0     0.999coins@gmail.com       LaKisha      Tisdale      Walmart Huntsville   \n",
       "1      0springer3@live.com        Daniel      Wiggins     Walmart Aberdeen NC   \n",
       "2  1alexisrochoa@gmail.com        Alexis        Ochoa         Walmart Kenosha   \n",
       "3      1b1s4lyfe@gmail.com        Latoya       Ritter     Walmart Columbia SC   \n",
       "4     1belladog2@gmail.com          Tome      Pereira  Walmart Springfield MA   \n",
       "\n",
       "  Drvr_Actv_Status Drvr_Loyalty_Tier  Past_Month_Completed_Trips  \\\n",
       "0           ACTIVE            Tier 1                          80   \n",
       "1           ACTIVE            Tier 1                          79   \n",
       "2           ACTIVE            Tier 1                          20   \n",
       "3           ACTIVE            Tier 1                          30   \n",
       "4           ACTIVE            Tier 1                          53   \n",
       "\n",
       "   Customer_Ratings Customer_Rating_Metric  \\\n",
       "0              4.79                  GREEN   \n",
       "1              4.70                  GREEN   \n",
       "2              5.00                  GREEN   \n",
       "3              4.70                  GREEN   \n",
       "4              5.00                  GREEN   \n",
       "\n",
       "                                           file_name  ...  \\\n",
       "0  2024MarPerf_RewardApril2024__Driverloyalty_Pro...  ...   \n",
       "1  2024MarPerf_RewardApril2024__Driverloyalty_Pro...  ...   \n",
       "2  2024MarPerf_RewardApril2024__Driverloyalty_Pro...  ...   \n",
       "3  2024MarPerf_RewardApril2024__Driverloyalty_Pro...  ...   \n",
       "4  2024MarPerf_RewardApril2024__Driverloyalty_Pro...  ...   \n",
       "\n",
       "   AcceptanceRate_Metrics OTA_Ratings  OTA_Metrics DropRate_Ratings  \\\n",
       "0                     NaN         NaN          NaN              NaN   \n",
       "1                     NaN         NaN          NaN              NaN   \n",
       "2                     NaN         NaN          NaN              NaN   \n",
       "3                     NaN         NaN          NaN              NaN   \n",
       "4                     NaN         NaN          NaN              NaN   \n",
       "\n",
       "   DropRate_Metric Last_trip Year_Perf Month_Perf Month_Reward Year_Reward  \n",
       "0              NaN       NaN      2024        Mar          Apr        2024  \n",
       "1              NaN       NaN      2024        Mar          Apr        2024  \n",
       "2              NaN       NaN      2024        Mar          Apr        2024  \n",
       "3              NaN       NaN      2024        Mar          Apr        2024  \n",
       "4              NaN       NaN      2024        Mar          Apr        2024  \n",
       "\n",
       "[5 rows x 21 columns]"
      ]
     },
     "execution_count": 118,
     "metadata": {},
     "output_type": "execute_result"
    }
   ],
   "source": [
    "all_data_clean.head()"
   ]
  },
  {
   "cell_type": "code",
   "execution_count": 122,
   "id": "80b9ac62",
   "metadata": {},
   "outputs": [
    {
     "name": "stderr",
     "output_type": "stream",
     "text": [
      "C:\\Users\\y0q00wv\\Anaconda3\\lib\\site-packages\\google\\auth\\_default.py:70: UserWarning: Your application has authenticated using end user credentials from Google Cloud SDK without a quota project. You might receive a \"quota exceeded\" or \"API not enabled\" error. We recommend you rerun `gcloud auth application-default login` and make sure a quota project is added. Or you can use service accounts instead. For more information about service accounts, see https://cloud.google.com/docs/authentication/\n",
      "  warnings.warn(_CLOUD_SDK_CREDENTIALS_WARNING)\n"
     ]
    },
    {
     "data": {
      "text/plain": [
       "<google.cloud.bigquery.job.load.LoadJob at 0x21e3f6bc970>"
      ]
     },
     "execution_count": 122,
     "metadata": {},
     "output_type": "execute_result"
    }
   ],
   "source": [
    "# load to a BQ table\n",
    "table_id = CONFIG['bq_table_nm']\n",
    "job_config = bigquery.LoadJobConfig(write_disposition=\"WRITE_TRUNCATE\") # overwrite existing data\n",
    "\n",
    "client = bigquery.Client()\n",
    "\n",
    "load_job = client.load_table_from_dataframe(all_data_clean, table_id, job_config=job_config)\n",
    "# Wait for load job to complete.\n",
    "load_job.result()"
   ]
  },
  {
   "cell_type": "code",
   "execution_count": null,
   "id": "10722519",
   "metadata": {},
   "outputs": [],
   "source": []
  }
 ],
 "metadata": {
  "kernelspec": {
   "display_name": "Python 3",
   "language": "python",
   "name": "python3"
  },
  "language_info": {
   "codemirror_mode": {
    "name": "ipython",
    "version": 3
   },
   "file_extension": ".py",
   "mimetype": "text/x-python",
   "name": "python",
   "nbconvert_exporter": "python",
   "pygments_lexer": "ipython3",
   "version": "3.8.5"
  }
 },
 "nbformat": 4,
 "nbformat_minor": 5
}
