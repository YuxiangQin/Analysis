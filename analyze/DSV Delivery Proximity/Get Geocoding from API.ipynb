{
 "cells": [
  {
   "cell_type": "code",
   "execution_count": 343,
   "metadata": {},
   "outputs": [],
   "source": [
    "import pandas as pd\n",
    "from dotenv import load_dotenv\n",
    "import os\n",
    "import json\n",
    "\n",
    "import requests\n",
    "import http.client, urllib.parse\n",
    "from opencage.geocoder import OpenCageGeocode\n",
    "\n",
    "\n",
    "import pandas_gbq\n",
    "import google.auth\n",
    "from google.cloud.bigquery import Client"
   ]
  },
  {
   "cell_type": "code",
   "execution_count": 106,
   "metadata": {},
   "outputs": [],
   "source": [
    "def get_data(file_path):\n",
    "    '''Return a dataframe from .sql file stored in @file_path'''\n",
    "    creds, project = google.auth.default()\n",
    "    client = Client(project,creds)\n",
    "\n",
    "    with open(os.path.normpath(file_path), \"r\") as file:\n",
    "        query = file.read()\n",
    "\n",
    "    df = client.query(query).to_dataframe()\n",
    "    return df"
   ]
  },
  {
   "cell_type": "code",
   "execution_count": 326,
   "metadata": {},
   "outputs": [
    {
     "name": "stderr",
     "output_type": "stream",
     "text": [
      "C:\\Users\\y0q00wv\\Anaconda3\\lib\\site-packages\\google\\auth\\_default.py:70: UserWarning: Your application has authenticated using end user credentials from Google Cloud SDK without a quota project. You might receive a \"quota exceeded\" or \"API not enabled\" error. We recommend you rerun `gcloud auth application-default login` and make sure a quota project is added. Or you can use service accounts instead. For more information about service accounts, see https://cloud.google.com/docs/authentication/\n",
      "  warnings.warn(_CLOUD_SDK_CREDENTIALS_WARNING)\n"
     ]
    }
   ],
   "source": [
    "df = get_data('distributor_addr.sql')"
   ]
  },
  {
   "cell_type": "code",
   "execution_count": 136,
   "metadata": {},
   "outputs": [
    {
     "data": {
      "text/html": [
       "<div>\n",
       "<style scoped>\n",
       "    .dataframe tbody tr th:only-of-type {\n",
       "        vertical-align: middle;\n",
       "    }\n",
       "\n",
       "    .dataframe tbody tr th {\n",
       "        vertical-align: top;\n",
       "    }\n",
       "\n",
       "    .dataframe thead th {\n",
       "        text-align: right;\n",
       "    }\n",
       "</style>\n",
       "<table border=\"1\" class=\"dataframe\">\n",
       "  <thead>\n",
       "    <tr style=\"text-align: right;\">\n",
       "      <th></th>\n",
       "      <th>DC_ID</th>\n",
       "      <th>ship_node_addr</th>\n",
       "      <th>ship_node_city</th>\n",
       "      <th>ship_node_state</th>\n",
       "      <th>ship_node_zip</th>\n",
       "    </tr>\n",
       "  </thead>\n",
       "  <tbody>\n",
       "    <tr>\n",
       "      <th>0</th>\n",
       "      <td>2957904</td>\n",
       "      <td>5425 Faa Blvd.</td>\n",
       "      <td>Irving</td>\n",
       "      <td>TX</td>\n",
       "      <td>75061</td>\n",
       "    </tr>\n",
       "    <tr>\n",
       "      <th>1</th>\n",
       "      <td>2957918</td>\n",
       "      <td>4555 Redlands Avenue</td>\n",
       "      <td>Perris</td>\n",
       "      <td>CA</td>\n",
       "      <td>92610</td>\n",
       "    </tr>\n",
       "    <tr>\n",
       "      <th>2</th>\n",
       "      <td>2957916</td>\n",
       "      <td>415 Wildwood Ave</td>\n",
       "      <td>Woburn</td>\n",
       "      <td>MA</td>\n",
       "      <td>01801</td>\n",
       "    </tr>\n",
       "    <tr>\n",
       "      <th>3</th>\n",
       "      <td>888880009</td>\n",
       "      <td>6417 Tri-County Parkway</td>\n",
       "      <td>Schertz</td>\n",
       "      <td>TX</td>\n",
       "      <td>78154</td>\n",
       "    </tr>\n",
       "    <tr>\n",
       "      <th>4</th>\n",
       "      <td>25340405</td>\n",
       "      <td>3401 Innovative Way</td>\n",
       "      <td>Mesquite</td>\n",
       "      <td>TX</td>\n",
       "      <td>75149</td>\n",
       "    </tr>\n",
       "  </tbody>\n",
       "</table>\n",
       "</div>"
      ],
      "text/plain": [
       "       DC_ID           ship_node_addr ship_node_city ship_node_state  \\\n",
       "0    2957904           5425 Faa Blvd.         Irving              TX   \n",
       "1    2957918     4555 Redlands Avenue         Perris              CA   \n",
       "2    2957916         415 Wildwood Ave         Woburn              MA   \n",
       "3  888880009  6417 Tri-County Parkway        Schertz              TX   \n",
       "4   25340405      3401 Innovative Way       Mesquite              TX   \n",
       "\n",
       "  ship_node_zip  \n",
       "0         75061  \n",
       "1         92610  \n",
       "2         01801  \n",
       "3         78154  \n",
       "4         75149  "
      ]
     },
     "execution_count": 136,
     "metadata": {},
     "output_type": "execute_result"
    }
   ],
   "source": [
    "df.head()"
   ]
  },
  {
   "cell_type": "code",
   "execution_count": 346,
   "metadata": {},
   "outputs": [],
   "source": [
    "# load api keys from .env\n",
    "\n",
    "load_dotenv()\n",
    "\n",
    "POSITIONSTACK_API_KEY = os.getenv('POSITIONSTACK_API_KEY')\n",
    "CAGE_API_KEY = os.getenv('CAGE_API_KEY')\n",
    "MAPS_DATA_API_KEY = os.getenv('MAPS_DATA_API_KEY')"
   ]
  },
  {
   "cell_type": "code",
   "execution_count": 327,
   "metadata": {},
   "outputs": [],
   "source": [
    "df['ship_node_lat'] = None\n",
    "df['ship_node_lon'] = None\n",
    "df['geocoding_confidence'] = None"
   ]
  },
  {
   "cell_type": "code",
   "execution_count": 329,
   "metadata": {},
   "outputs": [],
   "source": [
    "def get_addr_str_maps(street_addr, city, state, zip_code, country='US'):\n",
    "    '''Returns full address string used in maps_data api call'''\n",
    "    return f\"{street_addr}, {city}, {state} {zip_code}\"\n",
    "\n",
    "def call_api_maps(url, headers, params):\n",
    "    '''Returns maps_data api call response'''\n",
    "    response = requests.get(url, headers=headers, params=params)\n",
    "    \n",
    "    if response.status_code != 200:\n",
    "        error_msg = f'Failed to fetch data, status code: {response.status_code}'\n",
    "        raise Exception(error_msg)\n",
    "    else:\n",
    "        return response.json()\n",
    "\n",
    "def call_api_positionstack(conn, params):\n",
    "    '''Returns response from positionstack api call'''\n",
    "    conn.request('GET', '/v1/forward?{}'.format(params))\n",
    "    response = conn.getresponse()\n",
    "    response_str = response.read().decode('utf-8')\n",
    "    response_dict = json.loads(response_str)\n",
    "    \n",
    "    if not response_dict['data']:\n",
    "        return None\n",
    "    else:\n",
    "        data = response_dict['data'][0]\n",
    "    return data"
   ]
  },
  {
   "cell_type": "code",
   "execution_count": 330,
   "metadata": {},
   "outputs": [
    {
     "data": {
      "text/plain": [
       "'78 West Craig Road, Las Vegas, NV 89032'"
      ]
     },
     "execution_count": 330,
     "metadata": {},
     "output_type": "execute_result"
    }
   ],
   "source": [
    "get_addr_str_maps(df['ship_node_addr'][1449], df['ship_node_city'][1449], df['ship_node_state'][1449], df['ship_node_zip'][1449])"
   ]
  },
  {
   "cell_type": "markdown",
   "metadata": {},
   "source": [
    "### positionstack API"
   ]
  },
  {
   "cell_type": "code",
   "execution_count": 332,
   "metadata": {},
   "outputs": [
    {
     "name": "stdout",
     "output_type": "stream",
     "text": [
      "Working on 0 row...\n",
      "Working on 100 row...\n",
      "Working on 200 row...\n",
      "Working on 300 row...\n",
      "Working on 400 row...\n",
      "Working on 500 row...\n",
      "Working on 600 row...\n",
      "Working on 700 row...\n",
      "Working on 800 row...\n",
      "Working on 900 row...\n",
      "Working on 1000 row...\n",
      "Working on 1100 row...\n",
      "Working on 1200 row...\n",
      "Working on 1300 row...\n",
      "Working on 1400 row...\n"
     ]
    }
   ],
   "source": [
    "conn = http.client.HTTPConnection('api.positionstack.com')\n",
    "\n",
    "for index, row in df.iterrows():\n",
    "    # skip ones with lat value filled\n",
    "#     if row['ship_node_lat'] is not None:\n",
    "#         continue\n",
    "\n",
    "    addr_str = get_addr_str_maps(row['ship_node_addr'], row['ship_node_city'], row['ship_node_state'], row['ship_node_zip'])\n",
    "    params = urllib.parse.urlencode({\n",
    "        'access_key': API_KEY,\n",
    "        'query': addr_str,\n",
    "        'limit': 1\n",
    "    })\n",
    "    \n",
    "    response = call_api_positionstack(conn, params)\n",
    "    \n",
    "    if response:\n",
    "        df.at[index, 'ship_node_lat'] = response['latitude']\n",
    "        df.at[index, 'ship_node_lon'] = response['longitude']\n",
    "        df.at[index, 'geocoding_confidence'] = response['confidence']\n",
    "    \n",
    "    if index % 100 == 0:\n",
    "        print(f\"Working on {index} row...\")"
   ]
  },
  {
   "cell_type": "code",
   "execution_count": 333,
   "metadata": {},
   "outputs": [
    {
     "name": "stdout",
     "output_type": "stream",
     "text": [
      "<class 'pandas.core.frame.DataFrame'>\n",
      "RangeIndex: 1450 entries, 0 to 1449\n",
      "Data columns (total 8 columns):\n",
      " #   Column                Non-Null Count  Dtype \n",
      "---  ------                --------------  ----- \n",
      " 0   DC_ID                 1450 non-null   int64 \n",
      " 1   ship_node_addr        1446 non-null   object\n",
      " 2   ship_node_city        1446 non-null   object\n",
      " 3   ship_node_state       1446 non-null   object\n",
      " 4   ship_node_zip         1450 non-null   object\n",
      " 5   ship_node_lat         1448 non-null   object\n",
      " 6   ship_node_lon         1448 non-null   object\n",
      " 7   geocoding_confidence  1448 non-null   object\n",
      "dtypes: int64(1), object(7)\n",
      "memory usage: 90.8+ KB\n"
     ]
    }
   ],
   "source": [
    "df.info()"
   ]
  },
  {
   "cell_type": "code",
   "execution_count": 334,
   "metadata": {},
   "outputs": [
    {
     "data": {
      "text/plain": [
       "1.0    892\n",
       "0.6    527\n",
       "0.3     13\n",
       "0.8      9\n",
       "0.1      6\n",
       "0.4      1\n",
       "Name: geocoding_confidence, dtype: int64"
      ]
     },
     "execution_count": 334,
     "metadata": {},
     "output_type": "execute_result"
    }
   ],
   "source": [
    "df.geocoding_confidence.value_counts()"
   ]
  },
  {
   "cell_type": "markdown",
   "metadata": {},
   "source": [
    "### OpenCage API"
   ]
  },
  {
   "cell_type": "code",
   "execution_count": 337,
   "metadata": {},
   "outputs": [
    {
     "name": "stdout",
     "output_type": "stream",
     "text": [
      "Working on 100 row...\n",
      "Working on 200 row...\n",
      "Working on 500 row...\n",
      "Working on 700 row...\n",
      "Working on 1100 row...\n"
     ]
    },
    {
     "ename": "RateLimitExceededError",
     "evalue": "Your rate limit has expired. It will reset to 2500 on 2024-04-17T00:00:00",
     "output_type": "error",
     "traceback": [
      "\u001b[1;31m---------------------------------------------------------------------------\u001b[0m",
      "\u001b[1;31mRateLimitExceededError\u001b[0m                    Traceback (most recent call last)",
      "\u001b[1;32m<ipython-input-337-12c9d5e64268>\u001b[0m in \u001b[0;36m<module>\u001b[1;34m\u001b[0m\n\u001b[0;32m      7\u001b[0m \u001b[1;33m\u001b[0m\u001b[0m\n\u001b[0;32m      8\u001b[0m     \u001b[0maddr_str\u001b[0m \u001b[1;33m=\u001b[0m \u001b[0mget_addr_str_maps\u001b[0m\u001b[1;33m(\u001b[0m\u001b[0mrow\u001b[0m\u001b[1;33m[\u001b[0m\u001b[1;34m'ship_node_addr'\u001b[0m\u001b[1;33m]\u001b[0m\u001b[1;33m,\u001b[0m \u001b[0mrow\u001b[0m\u001b[1;33m[\u001b[0m\u001b[1;34m'ship_node_city'\u001b[0m\u001b[1;33m]\u001b[0m\u001b[1;33m,\u001b[0m \u001b[0mrow\u001b[0m\u001b[1;33m[\u001b[0m\u001b[1;34m'ship_node_state'\u001b[0m\u001b[1;33m]\u001b[0m\u001b[1;33m,\u001b[0m \u001b[0mrow\u001b[0m\u001b[1;33m[\u001b[0m\u001b[1;34m'ship_node_zip'\u001b[0m\u001b[1;33m]\u001b[0m\u001b[1;33m)\u001b[0m\u001b[1;33m\u001b[0m\u001b[1;33m\u001b[0m\u001b[0m\n\u001b[1;32m----> 9\u001b[1;33m     \u001b[0mresponse\u001b[0m \u001b[1;33m=\u001b[0m \u001b[0mOCG\u001b[0m\u001b[1;33m.\u001b[0m\u001b[0mgeocode\u001b[0m\u001b[1;33m(\u001b[0m\u001b[0maddr_str\u001b[0m\u001b[1;33m)\u001b[0m\u001b[1;33m\u001b[0m\u001b[1;33m\u001b[0m\u001b[0m\n\u001b[0m\u001b[0;32m     10\u001b[0m \u001b[1;33m\u001b[0m\u001b[0m\n\u001b[0;32m     11\u001b[0m     \u001b[1;32mif\u001b[0m \u001b[0mresponse\u001b[0m\u001b[1;33m:\u001b[0m\u001b[1;33m\u001b[0m\u001b[1;33m\u001b[0m\u001b[0m\n",
      "\u001b[1;32m~\\Anaconda3\\lib\\site-packages\\opencage\\geocoder.py\u001b[0m in \u001b[0;36mgeocode\u001b[1;34m(self, query, **kwargs)\u001b[0m\n\u001b[0;32m    193\u001b[0m \u001b[1;33m\u001b[0m\u001b[0m\n\u001b[0;32m    194\u001b[0m         \u001b[0mrequest\u001b[0m \u001b[1;33m=\u001b[0m \u001b[0mself\u001b[0m\u001b[1;33m.\u001b[0m\u001b[0m_parse_request\u001b[0m\u001b[1;33m(\u001b[0m\u001b[0mquery\u001b[0m\u001b[1;33m,\u001b[0m \u001b[0mkwargs\u001b[0m\u001b[1;33m)\u001b[0m\u001b[1;33m\u001b[0m\u001b[1;33m\u001b[0m\u001b[0m\n\u001b[1;32m--> 195\u001b[1;33m         \u001b[0mresponse\u001b[0m \u001b[1;33m=\u001b[0m \u001b[0mself\u001b[0m\u001b[1;33m.\u001b[0m\u001b[0m_opencage_request\u001b[0m\u001b[1;33m(\u001b[0m\u001b[0mrequest\u001b[0m\u001b[1;33m)\u001b[0m\u001b[1;33m\u001b[0m\u001b[1;33m\u001b[0m\u001b[0m\n\u001b[0m\u001b[0;32m    196\u001b[0m \u001b[1;33m\u001b[0m\u001b[0m\n\u001b[0;32m    197\u001b[0m         \u001b[1;32mreturn\u001b[0m \u001b[0mfloatify_latlng\u001b[0m\u001b[1;33m(\u001b[0m\u001b[0mresponse\u001b[0m\u001b[1;33m[\u001b[0m\u001b[1;34m'results'\u001b[0m\u001b[1;33m]\u001b[0m\u001b[1;33m)\u001b[0m\u001b[1;33m\u001b[0m\u001b[1;33m\u001b[0m\u001b[0m\n",
      "\u001b[1;32m~\\Anaconda3\\lib\\site-packages\\backoff\\_sync.py\u001b[0m in \u001b[0;36mretry\u001b[1;34m(*args, **kwargs)\u001b[0m\n\u001b[0;32m    103\u001b[0m \u001b[1;33m\u001b[0m\u001b[0m\n\u001b[0;32m    104\u001b[0m             \u001b[1;32mtry\u001b[0m\u001b[1;33m:\u001b[0m\u001b[1;33m\u001b[0m\u001b[1;33m\u001b[0m\u001b[0m\n\u001b[1;32m--> 105\u001b[1;33m                 \u001b[0mret\u001b[0m \u001b[1;33m=\u001b[0m \u001b[0mtarget\u001b[0m\u001b[1;33m(\u001b[0m\u001b[1;33m*\u001b[0m\u001b[0margs\u001b[0m\u001b[1;33m,\u001b[0m \u001b[1;33m**\u001b[0m\u001b[0mkwargs\u001b[0m\u001b[1;33m)\u001b[0m\u001b[1;33m\u001b[0m\u001b[1;33m\u001b[0m\u001b[0m\n\u001b[0m\u001b[0;32m    106\u001b[0m             \u001b[1;32mexcept\u001b[0m \u001b[0mexception\u001b[0m \u001b[1;32mas\u001b[0m \u001b[0me\u001b[0m\u001b[1;33m:\u001b[0m\u001b[1;33m\u001b[0m\u001b[1;33m\u001b[0m\u001b[0m\n\u001b[0;32m    107\u001b[0m                 \u001b[0mmax_tries_exceeded\u001b[0m \u001b[1;33m=\u001b[0m \u001b[1;33m(\u001b[0m\u001b[0mtries\u001b[0m \u001b[1;33m==\u001b[0m \u001b[0mmax_tries_value\u001b[0m\u001b[1;33m)\u001b[0m\u001b[1;33m\u001b[0m\u001b[1;33m\u001b[0m\u001b[0m\n",
      "\u001b[1;32m~\\Anaconda3\\lib\\site-packages\\opencage\\geocoder.py\u001b[0m in \u001b[0;36m_opencage_request\u001b[1;34m(self, params)\u001b[0m\n\u001b[0;32m    280\u001b[0m             \u001b[1;31m# Rate limit exceeded\u001b[0m\u001b[1;33m\u001b[0m\u001b[1;33m\u001b[0m\u001b[1;33m\u001b[0m\u001b[0m\n\u001b[0;32m    281\u001b[0m             \u001b[0mreset_time\u001b[0m \u001b[1;33m=\u001b[0m \u001b[0mdatetime\u001b[0m\u001b[1;33m.\u001b[0m\u001b[0mutcfromtimestamp\u001b[0m\u001b[1;33m(\u001b[0m\u001b[0mresponse\u001b[0m\u001b[1;33m.\u001b[0m\u001b[0mjson\u001b[0m\u001b[1;33m(\u001b[0m\u001b[1;33m)\u001b[0m\u001b[1;33m[\u001b[0m\u001b[1;34m'rate'\u001b[0m\u001b[1;33m]\u001b[0m\u001b[1;33m[\u001b[0m\u001b[1;34m'reset'\u001b[0m\u001b[1;33m]\u001b[0m\u001b[1;33m)\u001b[0m\u001b[1;33m\u001b[0m\u001b[1;33m\u001b[0m\u001b[0m\n\u001b[1;32m--> 282\u001b[1;33m             raise RateLimitExceededError(\n\u001b[0m\u001b[0;32m    283\u001b[0m                 \u001b[0mreset_to\u001b[0m\u001b[1;33m=\u001b[0m\u001b[0mint\u001b[0m\u001b[1;33m(\u001b[0m\u001b[0mresponse\u001b[0m\u001b[1;33m.\u001b[0m\u001b[0mjson\u001b[0m\u001b[1;33m(\u001b[0m\u001b[1;33m)\u001b[0m\u001b[1;33m[\u001b[0m\u001b[1;34m'rate'\u001b[0m\u001b[1;33m]\u001b[0m\u001b[1;33m[\u001b[0m\u001b[1;34m'limit'\u001b[0m\u001b[1;33m]\u001b[0m\u001b[1;33m)\u001b[0m\u001b[1;33m,\u001b[0m\u001b[1;33m\u001b[0m\u001b[1;33m\u001b[0m\u001b[0m\n\u001b[0;32m    284\u001b[0m                 \u001b[0mreset_time\u001b[0m\u001b[1;33m=\u001b[0m\u001b[0mreset_time\u001b[0m\u001b[1;33m\u001b[0m\u001b[1;33m\u001b[0m\u001b[0m\n",
      "\u001b[1;31mRateLimitExceededError\u001b[0m: Your rate limit has expired. It will reset to 2500 on 2024-04-17T00:00:00"
     ]
    }
   ],
   "source": [
    "OCG = OpenCageGeocode(CAGE_API_KEY)\n",
    "df['geocoding_confidence_cage'] = None\n",
    "\n",
    "# fill low confidence score ones with lat, lon from opencage\n",
    "\n",
    "for index, row in df.iterrows():\n",
    "    # skip ones with high confidence score\n",
    "    if row['geocoding_confidence'] is not None and row['geocoding_confidence'] >= 0.8:\n",
    "        continue\n",
    "\n",
    "    addr_str = get_addr_str_maps(row['ship_node_addr'], row['ship_node_city'], row['ship_node_state'], row['ship_node_zip'])\n",
    "    response = OCG.geocode(addr_str)\n",
    "    \n",
    "    if response:\n",
    "        df.at[index, 'ship_node_lat'] = response[0]['geometry']['lat']\n",
    "        df.at[index, 'ship_node_lon'] = response[0]['geometry']['lng']\n",
    "        df.at[index, 'geocoding_confidence_cage'] = response[0]['confidence']\n",
    "    \n",
    "    if index % 100 == 0:\n",
    "        print(f\"Working on {index} row...\")"
   ]
  },
  {
   "cell_type": "code",
   "execution_count": 338,
   "metadata": {},
   "outputs": [
    {
     "data": {
      "text/html": [
       "<div>\n",
       "<style scoped>\n",
       "    .dataframe tbody tr th:only-of-type {\n",
       "        vertical-align: middle;\n",
       "    }\n",
       "\n",
       "    .dataframe tbody tr th {\n",
       "        vertical-align: top;\n",
       "    }\n",
       "\n",
       "    .dataframe thead th {\n",
       "        text-align: right;\n",
       "    }\n",
       "</style>\n",
       "<table border=\"1\" class=\"dataframe\">\n",
       "  <thead>\n",
       "    <tr style=\"text-align: right;\">\n",
       "      <th></th>\n",
       "      <th>DC_ID</th>\n",
       "      <th>ship_node_addr</th>\n",
       "      <th>ship_node_city</th>\n",
       "      <th>ship_node_state</th>\n",
       "      <th>ship_node_zip</th>\n",
       "      <th>ship_node_lat</th>\n",
       "      <th>ship_node_lon</th>\n",
       "      <th>geocoding_confidence</th>\n",
       "      <th>geocoding_confidence_cage</th>\n",
       "    </tr>\n",
       "  </thead>\n",
       "  <tbody>\n",
       "    <tr>\n",
       "      <th>16</th>\n",
       "      <td>1751203</td>\n",
       "      <td>88 Clyde Alexanda Lane</td>\n",
       "      <td>Pooler</td>\n",
       "      <td>GA</td>\n",
       "      <td>31322</td>\n",
       "      <td>32.3361</td>\n",
       "      <td>-81.3178</td>\n",
       "      <td>0.6</td>\n",
       "      <td>4</td>\n",
       "    </tr>\n",
       "    <tr>\n",
       "      <th>48</th>\n",
       "      <td>4748259</td>\n",
       "      <td>2000 Farm To Market Rd 85</td>\n",
       "      <td>Ennis</td>\n",
       "      <td>TX</td>\n",
       "      <td>75119</td>\n",
       "      <td>32.3148</td>\n",
       "      <td>-96.6133</td>\n",
       "      <td>0.6</td>\n",
       "      <td>5</td>\n",
       "    </tr>\n",
       "    <tr>\n",
       "      <th>68</th>\n",
       "      <td>3843803</td>\n",
       "      <td>201 Ingram Blvd.</td>\n",
       "      <td>Roseburg</td>\n",
       "      <td>OR</td>\n",
       "      <td>97470</td>\n",
       "      <td>43.1491</td>\n",
       "      <td>-123.362</td>\n",
       "      <td>0.6</td>\n",
       "      <td>7</td>\n",
       "    </tr>\n",
       "    <tr>\n",
       "      <th>69</th>\n",
       "      <td>6417706</td>\n",
       "      <td>45 Bruswick Ave</td>\n",
       "      <td>Edison</td>\n",
       "      <td>NJ</td>\n",
       "      <td>08817</td>\n",
       "      <td>40.5198</td>\n",
       "      <td>-74.3934</td>\n",
       "      <td>0.6</td>\n",
       "      <td>5</td>\n",
       "    </tr>\n",
       "    <tr>\n",
       "      <th>82</th>\n",
       "      <td>4748208</td>\n",
       "      <td>410 W. Trinity Blvd. #200</td>\n",
       "      <td>Grand Prarie</td>\n",
       "      <td>TX</td>\n",
       "      <td>75050</td>\n",
       "      <td>32.7561</td>\n",
       "      <td>-97.0089</td>\n",
       "      <td>0.3</td>\n",
       "      <td>7</td>\n",
       "    </tr>\n",
       "    <tr>\n",
       "      <th>...</th>\n",
       "      <td>...</td>\n",
       "      <td>...</td>\n",
       "      <td>...</td>\n",
       "      <td>...</td>\n",
       "      <td>...</td>\n",
       "      <td>...</td>\n",
       "      <td>...</td>\n",
       "      <td>...</td>\n",
       "      <td>...</td>\n",
       "    </tr>\n",
       "    <tr>\n",
       "      <th>1436</th>\n",
       "      <td>628326266</td>\n",
       "      <td>4831 EISENHAUER RD Suite 905</td>\n",
       "      <td>SAN ANTONIO</td>\n",
       "      <td>TX</td>\n",
       "      <td>78218</td>\n",
       "      <td>29.375</td>\n",
       "      <td>-98.5886</td>\n",
       "      <td>0.6</td>\n",
       "      <td>None</td>\n",
       "    </tr>\n",
       "    <tr>\n",
       "      <th>1437</th>\n",
       "      <td>628326574</td>\n",
       "      <td>1050 N. Vineyard Ave</td>\n",
       "      <td>Ontario</td>\n",
       "      <td>CA</td>\n",
       "      <td>91764</td>\n",
       "      <td>51.4514</td>\n",
       "      <td>-85.836</td>\n",
       "      <td>0.3</td>\n",
       "      <td>None</td>\n",
       "    </tr>\n",
       "    <tr>\n",
       "      <th>1438</th>\n",
       "      <td>4748288</td>\n",
       "      <td>23144 Rd 6 SE</td>\n",
       "      <td>Warden</td>\n",
       "      <td>WA</td>\n",
       "      <td>98857</td>\n",
       "      <td>46.9708</td>\n",
       "      <td>-119.052</td>\n",
       "      <td>0.6</td>\n",
       "      <td>None</td>\n",
       "    </tr>\n",
       "    <tr>\n",
       "      <th>1444</th>\n",
       "      <td>628326278</td>\n",
       "      <td>555 CHARCOT AVE # 559</td>\n",
       "      <td>SAN JOSE</td>\n",
       "      <td>CA</td>\n",
       "      <td>95131</td>\n",
       "      <td>37.3546</td>\n",
       "      <td>-121.884</td>\n",
       "      <td>0.6</td>\n",
       "      <td>None</td>\n",
       "    </tr>\n",
       "    <tr>\n",
       "      <th>1449</th>\n",
       "      <td>628326457</td>\n",
       "      <td>78 West Craig Road</td>\n",
       "      <td>Las Vegas</td>\n",
       "      <td>NV</td>\n",
       "      <td>89032</td>\n",
       "      <td>36.1904</td>\n",
       "      <td>-115.279</td>\n",
       "      <td>0.6</td>\n",
       "      <td>None</td>\n",
       "    </tr>\n",
       "  </tbody>\n",
       "</table>\n",
       "<p>170 rows × 9 columns</p>\n",
       "</div>"
      ],
      "text/plain": [
       "          DC_ID                ship_node_addr ship_node_city ship_node_state  \\\n",
       "16      1751203        88 Clyde Alexanda Lane         Pooler              GA   \n",
       "48      4748259     2000 Farm To Market Rd 85          Ennis              TX   \n",
       "68      3843803              201 Ingram Blvd.       Roseburg              OR   \n",
       "69      6417706               45 Bruswick Ave         Edison              NJ   \n",
       "82      4748208     410 W. Trinity Blvd. #200   Grand Prarie              TX   \n",
       "...         ...                           ...            ...             ...   \n",
       "1436  628326266  4831 EISENHAUER RD Suite 905    SAN ANTONIO              TX   \n",
       "1437  628326574          1050 N. Vineyard Ave        Ontario              CA   \n",
       "1438    4748288                 23144 Rd 6 SE         Warden              WA   \n",
       "1444  628326278         555 CHARCOT AVE # 559       SAN JOSE              CA   \n",
       "1449  628326457            78 West Craig Road      Las Vegas              NV   \n",
       "\n",
       "     ship_node_zip ship_node_lat ship_node_lon geocoding_confidence  \\\n",
       "16           31322       32.3361      -81.3178                  0.6   \n",
       "48           75119       32.3148      -96.6133                  0.6   \n",
       "68           97470       43.1491      -123.362                  0.6   \n",
       "69           08817       40.5198      -74.3934                  0.6   \n",
       "82           75050       32.7561      -97.0089                  0.3   \n",
       "...            ...           ...           ...                  ...   \n",
       "1436         78218        29.375      -98.5886                  0.6   \n",
       "1437         91764       51.4514       -85.836                  0.3   \n",
       "1438         98857       46.9708      -119.052                  0.6   \n",
       "1444         95131       37.3546      -121.884                  0.6   \n",
       "1449         89032       36.1904      -115.279                  0.6   \n",
       "\n",
       "     geocoding_confidence_cage  \n",
       "16                           4  \n",
       "48                           5  \n",
       "68                           7  \n",
       "69                           5  \n",
       "82                           7  \n",
       "...                        ...  \n",
       "1436                      None  \n",
       "1437                      None  \n",
       "1438                      None  \n",
       "1444                      None  \n",
       "1449                      None  \n",
       "\n",
       "[170 rows x 9 columns]"
      ]
     },
     "execution_count": 338,
     "metadata": {},
     "output_type": "execute_result"
    }
   ],
   "source": [
    "df[((df['geocoding_confidence'].isna()) | (df['geocoding_confidence'] < 0.8)) & \n",
    "   ((df['geocoding_confidence_cage'] < 8) | (df['geocoding_confidence_cage'].isna()))]"
   ]
  },
  {
   "cell_type": "markdown",
   "metadata": {},
   "source": [
    "### Maps Data API"
   ]
  },
  {
   "cell_type": "code",
   "execution_count": 347,
   "metadata": {},
   "outputs": [
    {
     "name": "stdout",
     "output_type": "stream",
     "text": [
      "Working on 100 row...\n"
     ]
    }
   ],
   "source": [
    "# fill low confidence score ones with lat, lon from maps data\n",
    "\n",
    "url = \"https://maps-data.p.rapidapi.com/geocoding.php\"\n",
    "\n",
    "headers = {\n",
    "    'X-RapidAPI-Key': MAPS_DATA_API_KEY,\n",
    "    'X-RapidAPI-Host': 'maps-data.p.rapidapi.com'\n",
    "}\n",
    "\n",
    "for index, row in df.iterrows():\n",
    "    # skip ones with high confidence score\n",
    "    if row['geocoding_confidence'] is not None and row['geocoding_confidence'] >= 0.8:\n",
    "        continue\n",
    "        \n",
    "    if row['geocoding_confidence_cage'] is not None and row['geocoding_confidence_cage'] >= 8:\n",
    "        continue\n",
    "\n",
    "    addr_str = get_addr_str_maps(row['ship_node_addr'], row['ship_node_city'], row['ship_node_state'], row['ship_node_zip'])\n",
    "    querystring = {'query': addr_str, 'lang':'en', 'country':'us'}\n",
    "    \n",
    "    response = call_api_maps(url, headers, querystring)\n",
    "    \n",
    "    if response:\n",
    "        df.at[index, 'ship_node_lat'] = response['data']['lat']\n",
    "        df.at[index, 'ship_node_lon'] = response['data']['lng']\n",
    "    \n",
    "    if index % 100 == 0:\n",
    "        print(f\"Working on {index} row...\")"
   ]
  },
  {
   "cell_type": "code",
   "execution_count": 348,
   "metadata": {
    "scrolled": true
   },
   "outputs": [
    {
     "name": "stdout",
     "output_type": "stream",
     "text": [
      "<class 'pandas.core.frame.DataFrame'>\n",
      "RangeIndex: 1450 entries, 0 to 1449\n",
      "Data columns (total 9 columns):\n",
      " #   Column                     Non-Null Count  Dtype \n",
      "---  ------                     --------------  ----- \n",
      " 0   DC_ID                      1450 non-null   int64 \n",
      " 1   ship_node_addr             1446 non-null   object\n",
      " 2   ship_node_city             1446 non-null   object\n",
      " 3   ship_node_state            1446 non-null   object\n",
      " 4   ship_node_zip              1450 non-null   object\n",
      " 5   ship_node_lat              1445 non-null   object\n",
      " 6   ship_node_lon              1445 non-null   object\n",
      " 7   geocoding_confidence       1448 non-null   object\n",
      " 8   geocoding_confidence_cage  521 non-null    object\n",
      "dtypes: int64(1), object(8)\n",
      "memory usage: 102.1+ KB\n"
     ]
    }
   ],
   "source": [
    "df.info()"
   ]
  },
  {
   "cell_type": "code",
   "execution_count": 353,
   "metadata": {},
   "outputs": [
    {
     "name": "stderr",
     "output_type": "stream",
     "text": [
      "1it [00:10, 10.03s/it]\n"
     ]
    }
   ],
   "source": [
    "df[df.columns[:-2]].to_gbq('RogerQin.DSV_DCLocationInfo', project_id='wmt-tebi', if_exists='replace')"
   ]
  },
  {
   "cell_type": "code",
   "execution_count": null,
   "metadata": {},
   "outputs": [],
   "source": []
  }
 ],
 "metadata": {
  "kernelspec": {
   "display_name": "Python 3",
   "language": "python",
   "name": "python3"
  },
  "language_info": {
   "codemirror_mode": {
    "name": "ipython",
    "version": 3
   },
   "file_extension": ".py",
   "mimetype": "text/x-python",
   "name": "python",
   "nbconvert_exporter": "python",
   "pygments_lexer": "ipython3",
   "version": "3.8.5"
  }
 },
 "nbformat": 4,
 "nbformat_minor": 4
}
