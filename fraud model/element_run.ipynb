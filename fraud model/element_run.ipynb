{
 "cells": [
  {
   "cell_type": "code",
   "execution_count": 1,
   "id": "53dcd33f",
   "metadata": {},
   "outputs": [
    {
     "name": "stdout",
     "output_type": "stream",
     "text": [
      "Getting data...\n",
      "Data pulled successfully, cleanning data...\n",
      "Training models...\n",
      "silhouette score using new features: 0.7517334427221185\n",
      "silhouette score using all features: 0.7567877361460673\n"
     ]
    },
    {
     "name": "stderr",
     "output_type": "stream",
     "text": [
      "/libraries/driver_fraud_anomaly_env/lib/python3.7/site-packages/xlsxwriter/workbook.py:369: UserWarning: Calling close() on already closed file.\n",
      "  warn(\"Calling close() on already closed file.\")\n"
     ]
    }
   ],
   "source": [
    "run model_deployment.py"
   ]
  },
  {
   "cell_type": "code",
   "execution_count": 1,
   "id": "5ffdc0f6",
   "metadata": {},
   "outputs": [],
   "source": [
    "from model_deployment import get_config, get_data, clean_data, train_k_means, analyze_driver_groups, create_excel_file, create_log, send_email  "
   ]
  },
  {
   "cell_type": "code",
   "execution_count": 3,
   "id": "3f4913ac",
   "metadata": {},
   "outputs": [],
   "source": [
    "import os\n",
    "import json\n",
    "import pytz\n",
    "from datetime import datetime\n",
    "\n",
    "import pandas as pd\n",
    "import numpy as np\n",
    "\n",
    "# Bigquery\n",
    "from google.cloud import bigquery\n",
    "\n",
    "try:\n",
    "    from mlutils import connector # Element environment connectors\n",
    "    APP_PATH = '/home/jupyter/Driver-Fraud-Anomaly-Predictive-Model/'\n",
    "except ImportError:\n",
    "    APP_PATH = \"\"\n",
    "    \n",
    "# Machine Learning\n",
    "from sklearn.metrics import silhouette_score\n",
    "from sklearn.cluster import KMeans\n",
    "from sklearn.preprocessing import StandardScaler\n",
    "\n",
    "#Email Utils\n",
    "from email.mime.application import MIMEApplication\n",
    "from email.mime.multipart import MIMEMultipart\n",
    "from email.mime.text import MIMEText\n",
    "import smtplib\n",
    "import io\n",
    "\n",
    "# pull today's date\n",
    "EMAIL_DATE = datetime.now(pytz.timezone('America/Los_Angeles')).strftime(\"%Y-%m-%d\")"
   ]
  },
  {
   "cell_type": "code",
   "execution_count": 4,
   "id": "c7fede22",
   "metadata": {},
   "outputs": [
    {
     "name": "stderr",
     "output_type": "stream",
     "text": [
      "C:\\Users\\y0q00wv\\Anaconda3\\lib\\site-packages\\google\\auth\\_default.py:70: UserWarning: Your application has authenticated using end user credentials from Google Cloud SDK without a quota project. You might receive a \"quota exceeded\" or \"API not enabled\" error. We recommend you rerun `gcloud auth application-default login` and make sure a quota project is added. Or you can use service accounts instead. For more information about service accounts, see https://cloud.google.com/docs/authentication/\n",
      "  warnings.warn(_CLOUD_SDK_CREDENTIALS_WARNING)\n"
     ]
    }
   ],
   "source": [
    "config = get_config(APP_PATH, \"config.json\")\n",
    "is_success, df, log_body = get_data(config)"
   ]
  },
  {
   "cell_type": "code",
   "execution_count": 5,
   "id": "8105c59b",
   "metadata": {},
   "outputs": [
    {
     "data": {
      "text/plain": [
       "True"
      ]
     },
     "execution_count": 5,
     "metadata": {},
     "output_type": "execute_result"
    }
   ],
   "source": [
    "is_success"
   ]
  },
  {
   "cell_type": "code",
   "execution_count": 6,
   "id": "fd97ed49",
   "metadata": {},
   "outputs": [],
   "source": [
    "if is_success:\n",
    "    clean_df = clean_data(df, config)"
   ]
  },
  {
   "cell_type": "code",
   "execution_count": 7,
   "id": "5bf9460c",
   "metadata": {},
   "outputs": [
    {
     "name": "stderr",
     "output_type": "stream",
     "text": [
      "C:\\Users\\y0q00wv\\Anaconda3\\lib\\site-packages\\sklearn\\cluster\\_kmeans.py:1416: FutureWarning: The default value of `n_init` will change from 10 to 'auto' in 1.4. Set the value of `n_init` explicitly to suppress the warning\n",
      "  super()._check_params_vs_input(X, default_n_init=10)\n",
      "C:\\Users\\y0q00wv\\Anaconda3\\lib\\site-packages\\sklearn\\cluster\\_kmeans.py:1416: FutureWarning: The default value of `n_init` will change from 10 to 'auto' in 1.4. Set the value of `n_init` explicitly to suppress the warning\n",
      "  super()._check_params_vs_input(X, default_n_init=10)\n"
     ]
    },
    {
     "name": "stdout",
     "output_type": "stream",
     "text": [
      "silhouette score using new features: 0.7385904917101864\n",
      "silhouette score using all features: 0.734066196315693\n"
     ]
    }
   ],
   "source": [
    "# train using both new_features and all features\n",
    "trained_df_new, kmeans_new, silhouette_score_value_new = train_k_means(clean_df, config, \"new_features\")\n",
    "trained_df_all, kmeans_all, silhouette_score_value_all = train_k_means(clean_df, config, \"all_features\")\n",
    "print(f\"silhouette score using new features: {silhouette_score_value_new}\")\n",
    "print(f\"silhouette score using all features: {silhouette_score_value_all}\")"
   ]
  },
  {
   "cell_type": "code",
   "execution_count": 8,
   "id": "a8041e96",
   "metadata": {},
   "outputs": [
    {
     "name": "stderr",
     "output_type": "stream",
     "text": [
      "C:\\Users\\y0q00wv\\Documents\\GitHub\\Driver-Fraud-Anomoly-Predictive-Model\\model_deployment.py:172: UserWarning: Pandas requires version '1.4.3' or newer of 'xlsxwriter' (version '1.3.7' currently installed).\n",
      "  with pd.ExcelWriter(buffer) as writer:\n"
     ]
    },
    {
     "ename": "AttributeError",
     "evalue": "'OpenpyxlWriter' object has no attribute 'save'",
     "output_type": "error",
     "traceback": [
      "\u001b[1;31m---------------------------------------------------------------------------\u001b[0m",
      "\u001b[1;31mAttributeError\u001b[0m                            Traceback (most recent call last)",
      "Cell \u001b[1;32mIn[8], line 14\u001b[0m\n\u001b[0;32m      6\u001b[0m X \u001b[38;5;241m=\u001b[39m config[\u001b[38;5;124m'\u001b[39m\u001b[38;5;124mclusters_to_share\u001b[39m\u001b[38;5;124m'\u001b[39m]\n\u001b[0;32m      8\u001b[0m df_dict \u001b[38;5;241m=\u001b[39m {\n\u001b[0;32m      9\u001b[0m     \u001b[38;5;124m'\u001b[39m\u001b[38;5;124mSummary_New_Features\u001b[39m\u001b[38;5;124m'\u001b[39m: result_df_new,\n\u001b[0;32m     10\u001b[0m     \u001b[38;5;124mf\u001b[39m\u001b[38;5;124m'\u001b[39m\u001b[38;5;124mDtl_Least\u001b[39m\u001b[38;5;132;01m{\u001b[39;00mX\u001b[38;5;132;01m}\u001b[39;00m\u001b[38;5;124mClstrs_NewFtrs\u001b[39m\u001b[38;5;124m'\u001b[39m: detail_df_new,\n\u001b[0;32m     11\u001b[0m     \u001b[38;5;124m'\u001b[39m\u001b[38;5;124mSummary_All_Features\u001b[39m\u001b[38;5;124m'\u001b[39m: result_df_all,\n\u001b[0;32m     12\u001b[0m     \u001b[38;5;124mf\u001b[39m\u001b[38;5;124m'\u001b[39m\u001b[38;5;124mDtl_Least\u001b[39m\u001b[38;5;132;01m{\u001b[39;00mX\u001b[38;5;132;01m}\u001b[39;00m\u001b[38;5;124mClstrs_AllFtrs\u001b[39m\u001b[38;5;124m'\u001b[39m: detail_df_all\n\u001b[0;32m     13\u001b[0m }\n\u001b[1;32m---> 14\u001b[0m attachment \u001b[38;5;241m=\u001b[39m \u001b[43mcreate_excel_file\u001b[49m\u001b[43m(\u001b[49m\u001b[43mdf_dict\u001b[49m\u001b[43m,\u001b[49m\u001b[43m \u001b[49m\u001b[43mconfig\u001b[49m\u001b[43m)\u001b[49m\n",
      "File \u001b[1;32m~\\Documents\\GitHub\\Driver-Fraud-Anomoly-Predictive-Model\\model_deployment.py:175\u001b[0m, in \u001b[0;36mcreate_excel_file\u001b[1;34m(df_dict, config)\u001b[0m\n\u001b[0;32m    173\u001b[0m         \u001b[38;5;28;01mfor\u001b[39;00m sheetname, data \u001b[38;5;129;01min\u001b[39;00m df_dict\u001b[38;5;241m.\u001b[39mitems():\n\u001b[0;32m    174\u001b[0m             data\u001b[38;5;241m.\u001b[39mto_excel(writer, sheetname, index\u001b[38;5;241m=\u001b[39m\u001b[38;5;28;01mFalse\u001b[39;00m)\n\u001b[1;32m--> 175\u001b[0m     \u001b[43mwriter\u001b[49m\u001b[38;5;241;43m.\u001b[39;49m\u001b[43msave\u001b[49m()\n\u001b[0;32m    176\u001b[0m     buffer_value \u001b[38;5;241m=\u001b[39m buffer\u001b[38;5;241m.\u001b[39mgetvalue()\n\u001b[0;32m    178\u001b[0m attachment \u001b[38;5;241m=\u001b[39m MIMEApplication(buffer_value)\n",
      "\u001b[1;31mAttributeError\u001b[0m: 'OpenpyxlWriter' object has no attribute 'save'"
     ]
    }
   ],
   "source": [
    "# output result\n",
    "result_df_new, detail_df_new = analyze_driver_groups(trained_df_new, config, \"new_features\")\n",
    "result_df_all, detail_df_all = analyze_driver_groups(trained_df_all, config, \"all_features\")\n",
    "\n",
    "# create excel attachment\n",
    "X = config['clusters_to_share']\n",
    "\n",
    "df_dict = {\n",
    "    'Summary_New_Features': result_df_new,\n",
    "    f'Dtl_Least{X}Clstrs_NewFtrs': detail_df_new,\n",
    "    'Summary_All_Features': result_df_all,\n",
    "    f'Dtl_Least{X}Clstrs_AllFtrs': detail_df_all\n",
    "}\n",
    "attachment = create_excel_file(df_dict, config)\n",
    "msg = create_log(log_body, config, is_success, attachment=attachment)\n",
    "send_email(msg)"
   ]
  },
  {
   "cell_type": "code",
   "execution_count": null,
   "id": "7253da0d",
   "metadata": {},
   "outputs": [],
   "source": [
    "# test on fail message\n",
    "fail_log_body = \"TEST on failed message\"\n",
    "success = False\n",
    "msg = create_log(fail_log_body, config, success)\n",
    "send_email(msg)"
   ]
  },
  {
   "cell_type": "markdown",
   "id": "e2b6f42d",
   "metadata": {},
   "source": [
    "Share some driver samples to stakeholder"
   ]
  },
  {
   "cell_type": "code",
   "execution_count": 20,
   "id": "6bfe3c51",
   "metadata": {},
   "outputs": [],
   "source": [
    "result_df_new.to_clipboard(index=False)"
   ]
  },
  {
   "cell_type": "code",
   "execution_count": 21,
   "id": "7ec3e6b3",
   "metadata": {},
   "outputs": [],
   "source": [
    "result_df_all.to_clipboard(index=False)"
   ]
  },
  {
   "cell_type": "code",
   "execution_count": 23,
   "id": "d9789779",
   "metadata": {},
   "outputs": [
    {
     "data": {
      "text/plain": [
       "DEACTIVATION_RSN_NM\n",
       "Platform Manipulation    67\n",
       "Critical - Other         11\n",
       "Critical                 11\n",
       "Behavior                  5\n",
       "Order Theft               4\n",
       "Name: count, dtype: int64"
      ]
     },
     "execution_count": 23,
     "metadata": {},
     "output_type": "execute_result"
    }
   ],
   "source": [
    "trained_df_all[trained_df_all.driver_group_all_features == 2].DEACTIVATION_RSN_NM.value_counts()"
   ]
  },
  {
   "cell_type": "code",
   "execution_count": 26,
   "id": "00e93221",
   "metadata": {},
   "outputs": [],
   "source": [
    "sampled_df_new = trained_df_new.groupby('driver_group_new_features').apply(lambda x: x.sample(n=50))"
   ]
  },
  {
   "cell_type": "code",
   "execution_count": 33,
   "id": "a2b3e434",
   "metadata": {},
   "outputs": [],
   "source": [
    "sampled_df_new.reset_index(drop=True, inplace=True)\n",
    "sampled_df_new.sort_values('driver_group_new_features', inplace=True)"
   ]
  },
  {
   "cell_type": "code",
   "execution_count": 35,
   "id": "377adaec",
   "metadata": {},
   "outputs": [],
   "source": [
    "sampled_df_new.to_clipboard(index=False)"
   ]
  },
  {
   "cell_type": "code",
   "execution_count": 38,
   "id": "8c58da2b",
   "metadata": {},
   "outputs": [
    {
     "data": {
      "text/plain": [
       "0         2024-11-13\n",
       "1         2024-11-13\n",
       "2         2024-11-13\n",
       "3         2024-11-13\n",
       "4         2024-11-13\n",
       "             ...    \n",
       "664343    2024-11-13\n",
       "664344    2024-11-13\n",
       "664345    2024-11-13\n",
       "664346    2024-11-13\n",
       "664347    2024-11-13\n",
       "Name: data_end_dt_pt, Length: 664348, dtype: object"
      ]
     },
     "execution_count": 38,
     "metadata": {},
     "output_type": "execute_result"
    }
   ],
   "source": [
    "trained_df_new.data_end_dt_pt"
   ]
  },
  {
   "cell_type": "code",
   "execution_count": null,
   "id": "29828c20",
   "metadata": {},
   "outputs": [],
   "source": []
  }
 ],
 "metadata": {
  "kernelspec": {
   "display_name": "Python 3",
   "language": "python",
   "name": "python3"
  },
  "language_info": {
   "codemirror_mode": {
    "name": "ipython",
    "version": 3
   },
   "file_extension": ".py",
   "mimetype": "text/x-python",
   "name": "python",
   "nbconvert_exporter": "python",
   "pygments_lexer": "ipython3",
   "version": "3.8.5"
  }
 },
 "nbformat": 4,
 "nbformat_minor": 5
}
