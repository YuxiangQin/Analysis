{
 "cells": [
  {
   "cell_type": "code",
   "execution_count": 3,
   "id": "5aeb193c-2668-4a8f-85be-44ae76ce75bc",
   "metadata": {},
   "outputs": [],
   "source": [
    "# from mlutils import storage\n",
    "# save your password\n",
    "# storage.save_secret(\"password_for_sharepoint_bq_transfer\", \"YOUR_PASSWORD_HERE\")\n",
    "# or update your password\n",
    "# storage.update_secret(\"password_for_sharepoint_bq_transfer\", \"YOUR_PASSWORD_HERE\")"
   ]
  },
  {
   "cell_type": "code",
   "execution_count": 1,
   "id": "ad43db32-bb93-4c42-b5ca-0671b3f0cbbd",
   "metadata": {},
   "outputs": [],
   "source": [
    "run /home/jupyter/automation/inhome/sharepoint_inhome.py --config=config_catchment.json"
   ]
  },
  {
   "cell_type": "code",
   "execution_count": 1,
   "id": "1944bd43-1240-4bdc-b439-bc7a8d8ad474",
   "metadata": {},
   "outputs": [],
   "source": [
    "run /home/jupyter/automation/inhome/sharepoint_inhome.py --config=config_van_count.json"
   ]
  },
  {
   "cell_type": "code",
   "execution_count": 3,
   "id": "76629490-d8d2-4d84-ba64-eeec8de2a96a",
   "metadata": {},
   "outputs": [],
   "source": [
    "run /home/jupyter/automation/inhome/sharepoint_inhome.py --config=config_new_store_launch.json"
   ]
  },
  {
   "cell_type": "code",
   "execution_count": null,
   "id": "8618c543-dd76-4d37-98c2-689e0beb1422",
   "metadata": {},
   "outputs": [],
   "source": []
  }
 ],
 "metadata": {
  "kernelspec": {
   "display_name": "bigquery_sharepoint",
   "language": "python",
   "name": "57369"
  },
  "language_info": {
   "codemirror_mode": {
    "name": "ipython",
    "version": 3
   },
   "file_extension": ".py",
   "mimetype": "text/x-python",
   "name": "python",
   "nbconvert_exporter": "python",
   "pygments_lexer": "ipython3",
   "version": "3.7.0"
  }
 },
 "nbformat": 4,
 "nbformat_minor": 5
}
