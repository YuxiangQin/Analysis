{
 "cells": [
  {
   "cell_type": "code",
   "execution_count": 1,
   "metadata": {},
   "outputs": [],
   "source": [
    "import pandas as pd\n",
    "import pandas_gbq\n",
    "from google.cloud import bigquery\n",
    "%reload_ext google.cloud.bigquery\n",
    "# Set your default project here\n",
    "pandas_gbq.context.project = 'wmt-edw-sandbox'\n",
    "pandas_gbq.context.dialect = 'standard'"
   ]
  },
  {
   "cell_type": "code",
   "execution_count": 4,
   "metadata": {},
   "outputs": [],
   "source": [
    "base_rate = pd.read_csv('base_rate.csv')\n",
    "dist_over_rate = pd.read_csv('distance_overage_rate.csv')"
   ]
  },
  {
   "cell_type": "code",
   "execution_count": 5,
   "metadata": {},
   "outputs": [
    {
     "name": "stderr",
     "output_type": "stream",
     "text": [
      "1it [00:05,  5.51s/it]\n",
      "1it [00:05,  5.63s/it]\n"
     ]
    }
   ],
   "source": [
    "base_rate.to_gbq('LM_IAD_DAAS.GOLOCAL_BASE_RATE_TEMP',project_id='wmt-edw-sandbox',if_exists='replace',\n",
    "                table_schema = [{'name':'rate_start_date','type': 'DATE'},\n",
    "                               {'name':'rate_end_date','type': 'DATE'}])\n",
    "dist_over_rate.to_gbq('LM_IAD_DAAS.GOLOCAL_DISTN_OVER_RATE_TEMP',project_id='wmt-edw-sandbox',if_exists='replace',\n",
    "                      table_schema = [{'name':'rate_start_date','type': 'DATE'},\n",
    "                               {'name':'rate_end_date','type': 'DATE'}])"
   ]
  },
  {
   "cell_type": "code",
   "execution_count": null,
   "metadata": {},
   "outputs": [],
   "source": []
  }
 ],
 "metadata": {
  "kernelspec": {
   "display_name": "Python 3",
   "language": "python",
   "name": "python3"
  },
  "language_info": {
   "codemirror_mode": {
    "name": "ipython",
    "version": 3
   },
   "file_extension": ".py",
   "mimetype": "text/x-python",
   "name": "python",
   "nbconvert_exporter": "python",
   "pygments_lexer": "ipython3",
   "version": "3.8.5"
  }
 },
 "nbformat": 4,
 "nbformat_minor": 4
}
