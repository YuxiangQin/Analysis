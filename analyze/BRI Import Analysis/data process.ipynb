{
 "cells": [
  {
   "cell_type": "code",
   "execution_count": 1,
   "metadata": {},
   "outputs": [],
   "source": [
    "import os\n",
    "import pandas as pd\n",
    "import numpy as np\n",
    "import time\n",
    "import re\n",
    "import seaborn as sns"
   ]
  },
  {
   "cell_type": "code",
   "execution_count": 2,
   "metadata": {},
   "outputs": [],
   "source": [
    "def load_data_from_folder(folder_path, skiprows=0, cols_to_read=None):\n",
    "    ''' Load data from a folder, combine all files data vertically. (files should have same columns)'''\n",
    "    # Get a list of all files in the folder\n",
    "    all_files = [f for f in os.listdir(folder_path) if os.path.isfile(os.path.join(folder_path, f))]\n",
    "\n",
    "    # Initialize an empty DataFrame to store the combined data\n",
    "    df_combine = pd.DataFrame()\n",
    "\n",
    "    # Loop through the files, read the data, and append it to the combined_data DataFrame\n",
    "    for file in all_files:\n",
    "        file_path = os.path.join(folder_path, file)\n",
    "\n",
    "        # Read the data from the current file\n",
    "        print(\"Loading \" + file)\n",
    "        df_curr = pd.read_excel(file_path, skiprows=skiprows, usecols=cols_to_read)\n",
    "        \n",
    "\n",
    "        # Append data to combined_data DataFrame\n",
    "        df_combine = pd.concat([df_combine, df_curr], axis=0, ignore_index=True)\n",
    "    return df_combine"
   ]
  },
  {
   "cell_type": "code",
   "execution_count": 3,
   "metadata": {},
   "outputs": [],
   "source": [
    "def load_csv_data_from_folder(folder_path, skiprows=0, cols_to_read=None, dtype=None):\n",
    "    ''' Load csv data files from a folder, combine all data vertically. (files should have same columns)'''\n",
    "    # Get a list of all files in the folder\n",
    "    all_files = [f for f in os.listdir(folder_path) if os.path.isfile(os.path.join(folder_path, f))]\n",
    "\n",
    "    # Initialize an empty DataFrame to store the combined data\n",
    "    df_combine = pd.DataFrame()\n",
    "\n",
    "    # Loop through the files, read the data, and append it to the combined_data DataFrame\n",
    "    for file in all_files:\n",
    "        file_path = os.path.join(folder_path, file)\n",
    "\n",
    "        # Read the data from the current file\n",
    "        print(\"Loading \" + file)\n",
    "        df_curr = pd.read_csv(file_path, skiprows=skiprows, usecols=cols_to_read, dtype=dtype, encoding='ISO-8859-1')\n",
    "        \n",
    "\n",
    "        # Append data to combined_data DataFrame\n",
    "        df_combine = pd.concat([df_combine, df_curr], axis=0, ignore_index=True)\n",
    "    return df_combine"
   ]
  },
  {
   "cell_type": "code",
   "execution_count": 24,
   "metadata": {},
   "outputs": [],
   "source": [
    "def clean_channel(df, channel_str, coo_str, domestic_str):\n",
    "    ''' Clean channel to three buckets: domestic, domestic-import, import.'''\n",
    "    df['Channel_Clean'] = np.where((df[coo_str] == domestic_str) | (df[coo_str].isnull()), \n",
    "         'Domestic', 'Domestic-Import')\n",
    "    df['Channel_Clean'] = np.where(df[channel_str] == 'Import', 'Import', df['Channel_Clean'])\n",
    "\n",
    "def clean_data(df):\n",
    "    # remove first column\n",
    "    df.drop(df.columns[0], axis=1, inplace=True)\n",
    "    \n",
    "    # remove duplicates\n",
    "    df.drop_duplicates(inplace=True)\n",
    "    \n",
    "    # clean channel\n",
    "    clean_channel(df, 'CHANNEL_CODE', 'COUNTRY_CODE', 'United States')\n",
    "    \n",
    "    # reshape the dataframe\n",
    "    id_vars = ['SBU_DESC', 'ACCTG_DEPT_DESC', 'DEPT_CATEGORY_DESC', 'CHANNEL_CODE',\n",
    "       'COUNTRY_CODE', 'BRAND_INDICATOR', 'Channel_Clean']\n",
    "    value_vars = [i for i in df.columns if ' - ' in i] # catch format pattern like \"2023 - NOV\"\n",
    "    df = df.melt(id_vars=id_vars + ['DATA_TYPE'], value_vars=value_vars, var_name='Year_Month')\n",
    "    df = pd.pivot_table(df, \n",
    "                        index=id_vars + ['Year_Month'], \n",
    "                        columns='DATA_TYPE', \n",
    "                        values='value').reset_index()\n",
    "    \n",
    "    # generate new columns\n",
    "    df['Cost'] = df['TY_POS_QTY'] * df['AUC']\n",
    "    df['year'] = df['Year_Month'].str.split(\"-\", expand=True)[0].str.strip()\n",
    "    df['month'] = df['Year_Month'].str.split(\"-\", expand=True)[1].str.strip()\n",
    "    \n",
    "    return df"
   ]
  },
  {
   "cell_type": "code",
   "execution_count": 5,
   "metadata": {},
   "outputs": [],
   "source": [
    "def clean_item_data(df):\n",
    "    '''Clean item level data'''\n",
    "    # remove first column\n",
    "    df.drop(df.columns[0], axis=1, inplace=True)\n",
    "    \n",
    "    # remove duplicates\n",
    "    df.drop_duplicates(inplace=True)\n",
    "    \n",
    "    # clean channel to three buckets: domestic, domestic-import, import\n",
    "    df['Channel_Clean'] = np.where((df['COUNTRY_CODE'] == 'United States') | (df['COUNTRY_CODE'].isnull()), \n",
    "         'Domestic', 'Domestic-Import')\n",
    "    df['Channel_Clean'] = np.where(df['CHANNEL_CODE'] == 'Import', 'Import', df['Channel_Clean'])\n",
    "    \n",
    "    return df"
   ]
  },
  {
   "cell_type": "code",
   "execution_count": 6,
   "metadata": {},
   "outputs": [],
   "source": [
    "def convert_to_number(num_str):\n",
    "    '''Convert string to number formatted string.'''\n",
    "    if pd.isnull(num_str):\n",
    "        return '0'\n",
    "    \n",
    "    num_str = num_str.replace(\"$\", '').replace(\",\",'')\n",
    "    \n",
    "    if num_str[0] == '(': # negative numbers\n",
    "        return '-' + num_str[1:-1]\n",
    "    else:\n",
    "        return num_str"
   ]
  },
  {
   "cell_type": "code",
   "execution_count": 7,
   "metadata": {},
   "outputs": [],
   "source": [
    "def clean_container_data(df):\n",
    "    ''' Clean combined data from container equivalency report'''\n",
    "    \n",
    "    convert_cols = ['Net Ship Units - Timeframe',\n",
    "                     'Net Ships Cost - Timeframe',\n",
    "                     'Net Ship Retail - Timeframe',\n",
    "                     'Estimated 20ft Containers Per Month',\n",
    "                     'Estimated 40ft Containers Per Month',\n",
    "                     'Units Per 20ft Container',\n",
    "                     'Units Per 40ft Container']\n",
    "    # Conver string to number\n",
    "    for col in convert_cols:\n",
    "        df[col] = df[col].apply(convert_to_number).astype(float)\n",
    "    \n",
    "    # remove duplicates\n",
    "    df.drop_duplicates(inplace=True)\n",
    "    \n",
    "    # Clean channel    \n",
    "    clean_channel(df_container, 'Channel', 'Country of Origin', 'US')\n",
    "    \n",
    "    # Calculate new columns\n",
    "    df['Estimated 20ft Containers'] = df['Estimated 20ft Containers Per Month'] * 12\n",
    "    df['Estimated 40ft Containers'] = df['Estimated 40ft Containers Per Month'] * 12\n",
    "    df['Calculated 20ft Containers'] = np.where(df['Units Per 20ft Container'] != 0, \n",
    "                                                df['Net Ship Units - Timeframe'] / df['Units Per 20ft Container'], \n",
    "                                                0)\n",
    "    df['Calculated 40ft Containers'] = np.where(df['Units Per 40ft Container'] != 0, \n",
    "                                                df['Net Ship Units - Timeframe'] / df['Units Per 40ft Container'], \n",
    "                                                0)\n",
    "    \n",
    "    # Rename columns\n",
    "    df.rename(columns={'Net Ship Units - Timeframe': 'Net Ship Units',\n",
    "                     'Net Ships Cost - Timeframe': 'Net Ships Cost',\n",
    "                     'Net Ship Retail - Timeframe': 'Net Ship Retail'}, inplace=True)"
   ]
  },
  {
   "cell_type": "code",
   "execution_count": 8,
   "metadata": {},
   "outputs": [],
   "source": [
    "def check_agg(df, agg_list, values=['TY_POS_SALES', 'TY_POS_QTY', 'Cost', 'LY_POS_SALES', 'LY_POS_QTY']):\n",
    "    return df.groupby(agg_list)[values].sum()"
   ]
  },
  {
   "cell_type": "code",
   "execution_count": null,
   "metadata": {},
   "outputs": [],
   "source": []
  },
  {
   "cell_type": "markdown",
   "metadata": {},
   "source": [
    "### Process category level data in excel files"
   ]
  },
  {
   "cell_type": "code",
   "execution_count": 16,
   "metadata": {},
   "outputs": [],
   "source": [
    "folder_path = r'C:\\Users\\y0q00wv\\Documents\\Roger Qin\\Data Analytics\\BRI Import Analysis\\Spine Reports - Mar 2024'"
   ]
  },
  {
   "cell_type": "code",
   "execution_count": 25,
   "metadata": {},
   "outputs": [
    {
     "name": "stdout",
     "output_type": "stream",
     "text": [
      "Loading apparel.xlsx\n",
      "Loading consumables.xlsx\n",
      "Loading entertainment.xlsx\n",
      "Loading food.xlsx\n",
      "Loading h&w.xlsx\n",
      "Loading HL.xlsx\n",
      "Loading home.xlsx\n",
      "Loading others.xlsx\n",
      "Loading toys_seasonal.xlsx\n"
     ]
    }
   ],
   "source": [
    "df = load_data_from_folder(folder_path, skiprows=10)\n",
    "df = clean_data(df)"
   ]
  },
  {
   "cell_type": "code",
   "execution_count": 26,
   "metadata": {},
   "outputs": [],
   "source": [
    "df.to_csv(folder_path + '//raw_data_cleaned.csv', index=False)"
   ]
  },
  {
   "cell_type": "code",
   "execution_count": 21,
   "metadata": {},
   "outputs": [
    {
     "data": {
      "text/html": [
       "<div>\n",
       "<style scoped>\n",
       "    .dataframe tbody tr th:only-of-type {\n",
       "        vertical-align: middle;\n",
       "    }\n",
       "\n",
       "    .dataframe tbody tr th {\n",
       "        vertical-align: top;\n",
       "    }\n",
       "\n",
       "    .dataframe thead th {\n",
       "        text-align: right;\n",
       "    }\n",
       "</style>\n",
       "<table border=\"1\" class=\"dataframe\">\n",
       "  <thead>\n",
       "    <tr style=\"text-align: right;\">\n",
       "      <th>DATA_TYPE</th>\n",
       "      <th>TY_POS_SALES</th>\n",
       "      <th>TY_POS_QTY</th>\n",
       "      <th>Cost</th>\n",
       "      <th>LY_POS_SALES</th>\n",
       "      <th>LY_POS_QTY</th>\n",
       "    </tr>\n",
       "    <tr>\n",
       "      <th>Channel_Clean</th>\n",
       "      <th></th>\n",
       "      <th></th>\n",
       "      <th></th>\n",
       "      <th></th>\n",
       "      <th></th>\n",
       "    </tr>\n",
       "  </thead>\n",
       "  <tbody>\n",
       "    <tr>\n",
       "      <th>Domestic</th>\n",
       "      <td>3.009624e+11</td>\n",
       "      <td>6.445451e+10</td>\n",
       "      <td>1.923325e+11</td>\n",
       "      <td>2.900497e+11</td>\n",
       "      <td>6.491309e+10</td>\n",
       "    </tr>\n",
       "    <tr>\n",
       "      <th>Domestic-Import</th>\n",
       "      <td>9.027466e+10</td>\n",
       "      <td>1.270758e+10</td>\n",
       "      <td>6.026010e+10</td>\n",
       "      <td>8.965238e+10</td>\n",
       "      <td>1.278609e+10</td>\n",
       "    </tr>\n",
       "    <tr>\n",
       "      <th>Import</th>\n",
       "      <td>3.203207e+10</td>\n",
       "      <td>4.389299e+09</td>\n",
       "      <td>2.008643e+10</td>\n",
       "      <td>3.352614e+10</td>\n",
       "      <td>4.470411e+09</td>\n",
       "    </tr>\n",
       "  </tbody>\n",
       "</table>\n",
       "</div>"
      ],
      "text/plain": [
       "DATA_TYPE        TY_POS_SALES    TY_POS_QTY          Cost  LY_POS_SALES  \\\n",
       "Channel_Clean                                                             \n",
       "Domestic         3.009624e+11  6.445451e+10  1.923325e+11  2.900497e+11   \n",
       "Domestic-Import  9.027466e+10  1.270758e+10  6.026010e+10  8.965238e+10   \n",
       "Import           3.203207e+10  4.389299e+09  2.008643e+10  3.352614e+10   \n",
       "\n",
       "DATA_TYPE          LY_POS_QTY  \n",
       "Channel_Clean                  \n",
       "Domestic         6.491309e+10  \n",
       "Domestic-Import  1.278609e+10  \n",
       "Import           4.470411e+09  "
      ]
     },
     "execution_count": 21,
     "metadata": {},
     "output_type": "execute_result"
    }
   ],
   "source": [
    "check_agg(df, ['Channel_Clean'])"
   ]
  },
  {
   "cell_type": "code",
   "execution_count": 124,
   "metadata": {},
   "outputs": [],
   "source": [
    "check_agg(df, ['BRAND_INDICATOR', 'Channel_Clean']).to_clipboard()"
   ]
  },
  {
   "cell_type": "code",
   "execution_count": null,
   "metadata": {},
   "outputs": [],
   "source": []
  },
  {
   "cell_type": "markdown",
   "metadata": {},
   "source": [
    "### Process data from Container Equivalency reports"
   ]
  },
  {
   "cell_type": "code",
   "execution_count": 8,
   "metadata": {},
   "outputs": [],
   "source": [
    "# Define the folder path\n",
    "item_folder_path = r'C:\\Users\\y0q00wv\\Documents\\Roger Qin\\Data Analytics\\BRI Import Analysis\\Spine Reports Item Level'\n",
    "container_folder_path = r'C:\\Users\\y0q00wv\\Documents\\Roger Qin\\Data Analytics\\BRI Import Analysis\\Spine Reports - Container Equivalency'"
   ]
  },
  {
   "cell_type": "code",
   "execution_count": 200,
   "metadata": {},
   "outputs": [
    {
     "name": "stdout",
     "output_type": "stream",
     "text": [
      "Loading container_apparel_national_dep1.csv\n",
      "Loading container_apparel_national_dep2.csv\n",
      "Loading container_apparel_national_dep3.csv\n",
      "Loading container_apparel_national_dep4.csv\n",
      "Loading container_apparel_private_dome.csv\n",
      "Loading container_apparel_private_impo.csv\n",
      "Loading container_consumable.csv\n",
      "Loading container_entertainment.csv\n",
      "Loading container_food.csv\n",
      "Loading container_HL.csv\n",
      "Loading container_Home.csv\n",
      "Loading container_HW.csv\n",
      "Loading container_other.csv\n",
      "Loading container_toys.csv\n",
      "File read in 1.0 minutes and 57.0 seconds\n",
      "Cleaning data...\n",
      "Data clean complete\n"
     ]
    }
   ],
   "source": [
    "need_cols = ['SBU',\n",
    "             'Item Number',\n",
    "             'Item Description',\n",
    "             'UPC Number',\n",
    "             'Department Desc',\n",
    "             'Dept Category Desc',\n",
    "             'Channel',\n",
    "             'Country of Origin',\n",
    "             'Net Ship Units - Timeframe',\n",
    "             'Net Ships Cost - Timeframe',\n",
    "             'Net Ship Retail - Timeframe',\n",
    "             'Estimated 20ft Containers Per Month',\n",
    "             'Estimated 40ft Containers Per Month',\n",
    "             'Units Per 20ft Container',\n",
    "             'Units Per 40ft Container']\n",
    "data_types = {'UPC Number':'int64',\n",
    "              'Net Ship Units - Timeframe': str,\n",
    "             'Net Ships Cost - Timeframe': str,\n",
    "             'Net Ship Retail - Timeframe': str,\n",
    "             'Estimated 20ft Containers Per Month': str,\n",
    "             'Estimated 40ft Containers Per Month': str,\n",
    "             'Units Per 20ft Container': str,\n",
    "             'Units Per 40ft Container': str}\n",
    "\n",
    "start_time = time.time()\n",
    "df_container = load_csv_data_from_folder(container_folder_path, cols_to_read=need_cols, dtype=data_types)\n",
    "end_time = time.time()\n",
    "\n",
    "duration_time = round(end_time - start_time, 0)\n",
    "print(f\"File read in {duration_time // 60} minutes and {duration_time % 60} seconds\")\n",
    "\n",
    "# clean data\n",
    "print(\"Cleaning data...\")\n",
    "clean_container_data(df_container)\n",
    "print(\"Data clean complete\")"
   ]
  },
  {
   "cell_type": "code",
   "execution_count": 201,
   "metadata": {},
   "outputs": [],
   "source": [
    "# filter to items with volume\n",
    "df_container_volume = df_container[(df_container['Net Ship Units'] != 0) | (df_container['Net Ships Cost'] != 0) | (df_container['Net Ship Retail'] != 0)].copy()"
   ]
  },
  {
   "cell_type": "markdown",
   "metadata": {},
   "source": [
    "Among all items with ship volume, 26.7% items don't have units per container information"
   ]
  },
  {
   "cell_type": "code",
   "execution_count": 214,
   "metadata": {},
   "outputs": [
    {
     "data": {
      "text/plain": [
       "0.26725128061595643"
      ]
     },
     "execution_count": 214,
     "metadata": {},
     "output_type": "execute_result"
    }
   ],
   "source": [
    "df_container_volume[(df_container_volume['Units Per 20ft Container'] == 0) & \\\n",
    "                   (df_container_volume['Units Per 40ft Container'] == 0)].shape[0] / df_container_volume.shape[0]"
   ]
  },
  {
   "cell_type": "code",
   "execution_count": 13,
   "metadata": {},
   "outputs": [
    {
     "name": "stdout",
     "output_type": "stream",
     "text": [
      "<class 'pandas.core.frame.DataFrame'>\n",
      "Int64Index: 5498670 entries, 0 to 6191969\n",
      "Data columns (total 18 columns):\n",
      " #   Column                               Dtype  \n",
      "---  ------                               -----  \n",
      " 0   SBU                                  object \n",
      " 1   Item Number                          int64  \n",
      " 2   Department Desc                      object \n",
      " 3   Dept Category Desc                   object \n",
      " 4   Country of Origin                    object \n",
      " 5   Net Ship Units                       float64\n",
      " 6   Net Ships Cost                       float64\n",
      " 7   Net Ship Retail                      float64\n",
      " 8   Channel                              object \n",
      " 9   Estimated 20ft Containers Per Month  float64\n",
      " 10  Units Per 20ft Container             float64\n",
      " 11  Estimated 40ft Containers Per Month  float64\n",
      " 12  Units Per 40ft Container             float64\n",
      " 13  Channel_Clean                        object \n",
      " 14  Estimated 20ft Containers            float64\n",
      " 15  Estimated 40ft Containers            float64\n",
      " 16  Calculated 20ft Containers           float64\n",
      " 17  Calculated 40ft Containers           float64\n",
      "dtypes: float64(11), int64(1), object(6)\n",
      "memory usage: 797.1+ MB\n"
     ]
    }
   ],
   "source": [
    "df_container.info()"
   ]
  },
  {
   "cell_type": "code",
   "execution_count": 202,
   "metadata": {},
   "outputs": [],
   "source": [
    "# volume of items with no container info.\n",
    "check_agg(df_container_volume[(df_container_volume['Units Per 20ft Container'] == 0) & \\\n",
    "                   (df_container_volume['Units Per 40ft Container'] == 0)],\n",
    "          ['Channel_Clean'], \n",
    "          ['Net Ship Retail',\n",
    "           'Net Ship Units',\n",
    "             'Net Ships Cost']).to_clipboard()"
   ]
  },
  {
   "cell_type": "code",
   "execution_count": 203,
   "metadata": {},
   "outputs": [
    {
     "data": {
      "text/plain": [
       "1586346"
      ]
     },
     "execution_count": 203,
     "metadata": {},
     "output_type": "execute_result"
    }
   ],
   "source": [
    "df_container_volume.shape[0]"
   ]
  },
  {
   "cell_type": "code",
   "execution_count": 26,
   "metadata": {},
   "outputs": [
    {
     "data": {
      "text/html": [
       "<div>\n",
       "<style scoped>\n",
       "    .dataframe tbody tr th:only-of-type {\n",
       "        vertical-align: middle;\n",
       "    }\n",
       "\n",
       "    .dataframe tbody tr th {\n",
       "        vertical-align: top;\n",
       "    }\n",
       "\n",
       "    .dataframe thead th {\n",
       "        text-align: right;\n",
       "    }\n",
       "</style>\n",
       "<table border=\"1\" class=\"dataframe\">\n",
       "  <thead>\n",
       "    <tr style=\"text-align: right;\">\n",
       "      <th></th>\n",
       "      <th>SBU</th>\n",
       "      <th>Item Number</th>\n",
       "      <th>Department Desc</th>\n",
       "      <th>Dept Category Desc</th>\n",
       "      <th>Country of Origin</th>\n",
       "      <th>Net Ship Units</th>\n",
       "      <th>Net Ships Cost</th>\n",
       "      <th>Net Ship Retail</th>\n",
       "      <th>Channel</th>\n",
       "      <th>Channel_Clean</th>\n",
       "      <th>Estimated 20ft Containers</th>\n",
       "      <th>Estimated 40ft Containers</th>\n",
       "    </tr>\n",
       "  </thead>\n",
       "  <tbody>\n",
       "    <tr>\n",
       "      <th>55</th>\n",
       "      <td>APPAREL</td>\n",
       "      <td>586690060</td>\n",
       "      <td>MENS APPAREL</td>\n",
       "      <td>ACCESSORIES L3 MENS</td>\n",
       "      <td>BD</td>\n",
       "      <td>288.0</td>\n",
       "      <td>984.96</td>\n",
       "      <td>2868.48</td>\n",
       "      <td>Import</td>\n",
       "      <td>Import</td>\n",
       "      <td>0.00</td>\n",
       "      <td>0.00</td>\n",
       "    </tr>\n",
       "    <tr>\n",
       "      <th>56</th>\n",
       "      <td>APPAREL</td>\n",
       "      <td>586690061</td>\n",
       "      <td>MENS APPAREL</td>\n",
       "      <td>ACCESSORIES L3 MENS</td>\n",
       "      <td>BD</td>\n",
       "      <td>624.0</td>\n",
       "      <td>2134.08</td>\n",
       "      <td>6215.04</td>\n",
       "      <td>Import</td>\n",
       "      <td>Import</td>\n",
       "      <td>0.00</td>\n",
       "      <td>0.00</td>\n",
       "    </tr>\n",
       "    <tr>\n",
       "      <th>60</th>\n",
       "      <td>APPAREL</td>\n",
       "      <td>586690073</td>\n",
       "      <td>MENS APPAREL</td>\n",
       "      <td>ACCESSORIES L3 MENS</td>\n",
       "      <td>BD</td>\n",
       "      <td>9596.0</td>\n",
       "      <td>34257.72</td>\n",
       "      <td>95836.64</td>\n",
       "      <td>Import</td>\n",
       "      <td>Import</td>\n",
       "      <td>0.12</td>\n",
       "      <td>0.12</td>\n",
       "    </tr>\n",
       "    <tr>\n",
       "      <th>61</th>\n",
       "      <td>APPAREL</td>\n",
       "      <td>581934419</td>\n",
       "      <td>MENS APPAREL</td>\n",
       "      <td>ACCESSORIES L3 MENS</td>\n",
       "      <td>BD</td>\n",
       "      <td>3.0</td>\n",
       "      <td>9.47</td>\n",
       "      <td>29.88</td>\n",
       "      <td>Import</td>\n",
       "      <td>Import</td>\n",
       "      <td>0.00</td>\n",
       "      <td>0.00</td>\n",
       "    </tr>\n",
       "    <tr>\n",
       "      <th>63</th>\n",
       "      <td>APPAREL</td>\n",
       "      <td>586690082</td>\n",
       "      <td>MENS APPAREL</td>\n",
       "      <td>ACCESSORIES L3 MENS</td>\n",
       "      <td>BD</td>\n",
       "      <td>16242.0</td>\n",
       "      <td>57966.68</td>\n",
       "      <td>162177.92</td>\n",
       "      <td>Import</td>\n",
       "      <td>Import</td>\n",
       "      <td>0.24</td>\n",
       "      <td>0.12</td>\n",
       "    </tr>\n",
       "  </tbody>\n",
       "</table>\n",
       "</div>"
      ],
      "text/plain": [
       "        SBU  Item Number Department Desc   Dept Category Desc  \\\n",
       "55  APPAREL    586690060    MENS APPAREL  ACCESSORIES L3 MENS   \n",
       "56  APPAREL    586690061    MENS APPAREL  ACCESSORIES L3 MENS   \n",
       "60  APPAREL    586690073    MENS APPAREL  ACCESSORIES L3 MENS   \n",
       "61  APPAREL    581934419    MENS APPAREL  ACCESSORIES L3 MENS   \n",
       "63  APPAREL    586690082    MENS APPAREL  ACCESSORIES L3 MENS   \n",
       "\n",
       "   Country of Origin  Net Ship Units  Net Ships Cost  Net Ship Retail Channel  \\\n",
       "55                BD           288.0          984.96          2868.48  Import   \n",
       "56                BD           624.0         2134.08          6215.04  Import   \n",
       "60                BD          9596.0        34257.72         95836.64  Import   \n",
       "61                BD             3.0            9.47            29.88  Import   \n",
       "63                BD         16242.0        57966.68        162177.92  Import   \n",
       "\n",
       "   Channel_Clean  Estimated 20ft Containers  Estimated 40ft Containers  \n",
       "55        Import                       0.00                       0.00  \n",
       "56        Import                       0.00                       0.00  \n",
       "60        Import                       0.12                       0.12  \n",
       "61        Import                       0.00                       0.00  \n",
       "63        Import                       0.24                       0.12  "
      ]
     },
     "execution_count": 26,
     "metadata": {},
     "output_type": "execute_result"
    }
   ],
   "source": [
    "df_container_volume[['SBU', 'Item Number', 'Department Desc', 'Dept Category Desc',\n",
    "       'Country of Origin', 'Net Ship Units', 'Net Ships Cost',\n",
    "       'Net Ship Retail', 'Channel', 'Channel_Clean',\n",
    "       'Estimated 20ft Containers', 'Estimated 40ft Containers']].head()"
   ]
  },
  {
   "cell_type": "code",
   "execution_count": 48,
   "metadata": {},
   "outputs": [
    {
     "data": {
      "text/plain": [
       "-108230033.0"
      ]
     },
     "execution_count": 48,
     "metadata": {},
     "output_type": "execute_result"
    }
   ],
   "source": [
    "df_container_volume[(df_container_volume['Net Ship Units'] < 0)]['Net Ship Units'].sum()"
   ]
  },
  {
   "cell_type": "code",
   "execution_count": 49,
   "metadata": {},
   "outputs": [
    {
     "data": {
      "text/plain": [
       "-4459.800000000001"
      ]
     },
     "execution_count": 49,
     "metadata": {},
     "output_type": "execute_result"
    }
   ],
   "source": [
    "df_container_volume[(df_container_volume['Net Ship Units'] < 0)]['Estimated 20ft Containers'].sum()"
   ]
  },
  {
   "cell_type": "code",
   "execution_count": 61,
   "metadata": {
    "scrolled": true
   },
   "outputs": [
    {
     "data": {
      "text/plain": [
       "count    1.299590e+06\n",
       "mean     1.499141e+02\n",
       "std      8.830549e+03\n",
       "min      0.000000e+00\n",
       "25%      0.000000e+00\n",
       "50%      0.000000e+00\n",
       "75%      1.080000e+00\n",
       "max      3.065382e+06\n",
       "Name: Estimated 20ft Containers, dtype: float64"
      ]
     },
     "execution_count": 61,
     "metadata": {},
     "output_type": "execute_result"
    }
   ],
   "source": [
    "df_container_volume[df_container_volume['Net Ship Units'] > 0]['Estimated 20ft Containers'].describe()"
   ]
  },
  {
   "cell_type": "code",
   "execution_count": 64,
   "metadata": {},
   "outputs": [],
   "source": [
    "df_container_volume[df_container_volume['Estimated 20ft Containers'] > 200000].to_clipboard()"
   ]
  },
  {
   "cell_type": "code",
   "execution_count": 59,
   "metadata": {},
   "outputs": [],
   "source": [
    "df_container_volume[df_container_volume['Units Per 20ft Container'] > 0]['Units Per 20ft Container'].describe().to_clipboard()"
   ]
  },
  {
   "cell_type": "code",
   "execution_count": 73,
   "metadata": {},
   "outputs": [
    {
     "data": {
      "text/plain": [
       "1250.0"
      ]
     },
     "execution_count": 73,
     "metadata": {},
     "output_type": "execute_result"
    }
   ],
   "source": [
    "df_container_volume[df_container_volume['Units Per 20ft Container'] > 0]['Units Per 20ft Container'].quantile(.25)"
   ]
  },
  {
   "cell_type": "code",
   "execution_count": 74,
   "metadata": {},
   "outputs": [
    {
     "data": {
      "text/plain": [
       "14580.0"
      ]
     },
     "execution_count": 74,
     "metadata": {},
     "output_type": "execute_result"
    }
   ],
   "source": [
    "df_container_volume[df_container_volume['Units Per 20ft Container'] > 0]['Units Per 20ft Container'].quantile(.75)"
   ]
  },
  {
   "cell_type": "markdown",
   "metadata": {},
   "source": [
    "#### 3IQR is not ideal here, need to decide a thershold to identify outliers for `Units Per 20ft Container`"
   ]
  },
  {
   "cell_type": "code",
   "execution_count": 79,
   "metadata": {},
   "outputs": [],
   "source": [
    "import seaborn as sns"
   ]
  },
  {
   "cell_type": "code",
   "execution_count": 78,
   "metadata": {},
   "outputs": [
    {
     "data": {
      "image/png": "[encoded data removed]",
      "text/plain": [
       "<Figure size 432x288 with 1 Axes>"
      ]
     },
     "metadata": {
      "needs_background": "light"
     },
     "output_type": "display_data"
    }
   ],
   "source": [
    "df_container_volume[(df_container_volume['Units Per 20ft Container'] > 0) & \\\n",
    "                    (df_container_volume['Units Per 20ft Container'] < 20000)]['Units Per 20ft Container'].hist();"
   ]
  },
  {
   "cell_type": "code",
   "execution_count": 88,
   "metadata": {},
   "outputs": [
    {
     "data": {
      "image/png": "[encoded data removed]",
      "text/plain": [
       "<Figure size 432x288 with 1 Axes>"
      ]
     },
     "metadata": {
      "needs_background": "light"
     },
     "output_type": "display_data"
    }
   ],
   "source": [
    "sns.violinplot(data=df_container_volume[(df_container_volume['Units Per 20ft Container'] > 0) & \\\n",
    "                    (df_container_volume['Units Per 20ft Container'] < 10000)], \n",
    "               y='Units Per 20ft Container');"
   ]
  },
  {
   "cell_type": "code",
   "execution_count": 89,
   "metadata": {},
   "outputs": [
    {
     "data": {
      "image/png": "[encoded data removed]",
      "text/plain": [
       "<Figure size 432x288 with 1 Axes>"
      ]
     },
     "metadata": {
      "needs_background": "light"
     },
     "output_type": "display_data"
    }
   ],
   "source": [
    "sns.violinplot(data=df_container_volume[(df_container_volume['Units Per 20ft Container'] > 0) & \\\n",
    "                    (df_container_volume['Units Per 20ft Container'] < 1000)], \n",
    "               y='Units Per 20ft Container');"
   ]
  },
  {
   "cell_type": "code",
   "execution_count": 87,
   "metadata": {},
   "outputs": [
    {
     "data": {
      "image/png": "[encoded data removed]",
      "text/plain": [
       "<Figure size 432x288 with 1 Axes>"
      ]
     },
     "metadata": {
      "needs_background": "light"
     },
     "output_type": "display_data"
    }
   ],
   "source": [
    "sns.violinplot(data=df_container_volume[(df_container_volume['Units Per 20ft Container'] > 0) & \\\n",
    "                    (df_container_volume['Units Per 20ft Container'] < 100)], \n",
    "               y='Units Per 20ft Container');"
   ]
  },
  {
   "cell_type": "markdown",
   "metadata": {},
   "source": [
    "Seems handle `Unit Per 20ft Container == 10` items should solve the problem.  \n",
    "Check some sample between 20 and 200, to make sure they're valid:"
   ]
  },
  {
   "cell_type": "code",
   "execution_count": 98,
   "metadata": {},
   "outputs": [],
   "source": [
    "df_container_volume[(df_container_volume['Units Per 20ft Container'] > 20) & \\\n",
    "                    (df_container_volume['Units Per 20ft Container'] < 200)].sample(5).to_clipboard(index=False)"
   ]
  },
  {
   "cell_type": "code",
   "execution_count": 99,
   "metadata": {},
   "outputs": [],
   "source": [
    "df_container_volume[(df_container_volume['Units Per 20ft Container'] > 200) & \\\n",
    "                    (df_container_volume['Units Per 20ft Container'] < 300)].sample(5).to_clipboard(index=False)"
   ]
  },
  {
   "cell_type": "code",
   "execution_count": 106,
   "metadata": {},
   "outputs": [
    {
     "data": {
      "image/png": "[encoded data removed]",
      "text/plain": [
       "<Figure size 432x288 with 1 Axes>"
      ]
     },
     "metadata": {
      "needs_background": "light"
     },
     "output_type": "display_data"
    }
   ],
   "source": [
    "df_container_volume[(df_container_volume['Dept Category Desc'] == 'AUTO TIRES') & \\\n",
    "                   (df_container_volume['Units Per 20ft Container'] > 0) & \\\n",
    "                    (df_container_volume['Units Per 20ft Container'] < 200)]['Units Per 20ft Container'].hist();"
   ]
  },
  {
   "cell_type": "code",
   "execution_count": 108,
   "metadata": {},
   "outputs": [
    {
     "data": {
      "text/plain": [
       "count    38427.000000\n",
       "mean       925.565618\n",
       "std        997.771299\n",
       "min         10.000000\n",
       "25%        240.000000\n",
       "50%        825.000000\n",
       "75%       1485.000000\n",
       "max      41675.000000\n",
       "Name: Units Per 20ft Container, dtype: float64"
      ]
     },
     "execution_count": 108,
     "metadata": {},
     "output_type": "execute_result"
    }
   ],
   "source": [
    "df_container_volume[(df_container_volume['Dept Category Desc'] == 'AUTO TIRES') & \\\n",
    "                   (df_container_volume['Units Per 20ft Container'] > 0)]['Units Per 20ft Container'].describe()"
   ]
  },
  {
   "cell_type": "code",
   "execution_count": 109,
   "metadata": {},
   "outputs": [
    {
     "data": {
      "text/plain": [
       "count    5.444570e+05\n",
       "mean     1.179592e+04\n",
       "std      5.935637e+04\n",
       "min      7.000000e+00\n",
       "25%      9.510000e+02\n",
       "50%      3.550000e+03\n",
       "75%      1.043100e+04\n",
       "max      1.751580e+07\n",
       "Name: Units Per 20ft Container, dtype: float64"
      ]
     },
     "execution_count": 109,
     "metadata": {},
     "output_type": "execute_result"
    }
   ],
   "source": [
    "df_container_volume[(df_container_volume['SBU'] == 'APPAREL') & \\\n",
    "                   (df_container_volume['Units Per 20ft Container'] > 0)]['Units Per 20ft Container'].describe()"
   ]
  },
  {
   "cell_type": "code",
   "execution_count": 112,
   "metadata": {},
   "outputs": [
    {
     "data": {
      "text/html": [
       "<div>\n",
       "<style scoped>\n",
       "    .dataframe tbody tr th:only-of-type {\n",
       "        vertical-align: middle;\n",
       "    }\n",
       "\n",
       "    .dataframe tbody tr th {\n",
       "        vertical-align: top;\n",
       "    }\n",
       "\n",
       "    .dataframe thead th {\n",
       "        text-align: right;\n",
       "    }\n",
       "</style>\n",
       "<table border=\"1\" class=\"dataframe\">\n",
       "  <thead>\n",
       "    <tr style=\"text-align: right;\">\n",
       "      <th></th>\n",
       "      <th>Dept Category Desc</th>\n",
       "      <th>Units Per 20ft Container</th>\n",
       "    </tr>\n",
       "  </thead>\n",
       "  <tbody>\n",
       "    <tr>\n",
       "      <th>0</th>\n",
       "      <td>4K MOVIES</td>\n",
       "      <td>0.0</td>\n",
       "    </tr>\n",
       "    <tr>\n",
       "      <th>1</th>\n",
       "      <td>81  HAWAII MERCHANDISE</td>\n",
       "      <td>5692.0</td>\n",
       "    </tr>\n",
       "    <tr>\n",
       "      <th>2</th>\n",
       "      <td>90 INCUBATION SET</td>\n",
       "      <td>0.0</td>\n",
       "    </tr>\n",
       "    <tr>\n",
       "      <th>3</th>\n",
       "      <td>92 INCUBATION SET L2</td>\n",
       "      <td>0.0</td>\n",
       "    </tr>\n",
       "    <tr>\n",
       "      <th>4</th>\n",
       "      <td>99 SUPPLIES</td>\n",
       "      <td>0.0</td>\n",
       "    </tr>\n",
       "    <tr>\n",
       "      <th>...</th>\n",
       "      <td>...</td>\n",
       "      <td>...</td>\n",
       "    </tr>\n",
       "    <tr>\n",
       "      <th>1426</th>\n",
       "      <td>WRIST WORN</td>\n",
       "      <td>3300.0</td>\n",
       "    </tr>\n",
       "    <tr>\n",
       "      <th>1427</th>\n",
       "      <td>WRITING</td>\n",
       "      <td>9801.0</td>\n",
       "    </tr>\n",
       "    <tr>\n",
       "      <th>1428</th>\n",
       "      <td>YARN AND NEEDLE CRAFT</td>\n",
       "      <td>4754.0</td>\n",
       "    </tr>\n",
       "    <tr>\n",
       "      <th>1429</th>\n",
       "      <td>YOGURT</td>\n",
       "      <td>12319.0</td>\n",
       "    </tr>\n",
       "    <tr>\n",
       "      <th>1430</th>\n",
       "      <td>YOUTH SPORTS</td>\n",
       "      <td>3295.0</td>\n",
       "    </tr>\n",
       "  </tbody>\n",
       "</table>\n",
       "<p>1431 rows × 2 columns</p>\n",
       "</div>"
      ],
      "text/plain": [
       "          Dept Category Desc  Units Per 20ft Container\n",
       "0                  4K MOVIES                       0.0\n",
       "1     81  HAWAII MERCHANDISE                    5692.0\n",
       "2          90 INCUBATION SET                       0.0\n",
       "3       92 INCUBATION SET L2                       0.0\n",
       "4                99 SUPPLIES                       0.0\n",
       "...                      ...                       ...\n",
       "1426              WRIST WORN                    3300.0\n",
       "1427                 WRITING                    9801.0\n",
       "1428   YARN AND NEEDLE CRAFT                    4754.0\n",
       "1429                  YOGURT                   12319.0\n",
       "1430            YOUTH SPORTS                    3295.0\n",
       "\n",
       "[1431 rows x 2 columns]"
      ]
     },
     "execution_count": 112,
     "metadata": {},
     "output_type": "execute_result"
    }
   ],
   "source": [
    "df_container_volume.groupby('Dept Category Desc')['Units Per 20ft Container'].quantile(.5).reset_index()"
   ]
  },
  {
   "cell_type": "code",
   "execution_count": 141,
   "metadata": {},
   "outputs": [],
   "source": [
    "def replace_outliers(df, outlier_threshold, \n",
    "                     replace_quantile=0.5, \n",
    "                     replace_agg=['Dept Category Desc'],\n",
    "                    replace_col='Units Per 20ft Container'):\n",
    "    ''' \n",
    "    Replace outliers smaller than @outlier_threshold in @replace_col, \n",
    "    with @repalce_quantile of its @replace_agg group.\n",
    "    '''\n",
    "    # Generate value to replace outliers\n",
    "    replace_value_col = replace_col + \"_replace_value\"\n",
    "    if replace_value_col in df.columns:\n",
    "        # remove column if exist\n",
    "        df.drop(columns=[replace_value_col], inplace=True) \n",
    "    agg_quantile = df[df[replace_col] > 0].groupby(replace_agg)[replace_col].quantile(replace_quantile).reset_index()\n",
    "    agg_quantile.rename(columns={replace_col: replace_value_col}, inplace=True)\n",
    "    df = df.merge(agg_quantile, on=replace_agg)\n",
    "    \n",
    "    # Replace outliers\n",
    "    replaced_col = replace_col + \"_outlier_replaced\"\n",
    "    df[replaced_col] = np.where((df[replace_col] > 0) & (df[replace_col] < outlier_threshold), \n",
    "                               df[replace_value_col], df[replace_col])\n",
    "    return df"
   ]
  },
  {
   "cell_type": "code",
   "execution_count": 215,
   "metadata": {},
   "outputs": [
    {
     "data": {
      "text/plain": [
       "104382"
      ]
     },
     "execution_count": 215,
     "metadata": {},
     "output_type": "execute_result"
    }
   ],
   "source": [
    "df_container_volume[(df_container_volume['Units Per 20ft Container'] > 0) & \\\n",
    "                   (df_container_volume['Units Per 20ft Container'] < 100)].shape[0]"
   ]
  },
  {
   "cell_type": "code",
   "execution_count": 204,
   "metadata": {},
   "outputs": [],
   "source": [
    "df_test = replace_outliers(df_container_volume, 100)"
   ]
  },
  {
   "cell_type": "code",
   "execution_count": 205,
   "metadata": {},
   "outputs": [],
   "source": [
    "df_test = replace_outliers(df_test, 100, replace_agg=['Department Desc'])"
   ]
  },
  {
   "cell_type": "code",
   "execution_count": 206,
   "metadata": {},
   "outputs": [],
   "source": [
    "df_test = replace_outliers(df_test, 100, replace_agg=['SBU'])"
   ]
  },
  {
   "cell_type": "code",
   "execution_count": 207,
   "metadata": {},
   "outputs": [
    {
     "data": {
      "text/html": [
       "<div>\n",
       "<style scoped>\n",
       "    .dataframe tbody tr th:only-of-type {\n",
       "        vertical-align: middle;\n",
       "    }\n",
       "\n",
       "    .dataframe tbody tr th {\n",
       "        vertical-align: top;\n",
       "    }\n",
       "\n",
       "    .dataframe thead th {\n",
       "        text-align: right;\n",
       "    }\n",
       "</style>\n",
       "<table border=\"1\" class=\"dataframe\">\n",
       "  <thead>\n",
       "    <tr style=\"text-align: right;\">\n",
       "      <th></th>\n",
       "      <th>SBU</th>\n",
       "      <th>Item Number</th>\n",
       "      <th>Department Desc</th>\n",
       "      <th>Dept Category Desc</th>\n",
       "      <th>UPC Number</th>\n",
       "      <th>Item Description</th>\n",
       "      <th>Country of Origin</th>\n",
       "      <th>Net Ship Units</th>\n",
       "      <th>Net Ships Cost</th>\n",
       "      <th>Net Ship Retail</th>\n",
       "      <th>...</th>\n",
       "      <th>Units Per 20ft Container</th>\n",
       "      <th>Estimated 40ft Containers Per Month</th>\n",
       "      <th>Units Per 40ft Container</th>\n",
       "      <th>Channel_Clean</th>\n",
       "      <th>Estimated 20ft Containers</th>\n",
       "      <th>Estimated 40ft Containers</th>\n",
       "      <th>Calculated 20ft Containers</th>\n",
       "      <th>Calculated 40ft Containers</th>\n",
       "      <th>Units Per 20ft Container_outlier_replaced</th>\n",
       "      <th>Units Per 20ft Container_replace_value</th>\n",
       "    </tr>\n",
       "  </thead>\n",
       "  <tbody>\n",
       "    <tr>\n",
       "      <th>1585538</th>\n",
       "      <td>OTHERS</td>\n",
       "      <td>576644671</td>\n",
       "      <td>HEARING CENTER</td>\n",
       "      <td>HEARING AIDS</td>\n",
       "      <td>81294402562</td>\n",
       "      <td>2bhfl Rie Tubes Hifit110</td>\n",
       "      <td>CN</td>\n",
       "      <td>72.0</td>\n",
       "      <td>4608.00</td>\n",
       "      <td>5964.00</td>\n",
       "      <td>...</td>\n",
       "      <td>40.0</td>\n",
       "      <td>0.08</td>\n",
       "      <td>80.0</td>\n",
       "      <td>Domestic-Import</td>\n",
       "      <td>1.80</td>\n",
       "      <td>0.96</td>\n",
       "      <td>1.800000</td>\n",
       "      <td>0.900000</td>\n",
       "      <td>30.0</td>\n",
       "      <td>30.0</td>\n",
       "    </tr>\n",
       "    <tr>\n",
       "      <th>1585539</th>\n",
       "      <td>OTHERS</td>\n",
       "      <td>576644672</td>\n",
       "      <td>HEARING CENTER</td>\n",
       "      <td>HEARING AIDS</td>\n",
       "      <td>81294402563</td>\n",
       "      <td>2bhfr Rie Tube Hifit110</td>\n",
       "      <td>CN</td>\n",
       "      <td>100.0</td>\n",
       "      <td>6400.00</td>\n",
       "      <td>8089.00</td>\n",
       "      <td>...</td>\n",
       "      <td>40.0</td>\n",
       "      <td>0.10</td>\n",
       "      <td>80.0</td>\n",
       "      <td>Domestic-Import</td>\n",
       "      <td>2.52</td>\n",
       "      <td>1.20</td>\n",
       "      <td>2.500000</td>\n",
       "      <td>1.250000</td>\n",
       "      <td>30.0</td>\n",
       "      <td>30.0</td>\n",
       "    </tr>\n",
       "    <tr>\n",
       "      <th>1585541</th>\n",
       "      <td>OTHERS</td>\n",
       "      <td>576644674</td>\n",
       "      <td>HEARING CENTER</td>\n",
       "      <td>HEARING AIDS</td>\n",
       "      <td>81294402565</td>\n",
       "      <td>3bhfr Rie Tube Hifit110</td>\n",
       "      <td>CN</td>\n",
       "      <td>28.0</td>\n",
       "      <td>1792.00</td>\n",
       "      <td>2439.00</td>\n",
       "      <td>...</td>\n",
       "      <td>19.0</td>\n",
       "      <td>0.06</td>\n",
       "      <td>39.0</td>\n",
       "      <td>Domestic-Import</td>\n",
       "      <td>1.44</td>\n",
       "      <td>0.72</td>\n",
       "      <td>1.473684</td>\n",
       "      <td>0.717949</td>\n",
       "      <td>30.0</td>\n",
       "      <td>30.0</td>\n",
       "    </tr>\n",
       "    <tr>\n",
       "      <th>1585554</th>\n",
       "      <td>OTHERS</td>\n",
       "      <td>595483149</td>\n",
       "      <td>HEARING CENTER</td>\n",
       "      <td>HEARING AIDS</td>\n",
       "      <td>81294402757</td>\n",
       "      <td>Rechargeable Battery Beige</td>\n",
       "      <td>TH</td>\n",
       "      <td>248.0</td>\n",
       "      <td>17853.52</td>\n",
       "      <td>25803.04</td>\n",
       "      <td>...</td>\n",
       "      <td>10.0</td>\n",
       "      <td>1.03</td>\n",
       "      <td>20.0</td>\n",
       "      <td>Domestic-Import</td>\n",
       "      <td>24.84</td>\n",
       "      <td>12.36</td>\n",
       "      <td>24.800000</td>\n",
       "      <td>12.400000</td>\n",
       "      <td>30.0</td>\n",
       "      <td>30.0</td>\n",
       "    </tr>\n",
       "    <tr>\n",
       "      <th>1585555</th>\n",
       "      <td>OTHERS</td>\n",
       "      <td>595483166</td>\n",
       "      <td>HEARING CENTER</td>\n",
       "      <td>HEARING AIDS</td>\n",
       "      <td>81294402758</td>\n",
       "      <td>Rechargeable Battery Charger</td>\n",
       "      <td>TH</td>\n",
       "      <td>123.0</td>\n",
       "      <td>15742.77</td>\n",
       "      <td>25268.36</td>\n",
       "      <td>...</td>\n",
       "      <td>10.0</td>\n",
       "      <td>0.51</td>\n",
       "      <td>20.0</td>\n",
       "      <td>Domestic-Import</td>\n",
       "      <td>12.36</td>\n",
       "      <td>6.12</td>\n",
       "      <td>12.300000</td>\n",
       "      <td>6.150000</td>\n",
       "      <td>30.0</td>\n",
       "      <td>30.0</td>\n",
       "    </tr>\n",
       "    <tr>\n",
       "      <th>1585560</th>\n",
       "      <td>OTHERS</td>\n",
       "      <td>576644665</td>\n",
       "      <td>HEARING CENTER</td>\n",
       "      <td>HEARING AIDS</td>\n",
       "      <td>81294402695</td>\n",
       "      <td>U-32 Channel Hearing Aid Beige</td>\n",
       "      <td>CN</td>\n",
       "      <td>22.0</td>\n",
       "      <td>15758.88</td>\n",
       "      <td>36005.00</td>\n",
       "      <td>...</td>\n",
       "      <td>19.0</td>\n",
       "      <td>0.05</td>\n",
       "      <td>39.0</td>\n",
       "      <td>Domestic-Import</td>\n",
       "      <td>1.08</td>\n",
       "      <td>0.60</td>\n",
       "      <td>1.157895</td>\n",
       "      <td>0.564103</td>\n",
       "      <td>30.0</td>\n",
       "      <td>30.0</td>\n",
       "    </tr>\n",
       "    <tr>\n",
       "      <th>1585575</th>\n",
       "      <td>OTHERS</td>\n",
       "      <td>582113197</td>\n",
       "      <td>HEARING CENTER</td>\n",
       "      <td>HEARING AIDS</td>\n",
       "      <td>81294402825</td>\n",
       "      <td>U64 Ch Ha Brn</td>\n",
       "      <td>US</td>\n",
       "      <td>10.0</td>\n",
       "      <td>9783.14</td>\n",
       "      <td>14638.00</td>\n",
       "      <td>...</td>\n",
       "      <td>10.0</td>\n",
       "      <td>0.04</td>\n",
       "      <td>20.0</td>\n",
       "      <td>Domestic</td>\n",
       "      <td>0.96</td>\n",
       "      <td>0.48</td>\n",
       "      <td>1.000000</td>\n",
       "      <td>0.500000</td>\n",
       "      <td>30.0</td>\n",
       "      <td>30.0</td>\n",
       "    </tr>\n",
       "    <tr>\n",
       "      <th>1585576</th>\n",
       "      <td>OTHERS</td>\n",
       "      <td>582113198</td>\n",
       "      <td>HEARING CENTER</td>\n",
       "      <td>HEARING AIDS</td>\n",
       "      <td>81294402823</td>\n",
       "      <td>U64 Ch Ha Bge</td>\n",
       "      <td>US</td>\n",
       "      <td>83.0</td>\n",
       "      <td>69714.11</td>\n",
       "      <td>138505.00</td>\n",
       "      <td>...</td>\n",
       "      <td>20.0</td>\n",
       "      <td>0.17</td>\n",
       "      <td>40.0</td>\n",
       "      <td>Domestic</td>\n",
       "      <td>4.20</td>\n",
       "      <td>2.04</td>\n",
       "      <td>4.150000</td>\n",
       "      <td>2.075000</td>\n",
       "      <td>30.0</td>\n",
       "      <td>30.0</td>\n",
       "    </tr>\n",
       "    <tr>\n",
       "      <th>1585579</th>\n",
       "      <td>OTHERS</td>\n",
       "      <td>582113202</td>\n",
       "      <td>HEARING CENTER</td>\n",
       "      <td>HEARING AIDS</td>\n",
       "      <td>81294402788</td>\n",
       "      <td>U16 Ch Ha Brn</td>\n",
       "      <td>US</td>\n",
       "      <td>4.0</td>\n",
       "      <td>1045.26</td>\n",
       "      <td>4262.00</td>\n",
       "      <td>...</td>\n",
       "      <td>10.0</td>\n",
       "      <td>0.02</td>\n",
       "      <td>20.0</td>\n",
       "      <td>Domestic</td>\n",
       "      <td>0.36</td>\n",
       "      <td>0.24</td>\n",
       "      <td>0.400000</td>\n",
       "      <td>0.200000</td>\n",
       "      <td>30.0</td>\n",
       "      <td>30.0</td>\n",
       "    </tr>\n",
       "    <tr>\n",
       "      <th>1585581</th>\n",
       "      <td>OTHERS</td>\n",
       "      <td>594765580</td>\n",
       "      <td>HEARING CENTER</td>\n",
       "      <td>HEARING AIDS</td>\n",
       "      <td>81294402853</td>\n",
       "      <td>A32 Hearing Aid Grey</td>\n",
       "      <td>CN</td>\n",
       "      <td>8.0</td>\n",
       "      <td>4555.92</td>\n",
       "      <td>6048.00</td>\n",
       "      <td>...</td>\n",
       "      <td>10.0</td>\n",
       "      <td>0.03</td>\n",
       "      <td>20.0</td>\n",
       "      <td>Domestic-Import</td>\n",
       "      <td>0.84</td>\n",
       "      <td>0.36</td>\n",
       "      <td>0.800000</td>\n",
       "      <td>0.400000</td>\n",
       "      <td>30.0</td>\n",
       "      <td>30.0</td>\n",
       "    </tr>\n",
       "    <tr>\n",
       "      <th>1585583</th>\n",
       "      <td>OTHERS</td>\n",
       "      <td>594765583</td>\n",
       "      <td>HEARING CENTER</td>\n",
       "      <td>HEARING AIDS</td>\n",
       "      <td>81294402852</td>\n",
       "      <td>A32 Hearing Aid Brown</td>\n",
       "      <td>CN</td>\n",
       "      <td>6.0</td>\n",
       "      <td>2770.92</td>\n",
       "      <td>5646.00</td>\n",
       "      <td>...</td>\n",
       "      <td>10.0</td>\n",
       "      <td>0.03</td>\n",
       "      <td>20.0</td>\n",
       "      <td>Domestic-Import</td>\n",
       "      <td>0.60</td>\n",
       "      <td>0.36</td>\n",
       "      <td>0.600000</td>\n",
       "      <td>0.300000</td>\n",
       "      <td>30.0</td>\n",
       "      <td>30.0</td>\n",
       "    </tr>\n",
       "    <tr>\n",
       "      <th>1585587</th>\n",
       "      <td>OTHERS</td>\n",
       "      <td>594765588</td>\n",
       "      <td>HEARING CENTER</td>\n",
       "      <td>HEARING AIDS</td>\n",
       "      <td>81294402851</td>\n",
       "      <td>A32 Hearing Aid Black</td>\n",
       "      <td>CN</td>\n",
       "      <td>2.0</td>\n",
       "      <td>1138.98</td>\n",
       "      <td>1550.00</td>\n",
       "      <td>...</td>\n",
       "      <td>10.0</td>\n",
       "      <td>0.01</td>\n",
       "      <td>20.0</td>\n",
       "      <td>Domestic-Import</td>\n",
       "      <td>0.24</td>\n",
       "      <td>0.12</td>\n",
       "      <td>0.200000</td>\n",
       "      <td>0.100000</td>\n",
       "      <td>30.0</td>\n",
       "      <td>30.0</td>\n",
       "    </tr>\n",
       "    <tr>\n",
       "      <th>1585589</th>\n",
       "      <td>OTHERS</td>\n",
       "      <td>594765590</td>\n",
       "      <td>HEARING CENTER</td>\n",
       "      <td>HEARING AIDS</td>\n",
       "      <td>81294402856</td>\n",
       "      <td>A64 Hearing Aid Brown</td>\n",
       "      <td>CN</td>\n",
       "      <td>4.0</td>\n",
       "      <td>4260.34</td>\n",
       "      <td>5861.00</td>\n",
       "      <td>...</td>\n",
       "      <td>10.0</td>\n",
       "      <td>0.02</td>\n",
       "      <td>20.0</td>\n",
       "      <td>Domestic-Import</td>\n",
       "      <td>0.36</td>\n",
       "      <td>0.24</td>\n",
       "      <td>0.400000</td>\n",
       "      <td>0.200000</td>\n",
       "      <td>30.0</td>\n",
       "      <td>30.0</td>\n",
       "    </tr>\n",
       "    <tr>\n",
       "      <th>1585590</th>\n",
       "      <td>OTHERS</td>\n",
       "      <td>594765591</td>\n",
       "      <td>HEARING CENTER</td>\n",
       "      <td>HEARING AIDS</td>\n",
       "      <td>81294402859</td>\n",
       "      <td>A16 Hearing Aid Black</td>\n",
       "      <td>CN</td>\n",
       "      <td>2.0</td>\n",
       "      <td>636.64</td>\n",
       "      <td>1300.00</td>\n",
       "      <td>...</td>\n",
       "      <td>10.0</td>\n",
       "      <td>0.01</td>\n",
       "      <td>20.0</td>\n",
       "      <td>Domestic-Import</td>\n",
       "      <td>0.24</td>\n",
       "      <td>0.12</td>\n",
       "      <td>0.200000</td>\n",
       "      <td>0.100000</td>\n",
       "      <td>30.0</td>\n",
       "      <td>30.0</td>\n",
       "    </tr>\n",
       "    <tr>\n",
       "      <th>1585592</th>\n",
       "      <td>OTHERS</td>\n",
       "      <td>594765593</td>\n",
       "      <td>HEARING CENTER</td>\n",
       "      <td>HEARING AIDS</td>\n",
       "      <td>81294402860</td>\n",
       "      <td>A16 Hearing Aid Brown</td>\n",
       "      <td>CN</td>\n",
       "      <td>7.0</td>\n",
       "      <td>3254.33</td>\n",
       "      <td>5089.00</td>\n",
       "      <td>...</td>\n",
       "      <td>10.0</td>\n",
       "      <td>0.03</td>\n",
       "      <td>20.0</td>\n",
       "      <td>Domestic-Import</td>\n",
       "      <td>0.72</td>\n",
       "      <td>0.36</td>\n",
       "      <td>0.700000</td>\n",
       "      <td>0.350000</td>\n",
       "      <td>30.0</td>\n",
       "      <td>30.0</td>\n",
       "    </tr>\n",
       "    <tr>\n",
       "      <th>1585593</th>\n",
       "      <td>OTHERS</td>\n",
       "      <td>594765595</td>\n",
       "      <td>HEARING CENTER</td>\n",
       "      <td>HEARING AIDS</td>\n",
       "      <td>81294402862</td>\n",
       "      <td>A16 Hearing Aid Grey</td>\n",
       "      <td>CN</td>\n",
       "      <td>2.0</td>\n",
       "      <td>864.66</td>\n",
       "      <td>1150.00</td>\n",
       "      <td>...</td>\n",
       "      <td>10.0</td>\n",
       "      <td>0.01</td>\n",
       "      <td>20.0</td>\n",
       "      <td>Domestic-Import</td>\n",
       "      <td>0.24</td>\n",
       "      <td>0.12</td>\n",
       "      <td>0.200000</td>\n",
       "      <td>0.100000</td>\n",
       "      <td>30.0</td>\n",
       "      <td>30.0</td>\n",
       "    </tr>\n",
       "    <tr>\n",
       "      <th>1585594</th>\n",
       "      <td>OTHERS</td>\n",
       "      <td>595483164</td>\n",
       "      <td>HEARING CENTER</td>\n",
       "      <td>HEARING AIDS</td>\n",
       "      <td>81294402760</td>\n",
       "      <td>Rechargeable Battery Black</td>\n",
       "      <td>TH</td>\n",
       "      <td>6.0</td>\n",
       "      <td>431.94</td>\n",
       "      <td>636.64</td>\n",
       "      <td>...</td>\n",
       "      <td>10.0</td>\n",
       "      <td>0.03</td>\n",
       "      <td>20.0</td>\n",
       "      <td>Domestic-Import</td>\n",
       "      <td>0.60</td>\n",
       "      <td>0.36</td>\n",
       "      <td>0.600000</td>\n",
       "      <td>0.300000</td>\n",
       "      <td>30.0</td>\n",
       "      <td>30.0</td>\n",
       "    </tr>\n",
       "    <tr>\n",
       "      <th>1585595</th>\n",
       "      <td>OTHERS</td>\n",
       "      <td>595483165</td>\n",
       "      <td>HEARING CENTER</td>\n",
       "      <td>HEARING AIDS</td>\n",
       "      <td>81294402761</td>\n",
       "      <td>Rechargeable Battery Brown</td>\n",
       "      <td>TH</td>\n",
       "      <td>11.0</td>\n",
       "      <td>791.89</td>\n",
       "      <td>1234.20</td>\n",
       "      <td>...</td>\n",
       "      <td>10.0</td>\n",
       "      <td>0.05</td>\n",
       "      <td>20.0</td>\n",
       "      <td>Domestic-Import</td>\n",
       "      <td>1.08</td>\n",
       "      <td>0.60</td>\n",
       "      <td>1.100000</td>\n",
       "      <td>0.550000</td>\n",
       "      <td>30.0</td>\n",
       "      <td>30.0</td>\n",
       "    </tr>\n",
       "  </tbody>\n",
       "</table>\n",
       "<p>18 rows × 22 columns</p>\n",
       "</div>"
      ],
      "text/plain": [
       "            SBU  Item Number Department Desc Dept Category Desc   UPC Number  \\\n",
       "1585538  OTHERS    576644671  HEARING CENTER       HEARING AIDS  81294402562   \n",
       "1585539  OTHERS    576644672  HEARING CENTER       HEARING AIDS  81294402563   \n",
       "1585541  OTHERS    576644674  HEARING CENTER       HEARING AIDS  81294402565   \n",
       "1585554  OTHERS    595483149  HEARING CENTER       HEARING AIDS  81294402757   \n",
       "1585555  OTHERS    595483166  HEARING CENTER       HEARING AIDS  81294402758   \n",
       "1585560  OTHERS    576644665  HEARING CENTER       HEARING AIDS  81294402695   \n",
       "1585575  OTHERS    582113197  HEARING CENTER       HEARING AIDS  81294402825   \n",
       "1585576  OTHERS    582113198  HEARING CENTER       HEARING AIDS  81294402823   \n",
       "1585579  OTHERS    582113202  HEARING CENTER       HEARING AIDS  81294402788   \n",
       "1585581  OTHERS    594765580  HEARING CENTER       HEARING AIDS  81294402853   \n",
       "1585583  OTHERS    594765583  HEARING CENTER       HEARING AIDS  81294402852   \n",
       "1585587  OTHERS    594765588  HEARING CENTER       HEARING AIDS  81294402851   \n",
       "1585589  OTHERS    594765590  HEARING CENTER       HEARING AIDS  81294402856   \n",
       "1585590  OTHERS    594765591  HEARING CENTER       HEARING AIDS  81294402859   \n",
       "1585592  OTHERS    594765593  HEARING CENTER       HEARING AIDS  81294402860   \n",
       "1585593  OTHERS    594765595  HEARING CENTER       HEARING AIDS  81294402862   \n",
       "1585594  OTHERS    595483164  HEARING CENTER       HEARING AIDS  81294402760   \n",
       "1585595  OTHERS    595483165  HEARING CENTER       HEARING AIDS  81294402761   \n",
       "\n",
       "                       Item Description Country of Origin  Net Ship Units  \\\n",
       "1585538        2bhfl Rie Tubes Hifit110                CN            72.0   \n",
       "1585539         2bhfr Rie Tube Hifit110                CN           100.0   \n",
       "1585541         3bhfr Rie Tube Hifit110                CN            28.0   \n",
       "1585554      Rechargeable Battery Beige                TH           248.0   \n",
       "1585555    Rechargeable Battery Charger                TH           123.0   \n",
       "1585560  U-32 Channel Hearing Aid Beige                CN            22.0   \n",
       "1585575                   U64 Ch Ha Brn                US            10.0   \n",
       "1585576                   U64 Ch Ha Bge                US            83.0   \n",
       "1585579                   U16 Ch Ha Brn                US             4.0   \n",
       "1585581            A32 Hearing Aid Grey                CN             8.0   \n",
       "1585583           A32 Hearing Aid Brown                CN             6.0   \n",
       "1585587           A32 Hearing Aid Black                CN             2.0   \n",
       "1585589           A64 Hearing Aid Brown                CN             4.0   \n",
       "1585590           A16 Hearing Aid Black                CN             2.0   \n",
       "1585592           A16 Hearing Aid Brown                CN             7.0   \n",
       "1585593            A16 Hearing Aid Grey                CN             2.0   \n",
       "1585594      Rechargeable Battery Black                TH             6.0   \n",
       "1585595      Rechargeable Battery Brown                TH            11.0   \n",
       "\n",
       "         Net Ships Cost  Net Ship Retail  ... Units Per 20ft Container  \\\n",
       "1585538         4608.00          5964.00  ...                     40.0   \n",
       "1585539         6400.00          8089.00  ...                     40.0   \n",
       "1585541         1792.00          2439.00  ...                     19.0   \n",
       "1585554        17853.52         25803.04  ...                     10.0   \n",
       "1585555        15742.77         25268.36  ...                     10.0   \n",
       "1585560        15758.88         36005.00  ...                     19.0   \n",
       "1585575         9783.14         14638.00  ...                     10.0   \n",
       "1585576        69714.11        138505.00  ...                     20.0   \n",
       "1585579         1045.26          4262.00  ...                     10.0   \n",
       "1585581         4555.92          6048.00  ...                     10.0   \n",
       "1585583         2770.92          5646.00  ...                     10.0   \n",
       "1585587         1138.98          1550.00  ...                     10.0   \n",
       "1585589         4260.34          5861.00  ...                     10.0   \n",
       "1585590          636.64          1300.00  ...                     10.0   \n",
       "1585592         3254.33          5089.00  ...                     10.0   \n",
       "1585593          864.66          1150.00  ...                     10.0   \n",
       "1585594          431.94           636.64  ...                     10.0   \n",
       "1585595          791.89          1234.20  ...                     10.0   \n",
       "\n",
       "         Estimated 40ft Containers Per Month  Units Per 40ft Container  \\\n",
       "1585538                                 0.08                      80.0   \n",
       "1585539                                 0.10                      80.0   \n",
       "1585541                                 0.06                      39.0   \n",
       "1585554                                 1.03                      20.0   \n",
       "1585555                                 0.51                      20.0   \n",
       "1585560                                 0.05                      39.0   \n",
       "1585575                                 0.04                      20.0   \n",
       "1585576                                 0.17                      40.0   \n",
       "1585579                                 0.02                      20.0   \n",
       "1585581                                 0.03                      20.0   \n",
       "1585583                                 0.03                      20.0   \n",
       "1585587                                 0.01                      20.0   \n",
       "1585589                                 0.02                      20.0   \n",
       "1585590                                 0.01                      20.0   \n",
       "1585592                                 0.03                      20.0   \n",
       "1585593                                 0.01                      20.0   \n",
       "1585594                                 0.03                      20.0   \n",
       "1585595                                 0.05                      20.0   \n",
       "\n",
       "           Channel_Clean  Estimated 20ft Containers Estimated 40ft Containers  \\\n",
       "1585538  Domestic-Import                       1.80                      0.96   \n",
       "1585539  Domestic-Import                       2.52                      1.20   \n",
       "1585541  Domestic-Import                       1.44                      0.72   \n",
       "1585554  Domestic-Import                      24.84                     12.36   \n",
       "1585555  Domestic-Import                      12.36                      6.12   \n",
       "1585560  Domestic-Import                       1.08                      0.60   \n",
       "1585575         Domestic                       0.96                      0.48   \n",
       "1585576         Domestic                       4.20                      2.04   \n",
       "1585579         Domestic                       0.36                      0.24   \n",
       "1585581  Domestic-Import                       0.84                      0.36   \n",
       "1585583  Domestic-Import                       0.60                      0.36   \n",
       "1585587  Domestic-Import                       0.24                      0.12   \n",
       "1585589  Domestic-Import                       0.36                      0.24   \n",
       "1585590  Domestic-Import                       0.24                      0.12   \n",
       "1585592  Domestic-Import                       0.72                      0.36   \n",
       "1585593  Domestic-Import                       0.24                      0.12   \n",
       "1585594  Domestic-Import                       0.60                      0.36   \n",
       "1585595  Domestic-Import                       1.08                      0.60   \n",
       "\n",
       "         Calculated 20ft Containers  Calculated 40ft Containers  \\\n",
       "1585538                    1.800000                    0.900000   \n",
       "1585539                    2.500000                    1.250000   \n",
       "1585541                    1.473684                    0.717949   \n",
       "1585554                   24.800000                   12.400000   \n",
       "1585555                   12.300000                    6.150000   \n",
       "1585560                    1.157895                    0.564103   \n",
       "1585575                    1.000000                    0.500000   \n",
       "1585576                    4.150000                    2.075000   \n",
       "1585579                    0.400000                    0.200000   \n",
       "1585581                    0.800000                    0.400000   \n",
       "1585583                    0.600000                    0.300000   \n",
       "1585587                    0.200000                    0.100000   \n",
       "1585589                    0.400000                    0.200000   \n",
       "1585590                    0.200000                    0.100000   \n",
       "1585592                    0.700000                    0.350000   \n",
       "1585593                    0.200000                    0.100000   \n",
       "1585594                    0.600000                    0.300000   \n",
       "1585595                    1.100000                    0.550000   \n",
       "\n",
       "         Units Per 20ft Container_outlier_replaced  \\\n",
       "1585538                                       30.0   \n",
       "1585539                                       30.0   \n",
       "1585541                                       30.0   \n",
       "1585554                                       30.0   \n",
       "1585555                                       30.0   \n",
       "1585560                                       30.0   \n",
       "1585575                                       30.0   \n",
       "1585576                                       30.0   \n",
       "1585579                                       30.0   \n",
       "1585581                                       30.0   \n",
       "1585583                                       30.0   \n",
       "1585587                                       30.0   \n",
       "1585589                                       30.0   \n",
       "1585590                                       30.0   \n",
       "1585592                                       30.0   \n",
       "1585593                                       30.0   \n",
       "1585594                                       30.0   \n",
       "1585595                                       30.0   \n",
       "\n",
       "         Units Per 20ft Container_replace_value  \n",
       "1585538                                    30.0  \n",
       "1585539                                    30.0  \n",
       "1585541                                    30.0  \n",
       "1585554                                    30.0  \n",
       "1585555                                    30.0  \n",
       "1585560                                    30.0  \n",
       "1585575                                    30.0  \n",
       "1585576                                    30.0  \n",
       "1585579                                    30.0  \n",
       "1585581                                    30.0  \n",
       "1585583                                    30.0  \n",
       "1585587                                    30.0  \n",
       "1585589                                    30.0  \n",
       "1585590                                    30.0  \n",
       "1585592                                    30.0  \n",
       "1585593                                    30.0  \n",
       "1585594                                    30.0  \n",
       "1585595                                    30.0  \n",
       "\n",
       "[18 rows x 22 columns]"
      ]
     },
     "execution_count": 207,
     "metadata": {},
     "output_type": "execute_result"
    }
   ],
   "source": [
    "df_test[(df_test['Units Per 20ft Container_outlier_replaced'] > 0) & (df_test['Units Per 20ft Container_outlier_replaced'] < 100)]"
   ]
  },
  {
   "cell_type": "code",
   "execution_count": 208,
   "metadata": {},
   "outputs": [],
   "source": [
    "df_test['Calculated 20ft Containers_NO_Outlier'] = np.where(df_test['Units Per 20ft Container_outlier_replaced'] > 0,\n",
    "                                                                    df_test['Net Ship Units'] / df_test['Units Per 20ft Container_outlier_replaced'],\n",
    "                                                            0)"
   ]
  },
  {
   "cell_type": "code",
   "execution_count": 209,
   "metadata": {},
   "outputs": [],
   "source": [
    "check_agg(df_test, ['Channel_Clean'], \n",
    "         ['Net Ship Retail',\n",
    "           'Net Ship Units',\n",
    "             'Net Ships Cost',\n",
    "         'Calculated 20ft Containers_NO_Outlier']).to_clipboard()"
   ]
  },
  {
   "cell_type": "code",
   "execution_count": 173,
   "metadata": {},
   "outputs": [],
   "source": [
    "check_agg(df_test, ['Channel_Clean'], \n",
    "         ['Net_Ship_Retail',\n",
    "           'Net_Ship_Units',\n",
    "             'Net_Ships_Cost',\n",
    "         'Calculated_20ft_Containers_NO_Outlier']).to_clipboard()"
   ]
  },
  {
   "cell_type": "code",
   "execution_count": 149,
   "metadata": {},
   "outputs": [],
   "source": [
    "import pandas_gbq\n",
    "from google.cloud import bigquery\n",
    "%reload_ext google.cloud.bigquery\n",
    "# Set your default project here\n",
    "pandas_gbq.context.project = 'wmt-edw-sandbox'\n",
    "pandas_gbq.context.dialect = 'standard'"
   ]
  },
  {
   "cell_type": "code",
   "execution_count": 210,
   "metadata": {},
   "outputs": [
    {
     "name": "stderr",
     "output_type": "stream",
     "text": [
      "1it [07:45, 465.71s/it]\n"
     ]
    }
   ],
   "source": [
    "# formact column type\n",
    "df_test['UPC Number'] = df_test['UPC Number'].astype('int64')\n",
    "# format column names before uploading\n",
    "df_test.columns = [col.replace(\" \", \"_\") for col in df_test.columns]\n",
    "df_test.to_gbq('AD_HOC_RQ.BRI_Initiative_Import_Items',project_id='wmt-edw-sandbox',if_exists='replace')"
   ]
  },
  {
   "cell_type": "code",
   "execution_count": 179,
   "metadata": {},
   "outputs": [
    {
     "name": "stdout",
     "output_type": "stream",
     "text": [
      "Loading apparel_item_national_dep1.csv\n",
      "Loading apparel_item_national_dep2.csv\n",
      "Loading apparel_item_national_dep3.csv\n",
      "Loading apparel_item_private.csv\n",
      "Loading consumable_item.csv\n",
      "Loading entertainment_item.csv\n",
      "Loading food_item.csv\n",
      "Loading HL_item.csv\n",
      "Loading Home_item.csv\n",
      "Loading HW_item.csv\n",
      "Loading Others_item.csv\n",
      "Loading Toys_item.csv\n",
      "File read in 0.0 minutes and 35.0 seconds\n"
     ]
    }
   ],
   "source": [
    "# load item level report data\n",
    "start_time = time.time()\n",
    "df_item = load_csv_data_from_folder(item_folder_path, skiprows=0)\n",
    "end_time = time.time()\n",
    "\n",
    "duration_time = round(end_time - start_time, 0)\n",
    "print(f\"File read in {duration_time // 60} minutes and {duration_time % 60} seconds\")"
   ]
  },
  {
   "cell_type": "code",
   "execution_count": 183,
   "metadata": {},
   "outputs": [],
   "source": [
    "df_item_brand = df_item[['Item Number', 'Brand Indicator']].copy()"
   ]
  },
  {
   "cell_type": "code",
   "execution_count": 185,
   "metadata": {},
   "outputs": [],
   "source": [
    "df_item_brand.drop_duplicates(inplace=True)"
   ]
  },
  {
   "cell_type": "code",
   "execution_count": 187,
   "metadata": {},
   "outputs": [
    {
     "data": {
      "text/plain": [
       "595595262    1\n",
       "7363439      1\n",
       "595823762    1\n",
       "565674900    1\n",
       "595045265    1\n",
       "            ..\n",
       "662406598    1\n",
       "591109573    1\n",
       "652417817    1\n",
       "591113667    1\n",
       "595591168    1\n",
       "Name: Item Number, Length: 3875724, dtype: int64"
      ]
     },
     "execution_count": 187,
     "metadata": {},
     "output_type": "execute_result"
    }
   ],
   "source": [
    "df_item_brand['Item Number'].value_counts(ascending=False)"
   ]
  },
  {
   "cell_type": "code",
   "execution_count": 188,
   "metadata": {},
   "outputs": [
    {
     "name": "stderr",
     "output_type": "stream",
     "text": [
      "1it [01:31, 91.85s/it]\n"
     ]
    }
   ],
   "source": [
    "# save to bq table\n",
    "df_item_brand.columns = [col.replace(\" \", \"_\") for col in df_item_brand.columns]\n",
    "df_item_brand.to_gbq('AD_HOC_RQ.BRI_Initiative_Import_Item_Brand',project_id='wmt-edw-sandbox',if_exists='replace')"
   ]
  },
  {
   "cell_type": "code",
   "execution_count": 211,
   "metadata": {},
   "outputs": [
    {
     "name": "stderr",
     "output_type": "stream",
     "text": [
      "Query complete after 0.01s: 100%|████████████████████████████████████████████████████| 1/1 [00:00<00:00, 243.43query/s]\n",
      "Downloading: 100%|███████████████████████████████████████████████████████████| 13863/13863 [00:02<00:00, 5582.17rows/s]\n"
     ]
    }
   ],
   "source": [
    "%%bigquery df_final\n",
    "\n",
    "create or replace table `wmt-edw-sandbox.AD_HOC_RQ.BRI_Initiative_Import_Final` as (\n",
    "select SBU,\n",
    "  Department_Desc,\n",
    "  Dept_Category_Desc,\n",
    "  b.Brand_Indicator,\n",
    "  Country_of_Origin,\n",
    "  Channel,\n",
    "  Channel_Clean,\n",
    "  sum(Net_Ship_Units) as Net_Ship_Units,\n",
    "  sum(Net_Ships_Cost) as Net_Ships_Cost,\n",
    "  sum(Net_Ship_Retail) as Net_Ship_Retail,\n",
    "  sum(Calculated_20ft_Containers_NO_Outlier) as Estimated_20ft_Containers_NO_Outlier\n",
    "from `wmt-edw-sandbox.AD_HOC_RQ.BRI_Initiative_Import_Items` a \n",
    "left join `wmt-edw-sandbox.AD_HOC_RQ.BRI_Initiative_Import_Item_Brand` b \n",
    "  on a.Item_Number = b.Item_Number\n",
    "group by 1,2,3,4,5,6,7\n",
    "order by 1,2,3,4,5,6,7\n",
    ");\n",
    "\n",
    "select *\n",
    "from `wmt-edw-sandbox.AD_HOC_RQ.BRI_Initiative_Import_Final`"
   ]
  },
  {
   "cell_type": "code",
   "execution_count": 212,
   "metadata": {},
   "outputs": [],
   "source": [
    "check_agg(df_final, ['SBU', 'Channel_Clean', 'Brand_Indicator'],\n",
    "          ['Net_Ship_Units', 'Net_Ships_Cost', 'Net_Ship_Retail', 'Estimated_20ft_Containers_NO_Outlier']).to_clipboard()"
   ]
  },
  {
   "cell_type": "code",
   "execution_count": 213,
   "metadata": {},
   "outputs": [],
   "source": [
    "check_agg(df_final, ['Channel_Clean', 'Brand_Indicator'],\n",
    "          ['Net_Ship_Units', 'Net_Ships_Cost', 'Net_Ship_Retail', 'Estimated_20ft_Containers_NO_Outlier']).to_clipboard()"
   ]
  },
  {
   "cell_type": "code",
   "execution_count": 216,
   "metadata": {},
   "outputs": [],
   "source": [
    "df_final.to_csv(container_folder_path + \"//category_level_final_data.csv\")"
   ]
  },
  {
   "cell_type": "code",
   "execution_count": 223,
   "metadata": {},
   "outputs": [
    {
     "data": {
      "text/html": [
       "<div>\n",
       "<style scoped>\n",
       "    .dataframe tbody tr th:only-of-type {\n",
       "        vertical-align: middle;\n",
       "    }\n",
       "\n",
       "    .dataframe tbody tr th {\n",
       "        vertical-align: top;\n",
       "    }\n",
       "\n",
       "    .dataframe thead tr th {\n",
       "        text-align: left;\n",
       "    }\n",
       "\n",
       "    .dataframe thead tr:last-of-type th {\n",
       "        text-align: right;\n",
       "    }\n",
       "</style>\n",
       "<table border=\"1\" class=\"dataframe\">\n",
       "  <thead>\n",
       "    <tr>\n",
       "      <th></th>\n",
       "      <th colspan=\"8\" halign=\"left\">Units_Per_20ft_Container_outlier_replaced</th>\n",
       "    </tr>\n",
       "    <tr>\n",
       "      <th></th>\n",
       "      <th>count</th>\n",
       "      <th>mean</th>\n",
       "      <th>std</th>\n",
       "      <th>min</th>\n",
       "      <th>25%</th>\n",
       "      <th>50%</th>\n",
       "      <th>75%</th>\n",
       "      <th>max</th>\n",
       "    </tr>\n",
       "    <tr>\n",
       "      <th>Channel_Clean</th>\n",
       "      <th></th>\n",
       "      <th></th>\n",
       "      <th></th>\n",
       "      <th></th>\n",
       "      <th></th>\n",
       "      <th></th>\n",
       "      <th></th>\n",
       "      <th></th>\n",
       "    </tr>\n",
       "  </thead>\n",
       "  <tbody>\n",
       "    <tr>\n",
       "      <th>Domestic</th>\n",
       "      <td>391691.0</td>\n",
       "      <td>28151.754973</td>\n",
       "      <td>138721.235679</td>\n",
       "      <td>30.0</td>\n",
       "      <td>2699.0</td>\n",
       "      <td>7687.0</td>\n",
       "      <td>18731.0</td>\n",
       "      <td>30417561.0</td>\n",
       "    </tr>\n",
       "    <tr>\n",
       "      <th>Domestic-Import</th>\n",
       "      <td>631949.0</td>\n",
       "      <td>21793.910113</td>\n",
       "      <td>145895.057174</td>\n",
       "      <td>30.0</td>\n",
       "      <td>1700.0</td>\n",
       "      <td>3987.0</td>\n",
       "      <td>11428.0</td>\n",
       "      <td>46080000.0</td>\n",
       "    </tr>\n",
       "    <tr>\n",
       "      <th>Import</th>\n",
       "      <td>138545.0</td>\n",
       "      <td>30648.715666</td>\n",
       "      <td>165119.152098</td>\n",
       "      <td>100.0</td>\n",
       "      <td>3300.0</td>\n",
       "      <td>8750.0</td>\n",
       "      <td>19454.0</td>\n",
       "      <td>13430304.0</td>\n",
       "    </tr>\n",
       "  </tbody>\n",
       "</table>\n",
       "</div>"
      ],
      "text/plain": [
       "                Units_Per_20ft_Container_outlier_replaced                \\\n",
       "                                                    count          mean   \n",
       "Channel_Clean                                                             \n",
       "Domestic                                         391691.0  28151.754973   \n",
       "Domestic-Import                                  631949.0  21793.910113   \n",
       "Import                                           138545.0  30648.715666   \n",
       "\n",
       "                                                                            \n",
       "                           std    min     25%     50%      75%         max  \n",
       "Channel_Clean                                                               \n",
       "Domestic         138721.235679   30.0  2699.0  7687.0  18731.0  30417561.0  \n",
       "Domestic-Import  145895.057174   30.0  1700.0  3987.0  11428.0  46080000.0  \n",
       "Import           165119.152098  100.0  3300.0  8750.0  19454.0  13430304.0  "
      ]
     },
     "execution_count": 223,
     "metadata": {},
     "output_type": "execute_result"
    }
   ],
   "source": [
    "df_test[df_test['Units_Per_20ft_Container_outlier_replaced'] > 0].groupby('Channel_Clean')[['Units_Per_20ft_Container_outlier_replaced']].describe()"
   ]
  },
  {
   "cell_type": "code",
   "execution_count": 228,
   "metadata": {},
   "outputs": [],
   "source": [
    "df_test[df_test['Channel_Clean'] == 'Import'].sort_values('Calculated_20ft_Containers_NO_Outlier',\n",
    "                                                         ascending=False).head(20).to_clipboard()"
   ]
  },
  {
   "cell_type": "code",
   "execution_count": 225,
   "metadata": {},
   "outputs": [
    {
     "data": {
      "text/plain": [
       "Index(['SBU', 'Item_Number', 'Department_Desc', 'Dept_Category_Desc',\n",
       "       'UPC_Number', 'Item_Description', 'Country_of_Origin', 'Net_Ship_Units',\n",
       "       'Net_Ships_Cost', 'Net_Ship_Retail', 'Channel',\n",
       "       'Estimated_20ft_Containers_Per_Month', 'Units_Per_20ft_Container',\n",
       "       'Estimated_40ft_Containers_Per_Month', 'Units_Per_40ft_Container',\n",
       "       'Channel_Clean', 'Estimated_20ft_Containers',\n",
       "       'Estimated_40ft_Containers', 'Calculated_20ft_Containers',\n",
       "       'Calculated_40ft_Containers',\n",
       "       'Units_Per_20ft_Container_outlier_replaced',\n",
       "       'Units_Per_20ft_Container_replace_value',\n",
       "       'Calculated_20ft_Containers_NO_Outlier'],\n",
       "      dtype='object')"
      ]
     },
     "execution_count": 225,
     "metadata": {},
     "output_type": "execute_result"
    }
   ],
   "source": [
    "df_test.columns"
   ]
  },
  {
   "cell_type": "code",
   "execution_count": 230,
   "metadata": {},
   "outputs": [],
   "source": [
    "df_test2 = replace_outliers(df_container_volume, 500)\n",
    "df_test2 = replace_outliers(df_test2, 500, replace_agg=['Department Desc'])\n",
    "df_test2 = replace_outliers(df_test2, 500, replace_agg=['SBU'])"
   ]
  },
  {
   "cell_type": "code",
   "execution_count": 233,
   "metadata": {},
   "outputs": [],
   "source": [
    "df_test2['Calculated 20ft Containers_NO_Outlier'] = np.where(df_test2['Units Per 20ft Container_outlier_replaced'] > 0,\n",
    "                                                                    df_test2['Net Ship Units'] / df_test2['Units Per 20ft Container_outlier_replaced'],\n",
    "                                                            0)"
   ]
  },
  {
   "cell_type": "code",
   "execution_count": 243,
   "metadata": {},
   "outputs": [],
   "source": [
    "outlier_500 = df_test2.merge(df_item_brand, on='Item_Number', how='left')"
   ]
  },
  {
   "cell_type": "code",
   "execution_count": 246,
   "metadata": {},
   "outputs": [],
   "source": [
    "outlier_500.groupby(['Brand_Indicator', 'SBU', 'Channel_Clean'])['Calculated_20ft_Containers_NO_Outlier'].sum().to_clipboard()"
   ]
  },
  {
   "cell_type": "code",
   "execution_count": 258,
   "metadata": {},
   "outputs": [],
   "source": [
    "def test_outliers(outlier_threshold, df, df_item_brand):\n",
    "    ''' \n",
    "    Returns a DataFrame with units per 20ft container < @outlier_threshold replaced.\n",
    "    Merged with brand_indicator.\n",
    "    '''\n",
    "    df_test2 = replace_outliers(df, outlier_threshold)\n",
    "    df_test2 = replace_outliers(df_test2, outlier_threshold, replace_agg=['Department Desc'])\n",
    "    df_test2 = replace_outliers(df_test2, outlier_threshold, replace_agg=['SBU'])\n",
    "    df_test2['Calculated 20ft Containers_NO_Outlier'] = np.where(df_test2['Units Per 20ft Container_outlier_replaced'] > 0,\n",
    "                                                                    df_test2['Net Ship Units'] / df_test2['Units Per 20ft Container_outlier_replaced'],\n",
    "                                                            0)\n",
    "    \n",
    "    df_test2.columns = [col.replace(\" \", \"_\") for col in df_test2.columns]\n",
    "    outlier_df = df_test2.merge(df_item_brand, on='Item_Number', how='left')\n",
    "    return outlier_df"
   ]
  },
  {
   "cell_type": "code",
   "execution_count": 248,
   "metadata": {},
   "outputs": [],
   "source": [
    "outlier_1000 = test_outliers(1000, df_container_volume, df_item_brand)"
   ]
  },
  {
   "cell_type": "code",
   "execution_count": 249,
   "metadata": {},
   "outputs": [],
   "source": [
    "outlier_1000.groupby(['Brand_Indicator', 'SBU', 'Channel_Clean'])['Calculated_20ft_Containers_NO_Outlier'].sum().to_clipboard()"
   ]
  },
  {
   "cell_type": "code",
   "execution_count": 251,
   "metadata": {},
   "outputs": [],
   "source": [
    "outlier_200 = test_outliers(200, df_container_volume, df_item_brand)"
   ]
  },
  {
   "cell_type": "code",
   "execution_count": 252,
   "metadata": {},
   "outputs": [],
   "source": [
    "outlier_200.groupby(['Brand_Indicator', 'SBU', 'Channel_Clean'])['Calculated_20ft_Containers_NO_Outlier'].sum().to_clipboard()"
   ]
  },
  {
   "cell_type": "code",
   "execution_count": 253,
   "metadata": {},
   "outputs": [],
   "source": [
    "outlier_1500 = test_outliers(1500, df_container_volume, df_item_brand)\n",
    "outlier_1500.groupby(['Brand_Indicator', 'SBU', 'Channel_Clean'])['Calculated_20ft_Containers_NO_Outlier'].sum().to_clipboard()"
   ]
  },
  {
   "cell_type": "code",
   "execution_count": 254,
   "metadata": {},
   "outputs": [],
   "source": [
    "outlier_300 = test_outliers(300, df_container_volume, df_item_brand)\n",
    "outlier_300.groupby(['Brand_Indicator', 'SBU', 'Channel_Clean'])['Calculated_20ft_Containers_NO_Outlier'].sum().to_clipboard()"
   ]
  },
  {
   "cell_type": "code",
   "execution_count": 255,
   "metadata": {},
   "outputs": [],
   "source": [
    "outlier_100 = test_outliers(100, df_container_volume, df_item_brand)\n",
    "outlier_100.groupby(['Brand_Indicator', 'SBU', 'Channel_Clean'])['Calculated_20ft_Containers_NO_Outlier'].sum().to_clipboard()"
   ]
  },
  {
   "cell_type": "code",
   "execution_count": 257,
   "metadata": {},
   "outputs": [],
   "source": [
    "outlier_2000 = test_outliers(2000, df_container_volume, df_item_brand)\n",
    "outlier_2000.groupby(['Brand_Indicator', 'SBU', 'Channel_Clean'])['Calculated_20ft_Containers_NO_Outlier'].sum().to_clipboard()"
   ]
  },
  {
   "cell_type": "code",
   "execution_count": null,
   "metadata": {},
   "outputs": [],
   "source": []
  },
  {
   "cell_type": "markdown",
   "metadata": {},
   "source": [
    "### Process only ship metrics"
   ]
  },
  {
   "cell_type": "code",
   "execution_count": 24,
   "metadata": {},
   "outputs": [
    {
     "name": "stdout",
     "output_type": "stream",
     "text": [
      "Loading apparel_ship.xlsx\n",
      "Loading consumable_ship.xlsx\n",
      "Loading entertain_ship.xlsx\n",
      "Loading food_ship.xlsx\n",
      "Loading HL_ship.xlsx\n",
      "Loading Home_ship.xlsx\n",
      "Loading HW_ship.xlsx\n",
      "Loading Other_ship.xlsx\n",
      "Loading toys_ship.xlsx\n"
     ]
    }
   ],
   "source": [
    "folder_path = r'C:\\Users\\y0q00wv\\Documents\\Roger Qin\\Data Analytics\\BRI Import Analysis\\Spine Reports - Ship Metrics'\n",
    "df = load_data_from_folder(folder_path, skiprows=10)"
   ]
  },
  {
   "cell_type": "code",
   "execution_count": 26,
   "metadata": {},
   "outputs": [],
   "source": [
    "clean_channel(df, 'Channel', 'Country of Origin', 'United States')"
   ]
  },
  {
   "cell_type": "code",
   "execution_count": 29,
   "metadata": {},
   "outputs": [],
   "source": [
    "df.groupby('Channel_Clean').sum().to_clipboard()"
   ]
  },
  {
   "cell_type": "code",
   "execution_count": null,
   "metadata": {},
   "outputs": [],
   "source": []
  }
 ],
 "metadata": {
  "kernelspec": {
   "display_name": "Python 3",
   "language": "python",
   "name": "python3"
  },
  "language_info": {
   "codemirror_mode": {
    "name": "ipython",
    "version": 3
   },
   "file_extension": ".py",
   "mimetype": "text/x-python",
   "name": "python",
   "nbconvert_exporter": "python",
   "pygments_lexer": "ipython3",
   "version": "3.8.5"
  }
 },
 "nbformat": 4,
 "nbformat_minor": 4
}
